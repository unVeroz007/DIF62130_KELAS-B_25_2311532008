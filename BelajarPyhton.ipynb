{
  "cells": [
    {
      "cell_type": "markdown",
      "metadata": {
        "id": "view-in-github",
        "colab_type": "text"
      },
      "source": [
        "<a href=\"https://colab.research.google.com/github/unVeroz007/DIF62130_KELAS-B_25_2311532008/blob/main/BelajarPyhton.ipynb\" target=\"_parent\"><img src=\"https://colab.research.google.com/assets/colab-badge.svg\" alt=\"Open In Colab\"/></a>"
      ]
    },
    {
      "cell_type": "code",
      "execution_count": null,
      "metadata": {
        "colab": {
          "base_uri": "https://localhost:8080/"
        },
        "id": "skO0dLAvR-ES",
        "outputId": "d3c7cf19-91b5-4399-d63d-72df666bbf81"
      },
      "outputs": [
        {
          "output_type": "stream",
          "name": "stdout",
          "text": [
            "Hello, world!\n"
          ]
        }
      ],
      "source": [
        "print(\"Hello, world!\") #mengeluarkan output sesuai isi dari tanda kutip"
      ]
    },
    {
      "cell_type": "code",
      "execution_count": null,
      "metadata": {
        "colab": {
          "base_uri": "https://localhost:8080/"
        },
        "id": "txn36l8OSduC",
        "outputId": "2710b8bd-df36-4d42-fc54-d6b9baef993c"
      },
      "outputs": [
        {
          "name": "stdout",
          "output_type": "stream",
          "text": [
            "3\n"
          ]
        }
      ],
      "source": [
        "print(1 + 2) #melakukan penjumlahan sesuai angka yang ada di dalam tanda kurung"
      ]
    },
    {
      "cell_type": "code",
      "execution_count": null,
      "metadata": {
        "colab": {
          "base_uri": "https://localhost:8080/"
        },
        "id": "s0bzwnG8SgV5",
        "outputId": "3caa9097-51e4-417d-9264-b40a742bc3cb"
      },
      "outputs": [
        {
          "name": "stdout",
          "output_type": "stream",
          "text": [
            "4\n"
          ]
        }
      ],
      "source": [
        "print(9 - 5) #melakukan pengurangan sesuai angka yang ada di dalam tanda kurung"
      ]
    },
    {
      "cell_type": "code",
      "execution_count": null,
      "metadata": {
        "colab": {
          "base_uri": "https://localhost:8080/"
        },
        "id": "ZKXY92lOSh6I",
        "outputId": "c7c5724e-d46d-4e69-f4c4-0cc3c561bbdc"
      },
      "outputs": [
        {
          "name": "stdout",
          "output_type": "stream",
          "text": [
            "196.0\n"
          ]
        }
      ],
      "source": [
        "print(((1 + 3) * (9 - 2) / 2) ** 2) #melakukan operasi aritmatika sesuai angka yang ada di dalam tanda kurung"
      ]
    },
    {
      "cell_type": "code",
      "execution_count": null,
      "metadata": {
        "colab": {
          "base_uri": "https://localhost:8080/"
        },
        "id": "zXays48JSh36",
        "outputId": "4d4b3f1f-8d11-46fa-99c1-7e6ee3b6d343"
      },
      "outputs": [
        {
          "name": "stdout",
          "output_type": "stream",
          "text": [
            "6\n"
          ]
        }
      ],
      "source": [
        "# Multiply 3 by 2\n",
        "print(3 * 2) #melakukan perkalian sesuai angka yang ada di dalam tanda kurung"
      ]
    },
    {
      "cell_type": "code",
      "execution_count": null,
      "metadata": {
        "colab": {
          "base_uri": "https://localhost:8080/",
          "height": 106
        },
        "id": "52kbxwVsSh1l",
        "outputId": "7dff4077-855c-465a-bd6a-eb8070c5b05a"
      },
      "outputs": [
        {
          "ename": "SyntaxError",
          "evalue": "invalid syntax (<ipython-input-7-5e10cca23819>, line 1)",
          "output_type": "error",
          "traceback": [
            "\u001b[0;36m  File \u001b[0;32m\"<ipython-input-7-5e10cca23819>\"\u001b[0;36m, line \u001b[0;32m1\u001b[0m\n\u001b[0;31m    File \"/tmp/ipykernel_18/3750420471.py\", line 1\u001b[0m\n\u001b[0m         ^\u001b[0m\n\u001b[0;31mSyntaxError\u001b[0m\u001b[0;31m:\u001b[0m invalid syntax\n"
          ]
        }
      ],
      "source": [
        "  File \"/tmp/ipykernel_18/3750420471.py\", line 1\n",
        "    Multiply 3 by 2"
      ]
    },
    {
      "cell_type": "code",
      "execution_count": null,
      "metadata": {
        "colab": {
          "base_uri": "https://localhost:8080/"
        },
        "id": "o7Nq59VwShy_",
        "outputId": "858f91a2-9539-4191-8905-6fe87d2080a5"
      },
      "outputs": [
        {
          "name": "stdout",
          "output_type": "stream",
          "text": [
            "9\n"
          ]
        }
      ],
      "source": [
        "test_var = 4 + 5 #melakukan penjumlahan sesuai angka yang ada di dalam tanda kurung\n",
        "\n",
        "# Print the value of test_var\n",
        "print(test_var)  #mengeluarkan output sesuai isi dari tanda kurung"
      ]
    },
    {
      "cell_type": "code",
      "execution_count": null,
      "metadata": {
        "colab": {
          "base_uri": "https://localhost:8080/"
        },
        "id": "oFAJsZKRShwz",
        "outputId": "73a6727a-61b4-4229-8d81-274b6fcdf221"
      },
      "outputs": [
        {
          "name": "stdout",
          "output_type": "stream",
          "text": [
            "3\n",
            "100\n"
          ]
        }
      ],
      "source": [
        "# Set the value of a new variable to 3\n",
        "my_var = 3 #melakukan penugasan nilai sesuai angka yang ada di dalam tanda kurung\n",
        "\n",
        "# Print the value assigned to my_var\n",
        "print(my_var) #mengeluarkan output sesuai isi dari tanda kurung\n",
        "\n",
        "# Change the value of the variable to 100\n",
        "my_var = 100 #melakukan penugasan nilai sesuai angka yang ada di dalam tanda kurung\n",
        "\n",
        "# Print the new value assigned to my_var\n",
        "print(my_var) #mengeluarkan output sesuai isi dari tanda kurung"
      ]
    },
    {
      "cell_type": "code",
      "execution_count": null,
      "metadata": {
        "colab": {
          "base_uri": "https://localhost:8080/"
        },
        "id": "HcBso9btSht6",
        "outputId": "f5c84860-9a05-409a-f543-e926c626be57"
      },
      "outputs": [
        {
          "name": "stdout",
          "output_type": "stream",
          "text": [
            "100\n",
            "9\n"
          ]
        }
      ],
      "source": [
        "print(my_var) #mengeluarkan output sesuai isi dari tanda kurung\n",
        "print(test_var) #mengeluarkan output sesuai isi dari tanda kurung"
      ]
    },
    {
      "cell_type": "code",
      "execution_count": null,
      "metadata": {
        "colab": {
          "base_uri": "https://localhost:8080/"
        },
        "id": "F-S2AYVGShpt",
        "outputId": "7146f29a-8da6-4ae6-9c63-89f46816b457"
      },
      "outputs": [
        {
          "name": "stdout",
          "output_type": "stream",
          "text": [
            "103\n"
          ]
        }
      ],
      "source": [
        "my_var = my_var + 3 #melakukan penugasan nilai sesuai nilai ditambah angka yang ada\n",
        "\n",
        "print(my_var) #engeluarkan output sesuai isi dari tanda kurung"
      ]
    },
    {
      "cell_type": "code",
      "execution_count": null,
      "metadata": {
        "colab": {
          "base_uri": "https://localhost:8080/"
        },
        "id": "IShdO9fKShmO",
        "outputId": "0311aab3-49fe-4569-c507-75f7947e1758"
      },
      "outputs": [
        {
          "name": "stdout",
          "output_type": "stream",
          "text": [
            "126144000\n"
          ]
        }
      ],
      "source": [
        "# Create variables\n",
        "num_years = 4 #num_years = 4 → Jumlah tahun yang ingin dihitung (4 tahun).\n",
        "\n",
        "days_per_year = 365 #days_per_year = 365 → Jumlah hari dalam satu tahun (diasumsikan tahun biasa, tanpa tahun kabisat).\n",
        "hours_per_day = 24 # hours_per_day = 24 → Jumlah jam dalam satu hari (24 jam).\n",
        "mins_per_hour = 60 #mins_per_hour = 60 → Jumlah menit dalam satu jam (60 menit).\n",
        "secs_per_min = 60 #secs_per_min = 60 → Jumlah detik dalam satu menit (60 detik).\n",
        "\n",
        "\n",
        "total_secs = secs_per_min * mins_per_hour * hours_per_day * days_per_year * num_years #menghitung jumlah detik dalam empat tahun\n",
        "print(total_secs) #mengeluarkan output sesuai isi dari tanda kurung"
      ]
    },
    {
      "cell_type": "code",
      "execution_count": null,
      "metadata": {
        "colab": {
          "base_uri": "https://localhost:8080/"
        },
        "id": "EoanT6ZoTXwW",
        "outputId": "75c2a1e9-b24d-4bae-cd45-47d054858a35"
      },
      "outputs": [
        {
          "name": "stdout",
          "output_type": "stream",
          "text": [
            "126230400.0\n"
          ]
        }
      ],
      "source": [
        "days_per_year = 365.25 #mengupdate waktu tahun\n",
        "\n",
        "# Calculate number of seconds in four years\n",
        "total_secs = secs_per_min * mins_per_hour * hours_per_day * days_per_year * num_years #menghitung jumlah detik dalam empat tahun\n",
        "print(total_secs) #mengeluarkan output sesuai isi dari tanda kurung"
      ]
    },
    {
      "cell_type": "code",
      "execution_count": null,
      "metadata": {
        "colab": {
          "base_uri": "https://localhost:8080/",
          "height": 159
        },
        "id": "4IusgDOFTXtt",
        "outputId": "d5e9581d-9ca7-483f-b72f-ea1a199e6f60"
      },
      "outputs": [
        {
          "ename": "NameError",
          "evalue": "name 'hours_per_dy' is not defined",
          "output_type": "error",
          "traceback": [
            "\u001b[0;31m---------------------------------------------------------------------------\u001b[0m",
            "\u001b[0;31mNameError\u001b[0m                                 Traceback (most recent call last)",
            "\u001b[0;32m<ipython-input-15-e844f14b2354>\u001b[0m in \u001b[0;36m<cell line: 0>\u001b[0;34m()\u001b[0m\n\u001b[0;32m----> 1\u001b[0;31m \u001b[0mprint\u001b[0m\u001b[0;34m(\u001b[0m\u001b[0mhours_per_dy\u001b[0m\u001b[0;34m)\u001b[0m\u001b[0;34m\u001b[0m\u001b[0;34m\u001b[0m\u001b[0m\n\u001b[0m\u001b[1;32m      2\u001b[0m \u001b[0mprint\u001b[0m\u001b[0;34m(\u001b[0m\u001b[0mhours_per_day\u001b[0m\u001b[0;34m)\u001b[0m\u001b[0;34m\u001b[0m\u001b[0;34m\u001b[0m\u001b[0m\n",
            "\u001b[0;31mNameError\u001b[0m: name 'hours_per_dy' is not defined"
          ]
        }
      ],
      "source": [
        "print(hours_per_dy) #menampilkan error karena hours_per_dy tidak didefinisikan"
      ]
    },
    {
      "cell_type": "code",
      "execution_count": null,
      "metadata": {
        "colab": {
          "base_uri": "https://localhost:8080/"
        },
        "id": "RfHJoHx0TXrb",
        "outputId": "e1e8456d-d058-4d50-8b59-21ab081af74e"
      },
      "outputs": [
        {
          "name": "stdout",
          "output_type": "stream",
          "text": [
            "24\n"
          ]
        }
      ],
      "source": [
        "print(hours_per_day) #menampilkan output sesuai isi dari tanda kurung"
      ]
    },
    {
      "cell_type": "code",
      "execution_count": null,
      "metadata": {
        "colab": {
          "base_uri": "https://localhost:8080/"
        },
        "id": "ypTfRYUsTXo9",
        "outputId": "5da92f3a-ea38-4196-847c-c80129ecb768"
      },
      "outputs": [
        {
          "name": "stdout",
          "output_type": "stream",
          "text": [
            "6\n"
          ]
        }
      ],
      "source": [
        "def add_three(input_var): #mendefinisikan fungsi\n",
        "    output_var = input_var + 3 #menambahkan angka 3 ke input_var\n",
        "    return output_var #menampilkan output sesuai isi dari tanda kurung\n",
        "print(add_three(3)) #menampilkan output sesuai isi dari tanda kurung"
      ]
    },
    {
      "cell_type": "code",
      "execution_count": null,
      "metadata": {
        "colab": {
          "base_uri": "https://localhost:8080/"
        },
        "id": "uGIvioJBTXmw",
        "outputId": "944639e7-c0da-488a-c97a-09cba4bb97dc"
      },
      "outputs": [
        {
          "name": "stdout",
          "output_type": "stream",
          "text": [
            "13\n"
          ]
        }
      ],
      "source": [
        "new_number = add_three(10) #menambahkan angka 3 ke 10\n",
        "\n",
        "print(new_number) #menampilkan output sesuai isi dari tanda kurung"
      ]
    },
    {
      "cell_type": "code",
      "execution_count": null,
      "metadata": {
        "id": "nqFVMUXVTXkX"
      },
      "outputs": [],
      "source": [
        "def get_pay(num_hours): #mendefinisikan fungsi\n",
        "    # Pre-tax pay, based on receiving $15/hour\n",
        "    pay_pretax = num_hours * 15 #menghitung gaji sebelum pajak\n",
        "    # After-tax pay, based on being in 12% tax bracket\n",
        "    pay_aftertax = pay_pretax * (1 - .12) #menghitung gaji setelah pajak\n",
        "    return pay_aftertax #menampilkan output sesuai isi dari tanda kurung"
      ]
    },
    {
      "cell_type": "code",
      "execution_count": null,
      "metadata": {
        "colab": {
          "base_uri": "https://localhost:8080/"
        },
        "id": "4AXPN66STXhx",
        "outputId": "4934a9ef-43f5-424d-e41f-bca679eb841e"
      },
      "outputs": [
        {
          "name": "stdout",
          "output_type": "stream",
          "text": [
            "528.0\n"
          ]
        }
      ],
      "source": [
        "# Calculate pay based on working 40 hours\n",
        "pay_fulltime = get_pay(40) #menghitung gaji dalam satu minggu\n",
        "print(pay_fulltime) #menampilkan output sesuai isi dari tanda kurung"
      ]
    },
    {
      "cell_type": "code",
      "execution_count": null,
      "metadata": {
        "colab": {
          "base_uri": "https://localhost:8080/"
        },
        "id": "u9ucVUe0aUAz",
        "outputId": "55b70927-a220-4d71-83ec-cb3f3030e887"
      },
      "outputs": [
        {
          "name": "stdout",
          "output_type": "stream",
          "text": [
            "422.4\n"
          ]
        }
      ],
      "source": [
        "pay_parttime = get_pay(32) #menghitung gaji dalam satu minggu\n",
        "print(pay_parttime) #menampilkan output sesuai isi dari tanda kurung"
      ]
    },
    {
      "cell_type": "code",
      "execution_count": null,
      "metadata": {
        "colab": {
          "base_uri": "https://localhost:8080/",
          "height": 141
        },
        "id": "ECN_8aeOaT-s",
        "outputId": "257b9a64-9446-4d1e-aa74-b93ce8f68f76"
      },
      "outputs": [
        {
          "ename": "NameError",
          "evalue": "name 'pay_aftertax' is not defined",
          "output_type": "error",
          "traceback": [
            "\u001b[0;31m---------------------------------------------------------------------------\u001b[0m",
            "\u001b[0;31mNameError\u001b[0m                                 Traceback (most recent call last)",
            "\u001b[0;32m<ipython-input-24-0dc6de9a0e5a>\u001b[0m in \u001b[0;36m<cell line: 0>\u001b[0;34m()\u001b[0m\n\u001b[0;32m----> 1\u001b[0;31m \u001b[0mprint\u001b[0m\u001b[0;34m(\u001b[0m\u001b[0mpay_aftertax\u001b[0m\u001b[0;34m)\u001b[0m\u001b[0;34m\u001b[0m\u001b[0;34m\u001b[0m\u001b[0m\n\u001b[0m",
            "\u001b[0;31mNameError\u001b[0m: name 'pay_aftertax' is not defined"
          ]
        }
      ],
      "source": [
        "print(pay_aftertax) #menampilkan error karena pay_aftertax tidak didefinisikan"
      ]
    },
    {
      "cell_type": "code",
      "execution_count": null,
      "metadata": {
        "id": "VmSf9yXIaT8J"
      },
      "outputs": [],
      "source": [
        "def get_pay_with_more_inputs(num_hours, hourly_wage, tax_bracket): #mendefinisikan fungsi\n",
        "    # Pre-tax pay\n",
        "    pay_pretax = num_hours * hourly_wage #menghitung gaji sebelum pajak\n",
        "    # After-tax pay\n",
        "    pay_aftertax = pay_pretax * (1 - tax_bracket) #menghitung gaji setelah pajak\n",
        "    return pay_aftertax #menampilkan output sesuai isi dari tanda kurung"
      ]
    },
    {
      "cell_type": "code",
      "execution_count": null,
      "metadata": {
        "colab": {
          "base_uri": "https://localhost:8080/",
          "height": 159
        },
        "id": "gjmzdnhXaT5i",
        "outputId": "ca2524fd-6183-46ae-9cd0-e63bdd72b08a"
      },
      "outputs": [
        {
          "output_type": "error",
          "ename": "NameError",
          "evalue": "name 'get_pay_with_more_inputs' is not defined",
          "traceback": [
            "\u001b[0;31m---------------------------------------------------------------------------\u001b[0m",
            "\u001b[0;31mNameError\u001b[0m                                 Traceback (most recent call last)",
            "\u001b[0;32m<ipython-input-47-118201f526ca>\u001b[0m in \u001b[0;36m<cell line: 0>\u001b[0;34m()\u001b[0m\n\u001b[0;32m----> 1\u001b[0;31m \u001b[0mhigher_pay_aftertax\u001b[0m \u001b[0;34m=\u001b[0m \u001b[0mget_pay_with_more_inputs\u001b[0m\u001b[0;34m(\u001b[0m\u001b[0;36m40\u001b[0m\u001b[0;34m,\u001b[0m \u001b[0;36m24\u001b[0m\u001b[0;34m,\u001b[0m \u001b[0;36m.22\u001b[0m\u001b[0;34m)\u001b[0m \u001b[0;31m#menghitung gaji dalam satu minggu\u001b[0m\u001b[0;34m\u001b[0m\u001b[0;34m\u001b[0m\u001b[0m\n\u001b[0m\u001b[1;32m      2\u001b[0m \u001b[0mprint\u001b[0m\u001b[0;34m(\u001b[0m\u001b[0mhigher_pay_aftertax\u001b[0m\u001b[0;34m)\u001b[0m \u001b[0;31m#menampilkan output sesuai isi dari tanda kurung\u001b[0m\u001b[0;34m\u001b[0m\u001b[0;34m\u001b[0m\u001b[0m\n",
            "\u001b[0;31mNameError\u001b[0m: name 'get_pay_with_more_inputs' is not defined"
          ]
        }
      ],
      "source": [
        "higher_pay_aftertax = get_pay_with_more_inputs(40, 24, .22) #menghitung gaji dalam satu minggu\n",
        "print(higher_pay_aftertax) #menampilkan output sesuai isi dari tanda kurung"
      ]
    },
    {
      "cell_type": "code",
      "execution_count": null,
      "metadata": {
        "colab": {
          "base_uri": "https://localhost:8080/"
        },
        "id": "mhKAExnxbD6B",
        "outputId": "61df0e4c-08c7-4db9-fbcc-46f52d4f82bc"
      },
      "outputs": [
        {
          "name": "stdout",
          "output_type": "stream",
          "text": [
            "528.0\n"
          ]
        }
      ],
      "source": [
        "same_pay_fulltime = get_pay_with_more_inputs(40, 15, .12) #menghitung gaji dalam satu minggu\n",
        "print(same_pay_fulltime) #menampilkan output sesuai isi dari tanda kurung"
      ]
    },
    {
      "cell_type": "code",
      "execution_count": null,
      "metadata": {
        "colab": {
          "base_uri": "https://localhost:8080/"
        },
        "id": "6BsJZz32bD4L",
        "outputId": "3794c92f-1d32-4f47-afce-51793688da49"
      },
      "outputs": [
        {
          "name": "stdout",
          "output_type": "stream",
          "text": [
            "Hello, you!\n",
            "Good morning!\n"
          ]
        }
      ],
      "source": [
        "# Define the function with no arguments and with no return\n",
        "def print_hello():\n",
        "    print(\"Hello, you!\")\n",
        "    print(\"Good morning!\")\n",
        "\n",
        "# Call the function\n",
        "print_hello()"
      ]
    },
    {
      "cell_type": "code",
      "execution_count": null,
      "metadata": {
        "colab": {
          "base_uri": "https://localhost:8080/"
        },
        "id": "vQ9Hm2fsRJp_",
        "outputId": "d2ec04c7-0971-43af-f96e-bb188d418104"
      },
      "outputs": [
        {
          "name": "stdout",
          "output_type": "stream",
          "text": [
            "14\n",
            "<class 'int'>\n"
          ]
        }
      ],
      "source": [
        "x = 14 #menugasan nilai sesuai angka yang ada di dalam tanda kurung\n",
        "print(x)\n",
        "print(type(x))  #menampilkan output sesuai isi dari tanda kurung"
      ]
    },
    {
      "cell_type": "code",
      "execution_count": null,
      "metadata": {
        "colab": {
          "base_uri": "https://localhost:8080/"
        },
        "id": "RVVSc0BqRJnW",
        "outputId": "4fafabf9-7be7-4686-a36b-04289a0ea117"
      },
      "outputs": [
        {
          "name": "stdout",
          "output_type": "stream",
          "text": [
            "3.141592653589793\n",
            "<class 'float'>\n"
          ]
        }
      ],
      "source": [
        "nearly_pi = 3.141592653589793238462643383279502884197169399375105820974944 #deklarasi vaiabel\n",
        "print(nearly_pi) #menampilkan output sesuai isi dari deklarasi\n",
        "print(type(nearly_pi)) #menampilkan output type data sesuai isi dari deklarasi"
      ]
    },
    {
      "cell_type": "code",
      "execution_count": null,
      "metadata": {
        "colab": {
          "base_uri": "https://localhost:8080/"
        },
        "id": "Xyk7ZlymRJgn",
        "outputId": "65e373e9-ab55-4153-8d5d-f459526be91b"
      },
      "outputs": [
        {
          "name": "stdout",
          "output_type": "stream",
          "text": [
            "3.142857142857143\n",
            "<class 'float'>\n"
          ]
        }
      ],
      "source": [
        "almost_pi = 22/7\n",
        "print(almost_pi)\n",
        "print(type(almost_pi))"
      ]
    },
    {
      "cell_type": "code",
      "execution_count": null,
      "metadata": {
        "colab": {
          "base_uri": "https://localhost:8080/"
        },
        "id": "G-ytMohRRJeA",
        "outputId": "abbe3f6e-b946-4f09-a0d4-442e31b7a351"
      },
      "outputs": [
        {
          "name": "stdout",
          "output_type": "stream",
          "text": [
            "3.14286\n",
            "<class 'float'>\n"
          ]
        }
      ],
      "source": [
        "# Round to 5 decimal places\n",
        "rounded_pi = round(almost_pi, 5)\n",
        "print(rounded_pi)\n",
        "print(type(rounded_pi))"
      ]
    },
    {
      "cell_type": "code",
      "execution_count": null,
      "metadata": {
        "colab": {
          "base_uri": "https://localhost:8080/"
        },
        "id": "tiuo7Q0ERJbM",
        "outputId": "16de3407-201b-4b7f-da9f-e402bf7627df"
      },
      "outputs": [
        {
          "name": "stdout",
          "output_type": "stream",
          "text": [
            "1.0\n",
            "<class 'float'>\n"
          ]
        }
      ],
      "source": [
        "y_float = 1.\n",
        "print(y_float)\n",
        "print(type(y_float))"
      ]
    },
    {
      "cell_type": "code",
      "execution_count": null,
      "metadata": {
        "colab": {
          "base_uri": "https://localhost:8080/"
        },
        "id": "ha3tbNllRJY8",
        "outputId": "c9523ab9-99c9-435c-a525-7432379f01c7"
      },
      "outputs": [
        {
          "name": "stdout",
          "output_type": "stream",
          "text": [
            "True\n",
            "<class 'bool'>\n"
          ]
        }
      ],
      "source": [
        "z_one = True\n",
        "print(z_one)\n",
        "print(type(z_one))"
      ]
    },
    {
      "cell_type": "code",
      "execution_count": null,
      "metadata": {
        "colab": {
          "base_uri": "https://localhost:8080/"
        },
        "id": "oOz64dTXRJV7",
        "outputId": "c652dc8a-3864-48c6-a795-b453453ced35"
      },
      "outputs": [
        {
          "name": "stdout",
          "output_type": "stream",
          "text": [
            "False\n",
            "<class 'bool'>\n"
          ]
        }
      ],
      "source": [
        "z_two = False\n",
        "print(z_two)\n",
        "print(type(z_two))"
      ]
    },
    {
      "cell_type": "code",
      "execution_count": null,
      "metadata": {
        "colab": {
          "base_uri": "https://localhost:8080/"
        },
        "id": "2MFAbMIuz8l9",
        "outputId": "f779d428-4152-4433-d1e0-1208226dbaa9"
      },
      "outputs": [
        {
          "name": "stdout",
          "output_type": "stream",
          "text": [
            "True\n",
            "<class 'bool'>\n"
          ]
        }
      ],
      "source": [
        "z_three = (1 < 2)\n",
        "print(z_three)\n",
        "print(type(z_three))\n"
      ]
    },
    {
      "cell_type": "code",
      "execution_count": null,
      "metadata": {
        "colab": {
          "base_uri": "https://localhost:8080/"
        },
        "id": "lqmxmhOkz8ju",
        "outputId": "7213d7db-d17b-4259-b267-21d62d734980"
      },
      "outputs": [
        {
          "name": "stdout",
          "output_type": "stream",
          "text": [
            "False\n",
            "<class 'bool'>\n"
          ]
        }
      ],
      "source": [
        "z_four = (5 < 3)\n",
        "print(z_four)\n",
        "print(type(z_four))"
      ]
    },
    {
      "cell_type": "code",
      "execution_count": null,
      "metadata": {
        "colab": {
          "base_uri": "https://localhost:8080/"
        },
        "id": "Q0-bNHk1z8g-",
        "outputId": "8df69710-0ee5-4579-de1e-611ff54d7560"
      },
      "outputs": [
        {
          "name": "stdout",
          "output_type": "stream",
          "text": [
            "True\n",
            "<class 'bool'>\n"
          ]
        }
      ],
      "source": [
        "z_five = not z_four\n",
        "print(z_five)\n",
        "print(type(z_five))"
      ]
    },
    {
      "cell_type": "code",
      "execution_count": null,
      "metadata": {
        "colab": {
          "base_uri": "https://localhost:8080/"
        },
        "id": "fJXe_6N-z8eU",
        "outputId": "84f6045e-5850-4714-b64b-a89b7ae1ad71"
      },
      "outputs": [
        {
          "name": "stdout",
          "output_type": "stream",
          "text": [
            "Hello, Python!\n",
            "<class 'str'>\n"
          ]
        }
      ],
      "source": [
        "w = \"Hello, Python!\"\n",
        "print(w)\n",
        "print(type(w))"
      ]
    },
    {
      "cell_type": "code",
      "execution_count": null,
      "metadata": {
        "colab": {
          "base_uri": "https://localhost:8080/"
        },
        "id": "zeJn7_DD0Fzo",
        "outputId": "45f60271-480d-492b-dba4-7601ddfeead1"
      },
      "outputs": [
        {
          "name": "stdout",
          "output_type": "stream",
          "text": [
            "14\n"
          ]
        }
      ],
      "source": [
        "print(len(w)) #menampilkan panjang isi variabel didalam tanda kuruung"
      ]
    },
    {
      "cell_type": "code",
      "execution_count": null,
      "metadata": {
        "colab": {
          "base_uri": "https://localhost:8080/"
        },
        "id": "hbqTRJhS0FvL",
        "outputId": "189377db-1932-411d-b0c9-5bb6727b7d74"
      },
      "outputs": [
        {
          "name": "stdout",
          "output_type": "stream",
          "text": [
            "<class 'str'>\n",
            "0\n"
          ]
        }
      ],
      "source": [
        "shortest_string = \"\" #mendeklarasikan variabel\n",
        "print(type(shortest_string)) #menampilkan type data\n",
        "print(len(shortest_string)) #menampilkan panjang isi variabel didalam tanda kuruung\n"
      ]
    },
    {
      "cell_type": "code",
      "execution_count": null,
      "metadata": {
        "colab": {
          "base_uri": "https://localhost:8080/"
        },
        "id": "rPFuo9Sk0FtK",
        "outputId": "1cf8e708-210d-4fee-825f-8e0799953d53"
      },
      "outputs": [
        {
          "name": "stdout",
          "output_type": "stream",
          "text": [
            "1.12321\n",
            "<class 'str'>\n"
          ]
        }
      ],
      "source": [
        "my_number = \"1.12321\"\n",
        "print(my_number)\n",
        "print(type(my_number))\n"
      ]
    },
    {
      "cell_type": "code",
      "execution_count": null,
      "metadata": {
        "colab": {
          "base_uri": "https://localhost:8080/"
        },
        "id": "bHt0Lj0t0Frv",
        "outputId": "c5140953-a441-47e6-fd55-2a0718e3a78c"
      },
      "outputs": [
        {
          "name": "stdout",
          "output_type": "stream",
          "text": [
            "1.12321\n",
            "<class 'float'>\n"
          ]
        }
      ],
      "source": [
        "also_my_number = float(my_number)\n",
        "print(also_my_number)\n",
        "print(type(also_my_number))"
      ]
    },
    {
      "cell_type": "code",
      "execution_count": null,
      "metadata": {
        "colab": {
          "base_uri": "https://localhost:8080/"
        },
        "id": "Lebl3dcr0Qr0",
        "outputId": "d72415ef-9ba3-433f-c01e-8b6d98187cca"
      },
      "outputs": [
        {
          "name": "stdout",
          "output_type": "stream",
          "text": [
            "abcdef\n",
            "<class 'str'>\n"
          ]
        }
      ],
      "source": [
        "new_string = \"abc\" + \"def\"\n",
        "print(new_string)\n",
        "print(type(new_string))"
      ]
    },
    {
      "cell_type": "code",
      "execution_count": null,
      "metadata": {
        "colab": {
          "base_uri": "https://localhost:8080/"
        },
        "id": "9ob-vP4h0QpZ",
        "outputId": "0d7f486d-98b3-4c8a-df21-00517074af6d"
      },
      "outputs": [
        {
          "name": "stdout",
          "output_type": "stream",
          "text": [
            "abcabcabc\n",
            "<class 'str'>\n"
          ]
        }
      ],
      "source": [
        "newest_string = \"abc\" * 3 #mengulang isi variabel sebanyak angka yang ada\n",
        "print(newest_string)\n",
        "print(type(newest_string))\n"
      ]
    },
    {
      "cell_type": "code",
      "execution_count": null,
      "metadata": {
        "colab": {
          "base_uri": "https://localhost:8080/",
          "height": 141
        },
        "id": "xKgieUDq0Qnh",
        "outputId": "ed8b22b6-6dce-4800-e3ab-9229d4665c88"
      },
      "outputs": [
        {
          "ename": "TypeError",
          "evalue": "can't multiply sequence by non-int of type 'float'",
          "output_type": "error",
          "traceback": [
            "\u001b[0;31m---------------------------------------------------------------------------\u001b[0m",
            "\u001b[0;31mTypeError\u001b[0m                                 Traceback (most recent call last)",
            "\u001b[0;32m<ipython-input-18-a9abcd83c0c9>\u001b[0m in \u001b[0;36m<cell line: 0>\u001b[0;34m()\u001b[0m\n\u001b[0;32m----> 1\u001b[0;31m \u001b[0mwill_not_work\u001b[0m \u001b[0;34m=\u001b[0m \u001b[0;34m\"abc\"\u001b[0m \u001b[0;34m*\u001b[0m \u001b[0;36m3.\u001b[0m\u001b[0;34m\u001b[0m\u001b[0;34m\u001b[0m\u001b[0m\n\u001b[0m",
            "\u001b[0;31mTypeError\u001b[0m: can't multiply sequence by non-int of type 'float'"
          ]
        }
      ],
      "source": [
        "will_not_work = \"abc\" * 3.\n"
      ]
    },
    {
      "cell_type": "code",
      "execution_count": null,
      "metadata": {
        "id": "NyW64Y4GRJS7"
      },
      "outputs": [],
      "source": [
        "def evaluate_temp(temp):\n",
        "    # Set an initial message\n",
        "    message = \"Normal temperature.\"\n",
        "    # Update value of message only if temperature greater than 38\n",
        "    if temp > 38:\n",
        "        message = \"Fever!\"\n",
        "    return message"
      ]
    },
    {
      "cell_type": "code",
      "execution_count": null,
      "metadata": {
        "colab": {
          "base_uri": "https://localhost:8080/"
        },
        "id": "pR8RAeFtRJLt",
        "outputId": "29cbb1ea-ff67-4925-bffd-34550fdc8139"
      },
      "outputs": [
        {
          "name": "stdout",
          "output_type": "stream",
          "text": [
            "Normal temperature.\n"
          ]
        }
      ],
      "source": [
        "print(evaluate_temp(37)) #menampilkan output sesuai isi dari deklarasi"
      ]
    },
    {
      "cell_type": "code",
      "execution_count": null,
      "metadata": {
        "colab": {
          "base_uri": "https://localhost:8080/"
        },
        "id": "dXz2fjWJbD1k",
        "outputId": "861500c3-eae3-483b-ca75-ad41de25c974"
      },
      "outputs": [
        {
          "name": "stdout",
          "output_type": "stream",
          "text": [
            "Fever!\n"
          ]
        }
      ],
      "source": [
        "print(evaluate_temp(39))"
      ]
    },
    {
      "cell_type": "code",
      "execution_count": null,
      "metadata": {
        "id": "slBtLANbbDy5"
      },
      "outputs": [],
      "source": [
        "def evaluate_temp_with_else(temp): #menggunakan kondisional untuk menampilkan kondisi output sesuai inputan\n",
        "    if temp > 38:\n",
        "        message = \"Fever!\"\n",
        "    else:\n",
        "        message = \"Normal temperature.\"\n",
        "    return message"
      ]
    },
    {
      "cell_type": "code",
      "execution_count": null,
      "metadata": {
        "colab": {
          "base_uri": "https://localhost:8080/"
        },
        "id": "R7W6YVzvR_Lo",
        "outputId": "64592c59-9897-4160-daf5-085fbf42f161"
      },
      "outputs": [
        {
          "name": "stdout",
          "output_type": "stream",
          "text": [
            "Normal temperature.\n"
          ]
        }
      ],
      "source": [
        "print(evaluate_temp_with_else(37)) /#menampilkan output sesuai isi dari deklarasi dan kondisi"
      ]
    },
    {
      "cell_type": "code",
      "execution_count": null,
      "metadata": {
        "id": "crzK5OPKR_JI"
      },
      "outputs": [],
      "source": [
        "def evaluate_temp_with_elif(temp):\n",
        "    if temp > 38:\n",
        "        message = \"Fever!\"\n",
        "    elif temp > 35:\n",
        "        message = \"Normal temperature.\"\n",
        "    else:\n",
        "        message = \"Low temperature.\"\n",
        "    return message"
      ]
    },
    {
      "cell_type": "code",
      "execution_count": null,
      "metadata": {
        "colab": {
          "base_uri": "https://localhost:8080/",
          "height": 35
        },
        "id": "2TEeZ7TER_Gu",
        "outputId": "fe98566a-513b-4679-9a4f-af47cc9f1cec"
      },
      "outputs": [
        {
          "data": {
            "application/vnd.google.colaboratory.intrinsic+json": {
              "type": "string"
            },
            "text/plain": [
              "'Normal temperature.'"
            ]
          },
          "execution_count": 7,
          "metadata": {},
          "output_type": "execute_result"
        }
      ],
      "source": [
        "evaluate_temp_with_elif(36)"
      ]
    },
    {
      "cell_type": "code",
      "execution_count": null,
      "metadata": {
        "colab": {
          "base_uri": "https://localhost:8080/",
          "height": 35
        },
        "id": "RPDspnaHR_D-",
        "outputId": "de19f3a7-fc02-47af-c04c-aefe5348711c"
      },
      "outputs": [
        {
          "data": {
            "application/vnd.google.colaboratory.intrinsic+json": {
              "type": "string"
            },
            "text/plain": [
              "'Low temperature.'"
            ]
          },
          "execution_count": 8,
          "metadata": {},
          "output_type": "execute_result"
        }
      ],
      "source": [
        "evaluate_temp_with_elif(34)"
      ]
    },
    {
      "cell_type": "code",
      "execution_count": null,
      "metadata": {
        "id": "D5me5xYxR_Bi"
      },
      "outputs": [],
      "source": [
        "def get_taxes(earnings): #mendefinisikan fungsi\n",
        "    if earnings < 12000: #kondisional untuk menampilkan kondisi output sesuai inputan\n",
        "        tax_owed = .25 * earnings\n",
        "    else:\n",
        "        tax_owed = .30 * earnings\n",
        "    return tax_owed"
      ]
    },
    {
      "cell_type": "code",
      "execution_count": null,
      "metadata": {
        "colab": {
          "base_uri": "https://localhost:8080/"
        },
        "id": "487vEvq1R--5",
        "outputId": "3924f172-b994-43ca-df32-3a8fb4f887b8"
      },
      "outputs": [
        {
          "name": "stdout",
          "output_type": "stream",
          "text": [
            "2250.0\n",
            "4500.0\n"
          ]
        }
      ],
      "source": [
        "ana_taxes = get_taxes(9000)\n",
        "bob_taxes = get_taxes(15000)\n",
        "\n",
        "print(ana_taxes)\n",
        "print(bob_taxes)"
      ]
    },
    {
      "cell_type": "code",
      "execution_count": null,
      "metadata": {
        "id": "wgLBEUQ3R-6l"
      },
      "outputs": [],
      "source": [
        "def add_three_or_eight(number):\n",
        "    if number < 10:\n",
        "        result = number + 3\n",
        "    else:\n",
        "        result = number + 8\n",
        "    return result"
      ]
    },
    {
      "cell_type": "code",
      "execution_count": null,
      "metadata": {
        "id": "A8EqpE9aR-36"
      },
      "outputs": [],
      "source": [
        "def get_dose(weight):\n",
        "    # Dosage is 1.25 ml for anyone under 5.2 kg\n",
        "    if weight < 5.2:\n",
        "        dose = 1.25\n",
        "    elif weight < 7.9:\n",
        "        dose = 2.5\n",
        "    elif weight < 10.4:\n",
        "        dose = 3.75\n",
        "    elif weight < 15.9:\n",
        "        dose = 5\n",
        "    elif weight < 21.2:\n",
        "        dose = 7.5\n",
        "    # Dosage is 10 ml for anyone 21.2 kg or over\n",
        "    else:\n",
        "        dose = 10\n",
        "    return dose"
      ]
    },
    {
      "cell_type": "code",
      "execution_count": null,
      "metadata": {
        "colab": {
          "base_uri": "https://localhost:8080/"
        },
        "id": "HC0VjWG7R-2r",
        "outputId": "54491558-6ea6-4938-b72d-07e2cec60aa9"
      },
      "outputs": [
        {
          "name": "stdout",
          "output_type": "stream",
          "text": [
            "5\n"
          ]
        }
      ],
      "source": [
        "print(get_dose(12))"
      ]
    },
    {
      "cell_type": "code",
      "execution_count": null,
      "metadata": {
        "colab": {
          "base_uri": "https://localhost:8080/"
        },
        "id": "c7jciBeER-08",
        "outputId": "5592a3c6-a5d4-4ac9-f909-54eabce8040c"
      },
      "outputs": [
        {
          "name": "stdout",
          "output_type": "stream",
          "text": [
            "5\n"
          ]
        }
      ],
      "source": [
        "print(get_dose(12))"
      ]
    },
    {
      "cell_type": "code",
      "execution_count": null,
      "metadata": {
        "colab": {
          "base_uri": "https://localhost:8080/"
        },
        "id": "43VOZ3AZR-zM",
        "outputId": "6630b43d-38f2-47ff-df3c-71e149c0e45a"
      },
      "outputs": [
        {
          "name": "stdout",
          "output_type": "stream",
          "text": [
            "<class 'str'>\n",
            "pink primrose,hard-leaved pocket orchid,canterbury bells,sweet pea,english marigold,tiger lily,moon orchid,bird of paradise,monkshood,globe thistle\n"
          ]
        }
      ],
      "source": [
        "flowers = \"pink primrose,hard-leaved pocket orchid,canterbury bells,sweet pea,english marigold,tiger lily,moon orchid,bird of paradise,monkshood,globe thistle\"\n",
        "\n",
        "print(type(flowers)) #menampilkan type data\n",
        "print(flowers) #mengeluarkan output"
      ]
    },
    {
      "cell_type": "code",
      "execution_count": null,
      "metadata": {
        "colab": {
          "base_uri": "https://localhost:8080/"
        },
        "id": "vB7xnNCIR-wW",
        "outputId": "1d79211c-b418-4edf-f848-8beae2d666d7"
      },
      "outputs": [
        {
          "name": "stdout",
          "output_type": "stream",
          "text": [
            "<class 'list'>\n",
            "['pink primrose', 'hard-leaved pocket orchid', 'canterbury bells', 'sweet pea', 'english marigold', 'tiger lily', 'moon orchid', 'bird of paradise', 'monkshood', 'globe thistle']\n"
          ]
        }
      ],
      "source": [
        "flowers_list = [\"pink primrose\", \"hard-leaved pocket orchid\", \"canterbury bells\", \"sweet pea\", \"english marigold\", \"tiger lily\", \"moon orchid\", \"bird of paradise\", \"monkshood\", \"globe thistle\"]\n",
        "\n",
        "print(type(flowers_list))\n",
        "print(flowers_list)"
      ]
    },
    {
      "cell_type": "code",
      "execution_count": null,
      "metadata": {
        "colab": {
          "base_uri": "https://localhost:8080/"
        },
        "id": "fmAtFyYPR-ty",
        "outputId": "8becab36-85c7-412d-aaba-ee3595c1c634"
      },
      "outputs": [
        {
          "name": "stdout",
          "output_type": "stream",
          "text": [
            "10\n"
          ]
        }
      ],
      "source": [
        "# The list has ten entries\n",
        "print(len(flowers_list))"
      ]
    },
    {
      "cell_type": "code",
      "execution_count": null,
      "metadata": {
        "colab": {
          "base_uri": "https://localhost:8080/"
        },
        "id": "jgQVcmGq0jqp",
        "outputId": "d07d8969-4387-40c6-fb97-843d84d64cb0"
      },
      "outputs": [
        {
          "name": "stdout",
          "output_type": "stream",
          "text": [
            "First entry: pink primrose\n",
            "Second entry: hard-leaved pocket orchid\n",
            "Last entry: globe thistle\n"
          ]
        }
      ],
      "source": [
        "print(\"First entry:\", flowers_list[0])\n",
        "print(\"Second entry:\", flowers_list[1])\n",
        "\n",
        "# The list has length ten, so we refer to final entry with 9\n",
        "print(\"Last entry:\", flowers_list[9])"
      ]
    },
    {
      "cell_type": "code",
      "execution_count": null,
      "metadata": {
        "colab": {
          "base_uri": "https://localhost:8080/"
        },
        "id": "85uhu5DT0jnf",
        "outputId": "306e4214-78d1-4047-ca15-88839224094c"
      },
      "outputs": [
        {
          "name": "stdout",
          "output_type": "stream",
          "text": [
            "First three entries: ['pink primrose', 'hard-leaved pocket orchid', 'canterbury bells']\n",
            "Final two entries: ['monkshood', 'globe thistle']\n"
          ]
        }
      ],
      "source": [
        "print(\"First three entries:\", flowers_list[:3])\n",
        "print(\"Final two entries:\", flowers_list[-2:])"
      ]
    },
    {
      "cell_type": "code",
      "execution_count": null,
      "metadata": {
        "colab": {
          "base_uri": "https://localhost:8080/"
        },
        "id": "PU6YMjGT0jis",
        "outputId": "da6fc2c0-2b0c-4749-938a-b3c1889e6abb"
      },
      "outputs": [
        {
          "name": "stdout",
          "output_type": "stream",
          "text": [
            "['pink primrose', 'hard-leaved pocket orchid', 'canterbury bells', 'sweet pea', 'english marigold', 'tiger lily', 'moon orchid', 'bird of paradise', 'monkshood']\n"
          ]
        }
      ],
      "source": [
        "flowers_list.remove(\"globe thistle\") #mengeluarkan isi list sesuai yg di dalam kurung\n",
        "print(flowers_list)"
      ]
    },
    {
      "cell_type": "code",
      "execution_count": null,
      "metadata": {
        "colab": {
          "base_uri": "https://localhost:8080/"
        },
        "id": "bt49J7wF0jfv",
        "outputId": "7aba733b-7e9a-46a8-a614-a0d3e0c40624"
      },
      "outputs": [
        {
          "name": "stdout",
          "output_type": "stream",
          "text": [
            "['pink primrose', 'hard-leaved pocket orchid', 'canterbury bells', 'sweet pea', 'english marigold', 'tiger lily', 'moon orchid', 'bird of paradise', 'monkshood', 'snapdragon']\n"
          ]
        }
      ],
      "source": [
        "flowers_list.append(\"snapdragon\") #menambahkan isi baru sesuai isi di dalam kurung\n",
        "print(flowers_list)"
      ]
    },
    {
      "cell_type": "code",
      "execution_count": 1,
      "metadata": {
        "id": "j3Im7R4G0r4S"
      },
      "outputs": [],
      "source": [
        "hardcover_sales = [139, 128, 172, 139, 191, 168, 170] #mendeklarasikan list"
      ]
    },
    {
      "cell_type": "code",
      "execution_count": null,
      "metadata": {
        "colab": {
          "base_uri": "https://localhost:8080/"
        },
        "id": "pp-SV9aA0r1y",
        "outputId": "a11743f0-2625-4e7d-f97a-e2f06a2eba15"
      },
      "outputs": [
        {
          "name": "stdout",
          "output_type": "stream",
          "text": [
            "Length of the list: 7\n",
            "Entry at index 2: 172\n"
          ]
        }
      ],
      "source": [
        "print(\"Length of the list:\", len(hardcover_sales)) #menampilkan panjang list\n",
        "print(\"Entry at index 2:\", hardcover_sales[2]) #menampilkan isi indeks susuai indeks yg diminita"
      ]
    },
    {
      "cell_type": "code",
      "execution_count": null,
      "metadata": {
        "colab": {
          "base_uri": "https://localhost:8080/"
        },
        "id": "dRJUUn8w0ry8",
        "outputId": "5b90fb49-afe7-4406-f8a6-edd782a31252"
      },
      "outputs": [
        {
          "name": "stdout",
          "output_type": "stream",
          "text": [
            "Minimum: 128\n",
            "Maximum: 191\n"
          ]
        }
      ],
      "source": [
        "print(\"Minimum:\", min(hardcover_sales)) #menampilkan nilai min\n",
        "print(\"Maximum:\", max(hardcover_sales)) #menampilan nilai max"
      ]
    },
    {
      "cell_type": "code",
      "execution_count": null,
      "metadata": {
        "colab": {
          "base_uri": "https://localhost:8080/"
        },
        "id": "YJdhjgQk0vtU",
        "outputId": "3e54565e-587c-4bf6-c589-346056a505a6"
      },
      "outputs": [
        {
          "name": "stdout",
          "output_type": "stream",
          "text": [
            "Total books sold in one week: 1107\n"
          ]
        }
      ],
      "source": [
        "print(\"Total books sold in one week:\", sum(hardcover_sales)) #menjumlahkan semua isi dalam list"
      ]
    },
    {
      "cell_type": "code",
      "execution_count": null,
      "metadata": {
        "colab": {
          "base_uri": "https://localhost:8080/"
        },
        "id": "4LUaHhnb0vqi",
        "outputId": "8ac2c4b6-ca14-4539-d59c-773387f77d2d"
      },
      "outputs": [
        {
          "name": "stdout",
          "output_type": "stream",
          "text": [
            "Average books sold in first five days: 153.8\n"
          ]
        }
      ],
      "source": [
        "print(\"Average books sold in first five days:\", sum(hardcover_sales[:5])/5) #menampilkan rata rata buku terjual\n"
      ]
    },
    {
      "cell_type": "code",
      "execution_count": null,
      "metadata": {
        "colab": {
          "base_uri": "https://localhost:8080/"
        },
        "id": "TcmSyYYnC02E",
        "outputId": "f8b3eb44-d8c2-4282-d44d-1c66af6ccab5"
      },
      "outputs": [
        {
          "name": "stdout",
          "output_type": "stream",
          "text": [
            "Help on built-in function round in module builtins:\n",
            "\n",
            "round(number, ndigits=None)\n",
            "    Round a number to a given precision in decimal digits.\n",
            "    \n",
            "    The return value is an integer if ndigits is omitted or None.  Otherwise\n",
            "    the return value has the same type as the number.  ndigits may be negative.\n",
            "\n"
          ]
        }
      ],
      "source": [
        "help(round) #menampilkan dokumentasi dari fungsi yg digunakan"
      ]
    },
    {
      "cell_type": "code",
      "execution_count": 3,
      "metadata": {
        "id": "eIm1b1wqC0zm",
        "colab": {
          "base_uri": "https://localhost:8080/"
        },
        "outputId": "8a132942-885f-4148-b50a-269a8da3584b"
      },
      "outputs": [
        {
          "output_type": "stream",
          "name": "stdout",
          "text": [
            "Help on int object:\n",
            "\n",
            "class int(object)\n",
            " |  int([x]) -> integer\n",
            " |  int(x, base=10) -> integer\n",
            " |  \n",
            " |  Convert a number or string to an integer, or return 0 if no arguments\n",
            " |  are given.  If x is a number, return x.__int__().  For floating point\n",
            " |  numbers, this truncates towards zero.\n",
            " |  \n",
            " |  If x is not a number or if base is given, then x must be a string,\n",
            " |  bytes, or bytearray instance representing an integer literal in the\n",
            " |  given base.  The literal can be preceded by '+' or '-' and be surrounded\n",
            " |  by whitespace.  The base defaults to 10.  Valid bases are 0 and 2-36.\n",
            " |  Base 0 means to interpret the base from the string as an integer literal.\n",
            " |  >>> int('0b100', base=0)\n",
            " |  4\n",
            " |  \n",
            " |  Built-in subclasses:\n",
            " |      bool\n",
            " |  \n",
            " |  Methods defined here:\n",
            " |  \n",
            " |  __abs__(self, /)\n",
            " |      abs(self)\n",
            " |  \n",
            " |  __add__(self, value, /)\n",
            " |      Return self+value.\n",
            " |  \n",
            " |  __and__(self, value, /)\n",
            " |      Return self&value.\n",
            " |  \n",
            " |  __bool__(self, /)\n",
            " |      True if self else False\n",
            " |  \n",
            " |  __ceil__(...)\n",
            " |      Ceiling of an Integral returns itself.\n",
            " |  \n",
            " |  __divmod__(self, value, /)\n",
            " |      Return divmod(self, value).\n",
            " |  \n",
            " |  __eq__(self, value, /)\n",
            " |      Return self==value.\n",
            " |  \n",
            " |  __float__(self, /)\n",
            " |      float(self)\n",
            " |  \n",
            " |  __floor__(...)\n",
            " |      Flooring an Integral returns itself.\n",
            " |  \n",
            " |  __floordiv__(self, value, /)\n",
            " |      Return self//value.\n",
            " |  \n",
            " |  __format__(self, format_spec, /)\n",
            " |      Default object formatter.\n",
            " |  \n",
            " |  __ge__(self, value, /)\n",
            " |      Return self>=value.\n",
            " |  \n",
            " |  __getattribute__(self, name, /)\n",
            " |      Return getattr(self, name).\n",
            " |  \n",
            " |  __getnewargs__(self, /)\n",
            " |  \n",
            " |  __gt__(self, value, /)\n",
            " |      Return self>value.\n",
            " |  \n",
            " |  __hash__(self, /)\n",
            " |      Return hash(self).\n",
            " |  \n",
            " |  __index__(self, /)\n",
            " |      Return self converted to an integer, if self is suitable for use as an index into a list.\n",
            " |  \n",
            " |  __int__(self, /)\n",
            " |      int(self)\n",
            " |  \n",
            " |  __invert__(self, /)\n",
            " |      ~self\n",
            " |  \n",
            " |  __le__(self, value, /)\n",
            " |      Return self<=value.\n",
            " |  \n",
            " |  __lshift__(self, value, /)\n",
            " |      Return self<<value.\n",
            " |  \n",
            " |  __lt__(self, value, /)\n",
            " |      Return self<value.\n",
            " |  \n",
            " |  __mod__(self, value, /)\n",
            " |      Return self%value.\n",
            " |  \n",
            " |  __mul__(self, value, /)\n",
            " |      Return self*value.\n",
            " |  \n",
            " |  __ne__(self, value, /)\n",
            " |      Return self!=value.\n",
            " |  \n",
            " |  __neg__(self, /)\n",
            " |      -self\n",
            " |  \n",
            " |  __or__(self, value, /)\n",
            " |      Return self|value.\n",
            " |  \n",
            " |  __pos__(self, /)\n",
            " |      +self\n",
            " |  \n",
            " |  __pow__(self, value, mod=None, /)\n",
            " |      Return pow(self, value, mod).\n",
            " |  \n",
            " |  __radd__(self, value, /)\n",
            " |      Return value+self.\n",
            " |  \n",
            " |  __rand__(self, value, /)\n",
            " |      Return value&self.\n",
            " |  \n",
            " |  __rdivmod__(self, value, /)\n",
            " |      Return divmod(value, self).\n",
            " |  \n",
            " |  __repr__(self, /)\n",
            " |      Return repr(self).\n",
            " |  \n",
            " |  __rfloordiv__(self, value, /)\n",
            " |      Return value//self.\n",
            " |  \n",
            " |  __rlshift__(self, value, /)\n",
            " |      Return value<<self.\n",
            " |  \n",
            " |  __rmod__(self, value, /)\n",
            " |      Return value%self.\n",
            " |  \n",
            " |  __rmul__(self, value, /)\n",
            " |      Return value*self.\n",
            " |  \n",
            " |  __ror__(self, value, /)\n",
            " |      Return value|self.\n",
            " |  \n",
            " |  __round__(...)\n",
            " |      Rounding an Integral returns itself.\n",
            " |      \n",
            " |      Rounding with an ndigits argument also returns an integer.\n",
            " |  \n",
            " |  __rpow__(self, value, mod=None, /)\n",
            " |      Return pow(value, self, mod).\n",
            " |  \n",
            " |  __rrshift__(self, value, /)\n",
            " |      Return value>>self.\n",
            " |  \n",
            " |  __rshift__(self, value, /)\n",
            " |      Return self>>value.\n",
            " |  \n",
            " |  __rsub__(self, value, /)\n",
            " |      Return value-self.\n",
            " |  \n",
            " |  __rtruediv__(self, value, /)\n",
            " |      Return value/self.\n",
            " |  \n",
            " |  __rxor__(self, value, /)\n",
            " |      Return value^self.\n",
            " |  \n",
            " |  __sizeof__(self, /)\n",
            " |      Returns size in memory, in bytes.\n",
            " |  \n",
            " |  __sub__(self, value, /)\n",
            " |      Return self-value.\n",
            " |  \n",
            " |  __truediv__(self, value, /)\n",
            " |      Return self/value.\n",
            " |  \n",
            " |  __trunc__(...)\n",
            " |      Truncating an Integral returns itself.\n",
            " |  \n",
            " |  __xor__(self, value, /)\n",
            " |      Return self^value.\n",
            " |  \n",
            " |  as_integer_ratio(self, /)\n",
            " |      Return integer ratio.\n",
            " |      \n",
            " |      Return a pair of integers, whose ratio is exactly equal to the original int\n",
            " |      and with a positive denominator.\n",
            " |      \n",
            " |      >>> (10).as_integer_ratio()\n",
            " |      (10, 1)\n",
            " |      >>> (-10).as_integer_ratio()\n",
            " |      (-10, 1)\n",
            " |      >>> (0).as_integer_ratio()\n",
            " |      (0, 1)\n",
            " |  \n",
            " |  bit_count(self, /)\n",
            " |      Number of ones in the binary representation of the absolute value of self.\n",
            " |      \n",
            " |      Also known as the population count.\n",
            " |      \n",
            " |      >>> bin(13)\n",
            " |      '0b1101'\n",
            " |      >>> (13).bit_count()\n",
            " |      3\n",
            " |  \n",
            " |  bit_length(self, /)\n",
            " |      Number of bits necessary to represent self in binary.\n",
            " |      \n",
            " |      >>> bin(37)\n",
            " |      '0b100101'\n",
            " |      >>> (37).bit_length()\n",
            " |      6\n",
            " |  \n",
            " |  conjugate(...)\n",
            " |      Returns self, the complex conjugate of any int.\n",
            " |  \n",
            " |  to_bytes(self, /, length=1, byteorder='big', *, signed=False)\n",
            " |      Return an array of bytes representing an integer.\n",
            " |      \n",
            " |      length\n",
            " |        Length of bytes object to use.  An OverflowError is raised if the\n",
            " |        integer is not representable with the given number of bytes.  Default\n",
            " |        is length 1.\n",
            " |      byteorder\n",
            " |        The byte order used to represent the integer.  If byteorder is 'big',\n",
            " |        the most significant byte is at the beginning of the byte array.  If\n",
            " |        byteorder is 'little', the most significant byte is at the end of the\n",
            " |        byte array.  To request the native byte order of the host system, use\n",
            " |        `sys.byteorder' as the byte order value.  Default is to use 'big'.\n",
            " |      signed\n",
            " |        Determines whether two's complement is used to represent the integer.\n",
            " |        If signed is False and a negative integer is given, an OverflowError\n",
            " |        is raised.\n",
            " |  \n",
            " |  ----------------------------------------------------------------------\n",
            " |  Class methods defined here:\n",
            " |  \n",
            " |  from_bytes(bytes, byteorder='big', *, signed=False)\n",
            " |      Return the integer represented by the given array of bytes.\n",
            " |      \n",
            " |      bytes\n",
            " |        Holds the array of bytes to convert.  The argument must either\n",
            " |        support the buffer protocol or be an iterable object producing bytes.\n",
            " |        Bytes and bytearray are examples of built-in objects that support the\n",
            " |        buffer protocol.\n",
            " |      byteorder\n",
            " |        The byte order used to represent the integer.  If byteorder is 'big',\n",
            " |        the most significant byte is at the beginning of the byte array.  If\n",
            " |        byteorder is 'little', the most significant byte is at the end of the\n",
            " |        byte array.  To request the native byte order of the host system, use\n",
            " |        `sys.byteorder' as the byte order value.  Default is to use 'big'.\n",
            " |      signed\n",
            " |        Indicates whether two's complement is used to represent the integer.\n",
            " |  \n",
            " |  ----------------------------------------------------------------------\n",
            " |  Static methods defined here:\n",
            " |  \n",
            " |  __new__(*args, **kwargs)\n",
            " |      Create and return a new object.  See help(type) for accurate signature.\n",
            " |  \n",
            " |  ----------------------------------------------------------------------\n",
            " |  Data descriptors defined here:\n",
            " |  \n",
            " |  denominator\n",
            " |      the denominator of a rational number in lowest terms\n",
            " |  \n",
            " |  imag\n",
            " |      the imaginary part of a complex number\n",
            " |  \n",
            " |  numerator\n",
            " |      the numerator of a rational number in lowest terms\n",
            " |  \n",
            " |  real\n",
            " |      the real part of a complex number\n",
            "\n"
          ]
        }
      ],
      "source": [
        "help(round(-2.01))"
      ]
    },
    {
      "cell_type": "code",
      "execution_count": null,
      "metadata": {
        "colab": {
          "base_uri": "https://localhost:8080/"
        },
        "id": "j6rkZk3MC0xY",
        "outputId": "0b60425b-d67c-4118-bab1-49dcf93b98f4"
      },
      "outputs": [
        {
          "name": "stdout",
          "output_type": "stream",
          "text": [
            "Help on built-in function print in module builtins:\n",
            "\n",
            "print(*args, sep=' ', end='\\n', file=None, flush=False)\n",
            "    Prints the values to a stream, or to sys.stdout by default.\n",
            "    \n",
            "    sep\n",
            "      string inserted between values, default a space.\n",
            "    end\n",
            "      string appended after the last value, default a newline.\n",
            "    file\n",
            "      a file-like object (stream); defaults to the current sys.stdout.\n",
            "    flush\n",
            "      whether to forcibly flush the stream.\n",
            "\n"
          ]
        }
      ],
      "source": [
        "help(print)"
      ]
    },
    {
      "cell_type": "code",
      "execution_count": null,
      "metadata": {
        "id": "wUHK0qflC0uc"
      },
      "outputs": [],
      "source": [
        "def least_difference(a, b, c): #mendefinisikan fungsi\n",
        "    diff1 = abs(a - b) #menghitung selisih\n",
        "    diff2 = abs(b - c)\n",
        "    diff3 = abs(a - c)\n",
        "    return min(diff1, diff2, diff3) #menampilkan nilai terkecil"
      ]
    },
    {
      "cell_type": "code",
      "execution_count": null,
      "metadata": {
        "colab": {
          "base_uri": "https://localhost:8080/"
        },
        "id": "xnkZGlXcC0sQ",
        "outputId": "e4f48b5f-a19b-4d98-c337-61e46f6b197a"
      },
      "outputs": [
        {
          "name": "stdout",
          "output_type": "stream",
          "text": [
            "9 0 1\n"
          ]
        }
      ],
      "source": [
        "print(\n",
        "    least_difference(1, 10, 100),\n",
        "    least_difference(1, 10, 10),\n",
        "    least_difference(5, 6, 7), # Python allows trailing commas in argument lists. How nice is that?\n",
        ")"
      ]
    },
    {
      "cell_type": "code",
      "execution_count": null,
      "metadata": {
        "colab": {
          "base_uri": "https://localhost:8080/"
        },
        "id": "PjWsrLIqC0qJ",
        "outputId": "30a8433e-4c12-4b88-995e-a624bb253111"
      },
      "outputs": [
        {
          "name": "stdout",
          "output_type": "stream",
          "text": [
            "Help on function least_difference in module __main__:\n",
            "\n",
            "least_difference(a, b, c)\n",
            "\n"
          ]
        }
      ],
      "source": [
        "help(least_difference)"
      ]
    },
    {
      "cell_type": "code",
      "execution_count": null,
      "metadata": {
        "id": "9UIufTMSC0n4"
      },
      "outputs": [],
      "source": [
        "def least_difference(a, b, c):\n",
        "    \"\"\"Return the smallest difference between any two numbers\n",
        "    among a, b and c.\n",
        "\n",
        "    >>> least_difference(1, 5, -5)\n",
        "    4\n",
        "    \"\"\"\n",
        "    diff1 = abs(a - b)\n",
        "    diff2 = abs(b - c)\n",
        "    diff3 = abs(a - c)\n",
        "    return min(diff1, diff2, diff3)"
      ]
    },
    {
      "cell_type": "code",
      "execution_count": null,
      "metadata": {
        "colab": {
          "base_uri": "https://localhost:8080/"
        },
        "id": "LRztmyOTC0mB",
        "outputId": "fa876fb7-0e3d-4e0e-a8f5-037c3bb6ec41"
      },
      "outputs": [
        {
          "name": "stdout",
          "output_type": "stream",
          "text": [
            "Help on function least_difference in module __main__:\n",
            "\n",
            "least_difference(a, b, c)\n",
            "    Return the smallest difference between any two numbers\n",
            "    among a, b and c.\n",
            "    \n",
            "    >>> least_difference(1, 5, -5)\n",
            "    4\n",
            "\n"
          ]
        }
      ],
      "source": [
        "help(least_difference)"
      ]
    },
    {
      "cell_type": "code",
      "execution_count": null,
      "metadata": {
        "colab": {
          "base_uri": "https://localhost:8080/"
        },
        "id": "JhLIVQyXC0jM",
        "outputId": "30dfd830-ad11-42fb-f18d-a8d796d440c7"
      },
      "outputs": [
        {
          "name": "stdout",
          "output_type": "stream",
          "text": [
            "None None None\n"
          ]
        }
      ],
      "source": [
        "def least_difference(a, b, c):\n",
        "    \"\"\"Return the smallest difference between any two numbers\n",
        "    among a, b and c.\n",
        "    \"\"\"\n",
        "    diff1 = abs(a - b)\n",
        "    diff2 = abs(b - c)\n",
        "    diff3 = abs(a - c)\n",
        "    min(diff1, diff2, diff3)\n",
        "\n",
        "print(\n",
        "    least_difference(1, 10, 100),\n",
        "    least_difference(1, 10, 10),\n",
        "    least_difference(5, 6, 7),\n",
        ")"
      ]
    },
    {
      "cell_type": "code",
      "execution_count": null,
      "metadata": {
        "colab": {
          "base_uri": "https://localhost:8080/"
        },
        "id": "Xu4-8aFfC0g2",
        "outputId": "a443b7c8-00d4-4b2a-cc80-4d54bcb6cb6a"
      },
      "outputs": [
        {
          "name": "stdout",
          "output_type": "stream",
          "text": [
            "\n",
            "None\n"
          ]
        }
      ],
      "source": [
        "mystery = print() #menampilkan output none\n",
        "print(mystery) #menampilkan output none"
      ]
    },
    {
      "cell_type": "code",
      "execution_count": null,
      "metadata": {
        "colab": {
          "base_uri": "https://localhost:8080/"
        },
        "id": "qpDKnLRgC0bG",
        "outputId": "7037c348-0499-4356-e103-97b51d14d9b5"
      },
      "outputs": [
        {
          "name": "stdout",
          "output_type": "stream",
          "text": [
            "1 < 2 < 3\n"
          ]
        }
      ],
      "source": [
        "print(1, 2, 3, sep=' < ') #menampilkan output sesuai isi dari deklarasi"
      ]
    },
    {
      "cell_type": "code",
      "execution_count": null,
      "metadata": {
        "colab": {
          "base_uri": "https://localhost:8080/"
        },
        "id": "zuUbhFtgC0Xj",
        "outputId": "819dc0af-19b0-4021-848e-2409cbd42b92"
      },
      "outputs": [
        {
          "name": "stdout",
          "output_type": "stream",
          "text": [
            "1 2 3\n"
          ]
        }
      ],
      "source": [
        "print(1, 2, 3)"
      ]
    },
    {
      "cell_type": "code",
      "execution_count": null,
      "metadata": {
        "colab": {
          "base_uri": "https://localhost:8080/"
        },
        "id": "aO2niW3uC0VF",
        "outputId": "fc1fddd3-8e52-4b85-b1f1-89aa04a34868"
      },
      "outputs": [
        {
          "name": "stdout",
          "output_type": "stream",
          "text": [
            "Hello, Colin\n",
            "Hello, Kaggle\n",
            "Hello, world\n"
          ]
        }
      ],
      "source": [
        "def greet(who=\"Colin\"):\n",
        "    print(\"Hello,\", who)\n",
        "\n",
        "greet()\n",
        "greet(who=\"Kaggle\")\n",
        "# (In this case, we don't need to specify the name of the argument, because it's unambiguous.)\n",
        "greet(\"world\")"
      ]
    },
    {
      "cell_type": "code",
      "execution_count": null,
      "metadata": {
        "colab": {
          "base_uri": "https://localhost:8080/"
        },
        "id": "bUmAep3VC0S-",
        "outputId": "a5191ad2-952b-420c-d0fe-8bbf5b18392e"
      },
      "outputs": [
        {
          "name": "stdout",
          "output_type": "stream",
          "text": [
            "5\n",
            "25\n"
          ]
        }
      ],
      "source": [
        "def mult_by_five(x):\n",
        "    return 5 * x\n",
        "\n",
        "def call(fn, arg):\n",
        "    \"\"\"Call fn on arg\"\"\"\n",
        "    return fn(arg)\n",
        "\n",
        "def squared_call(fn, arg):\n",
        "    \"\"\"Call fn on the result of calling fn on arg\"\"\"\n",
        "    return fn(fn(arg))\n",
        "\n",
        "print(\n",
        "    call(mult_by_five, 1),\n",
        "    squared_call(mult_by_five, 1),\n",
        "    sep='\\n', # '\\n' is the newline character - it starts a new line\n",
        ")"
      ]
    },
    {
      "cell_type": "code",
      "execution_count": null,
      "metadata": {
        "colab": {
          "base_uri": "https://localhost:8080/"
        },
        "id": "5O6-zFc6C0RH",
        "outputId": "791757ae-70d9-4635-9bd2-b8d539138171"
      },
      "outputs": [
        {
          "name": "stdout",
          "output_type": "stream",
          "text": [
            "Which number is biggest?\n",
            "100\n",
            "Which number is the biggest modulo 5?\n",
            "14\n"
          ]
        }
      ],
      "source": [
        "def mod_5(x):\n",
        "    \"\"\"Return the remainder of x after dividing by 5\"\"\"\n",
        "    return x % 5\n",
        "\n",
        "print(\n",
        "    'Which number is biggest?',\n",
        "    max(100, 51, 14),\n",
        "    'Which number is the biggest modulo 5?',\n",
        "    max(100, 51, 14, key=mod_5),\n",
        "    sep='\\n',\n",
        ")"
      ]
    },
    {
      "cell_type": "code",
      "execution_count": null,
      "metadata": {
        "colab": {
          "base_uri": "https://localhost:8080/"
        },
        "id": "6iT5RxgeC0Po",
        "outputId": "dd2345fa-baf6-4b17-b2a7-e59b671cc630"
      },
      "outputs": [
        {
          "name": "stdout",
          "output_type": "stream",
          "text": [
            "True\n",
            "<class 'bool'>\n"
          ]
        }
      ],
      "source": [
        "x = True\n",
        "print(x)\n",
        "print(type(x))"
      ]
    },
    {
      "cell_type": "code",
      "execution_count": null,
      "metadata": {
        "colab": {
          "base_uri": "https://localhost:8080/"
        },
        "id": "gB4_bnppC0NO",
        "outputId": "a12cbff0-abd9-4ac6-d226-4823332a8fbb"
      },
      "outputs": [
        {
          "name": "stdout",
          "output_type": "stream",
          "text": [
            "Can a 19-year-old run for president? False\n",
            "Can a 45-year-old run for president? True\n"
          ]
        }
      ],
      "source": [
        "def can_run_for_president(age):\n",
        "    \"\"\"Can someone of the given age run for president in the US?\"\"\"\n",
        "    # The US Constitution says you must be at least 35 years old\n",
        "    return age >= 35\n",
        "\n",
        "print(\"Can a 19-year-old run for president?\", can_run_for_president(19))\n",
        "print(\"Can a 45-year-old run for president?\", can_run_for_president(45))"
      ]
    },
    {
      "cell_type": "code",
      "execution_count": null,
      "metadata": {
        "colab": {
          "base_uri": "https://localhost:8080/"
        },
        "id": "wg-B3m7OC0Lj",
        "outputId": "8b990867-14a1-4135-c23c-94a05fccc5d8"
      },
      "outputs": [
        {
          "data": {
            "text/plain": [
              "True"
            ]
          },
          "execution_count": 19,
          "metadata": {},
          "output_type": "execute_result"
        }
      ],
      "source": [
        "3.0 == 3"
      ]
    },
    {
      "cell_type": "code",
      "execution_count": null,
      "metadata": {
        "colab": {
          "base_uri": "https://localhost:8080/"
        },
        "id": "PV9ScruDMrru",
        "outputId": "7fa18467-196a-459a-c1f3-276e8f6c15f0"
      },
      "outputs": [
        {
          "data": {
            "text/plain": [
              "False"
            ]
          },
          "execution_count": 20,
          "metadata": {},
          "output_type": "execute_result"
        }
      ],
      "source": [
        "'3' == 3"
      ]
    },
    {
      "cell_type": "code",
      "execution_count": null,
      "metadata": {
        "colab": {
          "base_uri": "https://localhost:8080/"
        },
        "id": "YllMfTtlMroY",
        "outputId": "1951b09b-74f6-4771-a11e-c41829d354bd"
      },
      "outputs": [
        {
          "name": "stdout",
          "output_type": "stream",
          "text": [
            "Is 100 odd? False\n",
            "Is -1 odd? True\n"
          ]
        }
      ],
      "source": [
        "def is_odd(n):\n",
        "    return (n % 2) == 1\n",
        "\n",
        "print(\"Is 100 odd?\", is_odd(100))\n",
        "print(\"Is -1 odd?\", is_odd(-1))"
      ]
    },
    {
      "cell_type": "code",
      "execution_count": null,
      "metadata": {
        "colab": {
          "base_uri": "https://localhost:8080/"
        },
        "id": "LK0KecHFMrmp",
        "outputId": "086adb12-d922-4543-f2d3-01abfc05b8c4"
      },
      "outputs": [
        {
          "name": "stdout",
          "output_type": "stream",
          "text": [
            "False\n",
            "False\n",
            "True\n"
          ]
        }
      ],
      "source": [
        "def can_run_for_president(age, is_natural_born_citizen):\n",
        "    \"\"\"Can someone of the given age and citizenship status run for president in the US?\"\"\"\n",
        "    # The US Constitution says you must be a natural born citizen *and* at least 35 years old\n",
        "    return is_natural_born_citizen and (age >= 35)\n",
        "\n",
        "print(can_run_for_president(19, True))\n",
        "print(can_run_for_president(55, False))\n",
        "print(can_run_for_president(55, True))"
      ]
    },
    {
      "cell_type": "code",
      "execution_count": null,
      "metadata": {
        "colab": {
          "base_uri": "https://localhost:8080/"
        },
        "id": "AWo8t8BvMrkO",
        "outputId": "f9c9784e-7d26-4f43-ca59-a9cfd02bc1f1"
      },
      "outputs": [
        {
          "data": {
            "text/plain": [
              "True"
            ]
          },
          "execution_count": 23,
          "metadata": {},
          "output_type": "execute_result"
        }
      ],
      "source": [
        "True or True and False"
      ]
    },
    {
      "cell_type": "code",
      "execution_count": null,
      "metadata": {
        "colab": {
          "base_uri": "https://localhost:8080/"
        },
        "id": "_Ua0smK8MriH",
        "outputId": "6d74aeb8-803b-4b1f-9836-2c66bb7a3326"
      },
      "outputs": [
        {
          "name": "stdout",
          "output_type": "stream",
          "text": [
            "0 is zero\n",
            "-15 is negative\n"
          ]
        }
      ],
      "source": [
        "def inspect(x):\n",
        "    if x == 0:\n",
        "        print(x, \"is zero\")\n",
        "    elif x > 0:\n",
        "        print(x, \"is positive\")\n",
        "    elif x < 0:\n",
        "        print(x, \"is negative\")\n",
        "    else:\n",
        "        print(x, \"is unlike anything I've ever seen...\")\n",
        "\n",
        "inspect(0)\n",
        "inspect(-15)"
      ]
    },
    {
      "cell_type": "code",
      "execution_count": null,
      "metadata": {
        "colab": {
          "base_uri": "https://localhost:8080/"
        },
        "id": "EX1gITQEMrf4",
        "outputId": "08da93c6-30dc-4480-fdd8-884090b84b0e"
      },
      "outputs": [
        {
          "name": "stdout",
          "output_type": "stream",
          "text": [
            "Only printed when x is positive; x = 1\n",
            "Also only printed when x is positive; x = 1\n",
            "Always printed, regardless of x's value; x = 1\n",
            "Always printed, regardless of x's value; x = 0\n"
          ]
        }
      ],
      "source": [
        "def f(x):\n",
        "    if x > 0:\n",
        "        print(\"Only printed when x is positive; x =\", x)\n",
        "        print(\"Also only printed when x is positive; x =\", x)\n",
        "    print(\"Always printed, regardless of x's value; x =\", x)\n",
        "\n",
        "f(1)\n",
        "f(0)"
      ]
    },
    {
      "cell_type": "code",
      "execution_count": null,
      "metadata": {
        "colab": {
          "base_uri": "https://localhost:8080/"
        },
        "id": "Hs8YEcTiMrd-",
        "outputId": "7ad41c7e-b2b9-41ec-85c1-3f8fb969dfb2"
      },
      "outputs": [
        {
          "name": "stdout",
          "output_type": "stream",
          "text": [
            "True\n",
            "False\n",
            "True\n",
            "False\n"
          ]
        }
      ],
      "source": [
        "print(bool(1)) # all numbers are treated as true, except 0\n",
        "print(bool(0))\n",
        "print(bool(\"asf\")) # all strings are treated as true, except the empty string \"\"\n",
        "print(bool(\"\"))\n",
        "# Generally empty sequences (strings, lists, and other types we've yet to see like lists and tuples)\n",
        "# are \"falsey\" and the rest are \"truthy\""
      ]
    },
    {
      "cell_type": "code",
      "execution_count": 5,
      "metadata": {
        "colab": {
          "base_uri": "https://localhost:8080/"
        },
        "id": "bcshqBFcMrbn",
        "outputId": "1b996915-1376-45a7-b8a8-e456295f036d"
      },
      "outputs": [
        {
          "output_type": "stream",
          "name": "stdout",
          "text": [
            "spam\n"
          ]
        }
      ],
      "source": [
        "if 0:\n",
        "    print(0)\n",
        "elif \"spam\":\n",
        "    print(\"spam\")"
      ]
    },
    {
      "cell_type": "code",
      "execution_count": 6,
      "metadata": {
        "id": "ZGaWzyC_MrZk"
      },
      "outputs": [],
      "source": [
        "primes = [2, 3, 5, 7]"
      ]
    },
    {
      "cell_type": "code",
      "execution_count": 7,
      "metadata": {
        "id": "rgqiWpjog95i"
      },
      "outputs": [],
      "source": [
        "planets = ['Mercury', 'Venus', 'Earth', 'Mars', 'Jupiter', 'Saturn', 'Uranus', 'Neptune']"
      ]
    },
    {
      "cell_type": "code",
      "execution_count": null,
      "metadata": {
        "id": "qH8cINGPg92F"
      },
      "outputs": [],
      "source": [
        "hands = [\n",
        "    ['J', 'Q', 'K'],\n",
        "    ['2', '2', '2'],\n",
        "    ['6', 'A', 'K'], # (Comma after the last element is optional)\n",
        "]\n",
        "# (I could also have written this on one line, but it can get hard to read)\n",
        "hands = [['J', 'Q', 'K'], ['2', '2', '2'], ['6', 'A', 'K']]"
      ]
    },
    {
      "cell_type": "code",
      "execution_count": null,
      "metadata": {
        "id": "COLHuI6Eg90T"
      },
      "outputs": [],
      "source": [
        "my_favourite_things = [32, 'raindrops on roses', help]\n",
        "# (Yes, Python's help function is *definitely* one of my favourite things)"
      ]
    },
    {
      "cell_type": "code",
      "execution_count": null,
      "metadata": {
        "colab": {
          "base_uri": "https://localhost:8080/",
          "height": 35
        },
        "id": "YNZVwn4ag9ya",
        "outputId": "b0882b50-5ecd-4fe5-85f1-425d1eb2a342"
      },
      "outputs": [
        {
          "data": {
            "application/vnd.google.colaboratory.intrinsic+json": {
              "type": "string"
            },
            "text/plain": [
              "'Mercury'"
            ]
          },
          "execution_count": 32,
          "metadata": {},
          "output_type": "execute_result"
        }
      ],
      "source": [
        "planets[0]"
      ]
    },
    {
      "cell_type": "code",
      "execution_count": null,
      "metadata": {
        "colab": {
          "base_uri": "https://localhost:8080/",
          "height": 35
        },
        "id": "HdAt6_XDg9wp",
        "outputId": "f0c9d0cf-dd18-4ae5-9318-d5046c179f70"
      },
      "outputs": [
        {
          "data": {
            "application/vnd.google.colaboratory.intrinsic+json": {
              "type": "string"
            },
            "text/plain": [
              "'Venus'"
            ]
          },
          "execution_count": 33,
          "metadata": {},
          "output_type": "execute_result"
        }
      ],
      "source": [
        "planets[1]"
      ]
    },
    {
      "cell_type": "code",
      "execution_count": null,
      "metadata": {
        "colab": {
          "base_uri": "https://localhost:8080/",
          "height": 35
        },
        "id": "tft3gdbJg9uh",
        "outputId": "b01aca36-5bfb-483b-d91f-8e03a660b3b5"
      },
      "outputs": [
        {
          "data": {
            "application/vnd.google.colaboratory.intrinsic+json": {
              "type": "string"
            },
            "text/plain": [
              "'Neptune'"
            ]
          },
          "execution_count": 34,
          "metadata": {},
          "output_type": "execute_result"
        }
      ],
      "source": [
        "planets[-1]"
      ]
    },
    {
      "cell_type": "code",
      "execution_count": null,
      "metadata": {
        "colab": {
          "base_uri": "https://localhost:8080/",
          "height": 35
        },
        "id": "gLMgBwyNg9sl",
        "outputId": "25ed4f29-7bc5-4257-a244-a3ae23f1b473"
      },
      "outputs": [
        {
          "data": {
            "application/vnd.google.colaboratory.intrinsic+json": {
              "type": "string"
            },
            "text/plain": [
              "'Uranus'"
            ]
          },
          "execution_count": 35,
          "metadata": {},
          "output_type": "execute_result"
        }
      ],
      "source": [
        "planets[-2]"
      ]
    },
    {
      "cell_type": "code",
      "execution_count": null,
      "metadata": {
        "colab": {
          "base_uri": "https://localhost:8080/"
        },
        "id": "Ufu4aDrnMrXU",
        "outputId": "4b5218e4-e875-430c-f6f2-28e71585e763"
      },
      "outputs": [
        {
          "data": {
            "text/plain": [
              "['Mercury', 'Venus', 'Earth']"
            ]
          },
          "execution_count": 36,
          "metadata": {},
          "output_type": "execute_result"
        }
      ],
      "source": [
        "planets[0:3]"
      ]
    },
    {
      "cell_type": "code",
      "execution_count": null,
      "metadata": {
        "colab": {
          "base_uri": "https://localhost:8080/"
        },
        "id": "WnbiphWlC0IE",
        "outputId": "eda466b0-82ae-4b67-9d75-133b986ef4d0"
      },
      "outputs": [
        {
          "data": {
            "text/plain": [
              "['Mercury', 'Venus', 'Earth']"
            ]
          },
          "execution_count": 37,
          "metadata": {},
          "output_type": "execute_result"
        }
      ],
      "source": [
        "planets[:3]"
      ]
    },
    {
      "cell_type": "code",
      "execution_count": null,
      "metadata": {
        "colab": {
          "base_uri": "https://localhost:8080/"
        },
        "id": "ziClT3L0iJse",
        "outputId": "84f9bc46-ab96-4831-cf01-b68f9d069e24"
      },
      "outputs": [
        {
          "data": {
            "text/plain": [
              "['Mars', 'Jupiter', 'Saturn', 'Uranus', 'Neptune']"
            ]
          },
          "execution_count": 38,
          "metadata": {},
          "output_type": "execute_result"
        }
      ],
      "source": [
        "planets[3:]"
      ]
    },
    {
      "cell_type": "code",
      "execution_count": null,
      "metadata": {
        "colab": {
          "base_uri": "https://localhost:8080/"
        },
        "id": "lb5EsX6NiJpB",
        "outputId": "d02e0647-fd64-4d75-c30c-1eb4545a48cc"
      },
      "outputs": [
        {
          "data": {
            "text/plain": [
              "['Venus', 'Earth', 'Mars', 'Jupiter', 'Saturn', 'Uranus']"
            ]
          },
          "execution_count": 39,
          "metadata": {},
          "output_type": "execute_result"
        }
      ],
      "source": [
        "# All the planets except the first and last\n",
        "planets[1:-1]"
      ]
    },
    {
      "cell_type": "code",
      "execution_count": null,
      "metadata": {
        "colab": {
          "base_uri": "https://localhost:8080/"
        },
        "id": "Ex4p_NhWiJnS",
        "outputId": "fac983a2-25b5-44ee-a7c7-fb34603a19ce"
      },
      "outputs": [
        {
          "data": {
            "text/plain": [
              "['Saturn', 'Uranus', 'Neptune']"
            ]
          },
          "execution_count": 40,
          "metadata": {},
          "output_type": "execute_result"
        }
      ],
      "source": [
        "# The last 3 planets\n",
        "planets[-3:]"
      ]
    },
    {
      "cell_type": "code",
      "execution_count": null,
      "metadata": {
        "colab": {
          "base_uri": "https://localhost:8080/"
        },
        "id": "Nerq7YObiJlG",
        "outputId": "7428c56a-ca64-4335-e7eb-6320c4531b0e"
      },
      "outputs": [
        {
          "data": {
            "text/plain": [
              "['Mercury',\n",
              " 'Venus',\n",
              " 'Earth',\n",
              " 'Malacandra',\n",
              " 'Jupiter',\n",
              " 'Saturn',\n",
              " 'Uranus',\n",
              " 'Neptune']"
            ]
          },
          "execution_count": 41,
          "metadata": {},
          "output_type": "execute_result"
        }
      ],
      "source": [
        "planets[3] = 'Malacandra'\n",
        "planets"
      ]
    },
    {
      "cell_type": "code",
      "execution_count": null,
      "metadata": {
        "colab": {
          "base_uri": "https://localhost:8080/"
        },
        "id": "MMea8hq9iJi_",
        "outputId": "c5b5aee7-e63f-4c0a-a077-25c46e2dff1e"
      },
      "outputs": [
        {
          "name": "stdout",
          "output_type": "stream",
          "text": [
            "['Mur', 'Vee', 'Ur', 'Mars', 'Jupiter', 'Saturn', 'Uranus', 'Neptune']\n",
            "['Mercury', 'Venus', 'Earth', 'Mars', 'Jupiter', 'Saturn', 'Uranus', 'Neptune']\n"
          ]
        }
      ],
      "source": [
        "planets[:3] = ['Mur', 'Vee', 'Ur'] #ubah 3 planet awal\n",
        "print(planets)\n",
        "# That was silly. Let's give them back their old names\n",
        "planets[:4] = ['Mercury', 'Venus', 'Earth', 'Mars',]\n",
        "print(planets)"
      ]
    },
    {
      "cell_type": "code",
      "execution_count": null,
      "metadata": {
        "colab": {
          "base_uri": "https://localhost:8080/"
        },
        "id": "2Jn-aQJ1iJgm",
        "outputId": "1cbf9f64-6ecf-4690-9b36-0a30fbf88129"
      },
      "outputs": [
        {
          "data": {
            "text/plain": [
              "8"
            ]
          },
          "execution_count": 44,
          "metadata": {},
          "output_type": "execute_result"
        }
      ],
      "source": [
        "# How many planets are there?\n",
        "len(planets)"
      ]
    },
    {
      "cell_type": "code",
      "execution_count": null,
      "metadata": {
        "colab": {
          "base_uri": "https://localhost:8080/"
        },
        "id": "ayeVU8ZgiJeZ",
        "outputId": "00b3221d-42f8-4b17-b6c1-b94e4656c384"
      },
      "outputs": [
        {
          "data": {
            "text/plain": [
              "['Earth', 'Jupiter', 'Mars', 'Mercury', 'Neptune', 'Saturn', 'Uranus', 'Venus']"
            ]
          },
          "execution_count": 45,
          "metadata": {},
          "output_type": "execute_result"
        }
      ],
      "source": [
        "# The planets sorted in alphabetical order\n",
        "sorted(planets)"
      ]
    },
    {
      "cell_type": "code",
      "execution_count": null,
      "metadata": {
        "colab": {
          "base_uri": "https://localhost:8080/"
        },
        "id": "KZalOL63it_Y",
        "outputId": "96c41ee9-ed74-4ba3-88c3-3427770c98c6"
      },
      "outputs": [
        {
          "data": {
            "text/plain": [
              "17"
            ]
          },
          "execution_count": 47,
          "metadata": {},
          "output_type": "execute_result"
        }
      ],
      "source": [
        "primes = [2, 3, 5, 7]\n",
        "sum(primes)"
      ]
    },
    {
      "cell_type": "code",
      "execution_count": null,
      "metadata": {
        "colab": {
          "base_uri": "https://localhost:8080/"
        },
        "id": "wjmXmbVBit8N",
        "outputId": "d733f6a1-47e2-40f5-c1fd-eb3d72b241ff"
      },
      "outputs": [
        {
          "data": {
            "text/plain": [
              "7"
            ]
          },
          "execution_count": 48,
          "metadata": {},
          "output_type": "execute_result"
        }
      ],
      "source": [
        "max(primes)"
      ]
    },
    {
      "cell_type": "code",
      "execution_count": null,
      "metadata": {
        "colab": {
          "base_uri": "https://localhost:8080/"
        },
        "id": "kjM2k1cuit6y",
        "outputId": "757c2dcc-5469-43fb-eb78-2965918b8c6d"
      },
      "outputs": [
        {
          "name": "stdout",
          "output_type": "stream",
          "text": [
            "0\n",
            "3.0\n"
          ]
        }
      ],
      "source": [
        "x = 12\n",
        "# x is a real number, so its imaginary part is 0.\n",
        "print(x.imag)\n",
        "# Here's how to make a complex number, in case you've ever been curious:\n",
        "c = 12 + 3j\n",
        "print(c.imag)"
      ]
    },
    {
      "cell_type": "code",
      "execution_count": null,
      "metadata": {
        "colab": {
          "base_uri": "https://localhost:8080/"
        },
        "id": "BDo2ga4rit45",
        "outputId": "69fa86ce-645e-489b-f611-ba0db17324dd"
      },
      "outputs": [
        {
          "data": {
            "text/plain": [
              "<function int.bit_length()>"
            ]
          },
          "execution_count": 50,
          "metadata": {},
          "output_type": "execute_result"
        }
      ],
      "source": [
        "x.bit_length"
      ]
    },
    {
      "cell_type": "code",
      "execution_count": null,
      "metadata": {
        "colab": {
          "base_uri": "https://localhost:8080/"
        },
        "id": "4I_ie1rUit2-",
        "outputId": "38feedde-66a8-4d1d-8d91-cabce9bb59f2"
      },
      "outputs": [
        {
          "data": {
            "text/plain": [
              "4"
            ]
          },
          "execution_count": 51,
          "metadata": {},
          "output_type": "execute_result"
        }
      ],
      "source": [
        "x.bit_length()"
      ]
    },
    {
      "cell_type": "code",
      "execution_count": null,
      "metadata": {
        "colab": {
          "base_uri": "https://localhost:8080/"
        },
        "id": "E-x39_s4it1E",
        "outputId": "c8819337-6331-4c5e-a616-6a0b394945b7"
      },
      "outputs": [
        {
          "name": "stdout",
          "output_type": "stream",
          "text": [
            "Help on built-in function bit_length:\n",
            "\n",
            "bit_length() method of builtins.int instance\n",
            "    Number of bits necessary to represent self in binary.\n",
            "    \n",
            "    >>> bin(37)\n",
            "    '0b100101'\n",
            "    >>> (37).bit_length()\n",
            "    6\n",
            "\n"
          ]
        }
      ],
      "source": [
        "help(x.bit_length)"
      ]
    },
    {
      "cell_type": "code",
      "execution_count": 8,
      "metadata": {
        "id": "_Sdekihsitzg"
      },
      "outputs": [],
      "source": [
        "# Pluto is a planet darn it!\n",
        "planets.append('Pluto')"
      ]
    },
    {
      "cell_type": "code",
      "execution_count": 9,
      "metadata": {
        "colab": {
          "base_uri": "https://localhost:8080/"
        },
        "id": "VCv_OJAlitxS",
        "outputId": "49c6891c-1958-4e32-829f-719c1559ac66"
      },
      "outputs": [
        {
          "output_type": "stream",
          "name": "stdout",
          "text": [
            "Help on built-in function append:\n",
            "\n",
            "append(object, /) method of builtins.list instance\n",
            "    Append object to the end of the list.\n",
            "\n"
          ]
        }
      ],
      "source": [
        "help(planets.append)"
      ]
    },
    {
      "cell_type": "code",
      "execution_count": null,
      "metadata": {
        "colab": {
          "base_uri": "https://localhost:8080/"
        },
        "id": "KWSKkhvOj17n",
        "outputId": "f4e5cf88-9c8d-4779-afc7-1f4f07d97532"
      },
      "outputs": [
        {
          "data": {
            "text/plain": [
              "['Mercury',\n",
              " 'Venus',\n",
              " 'Earth',\n",
              " 'Mars',\n",
              " 'Jupiter',\n",
              " 'Saturn',\n",
              " 'Uranus',\n",
              " 'Neptune',\n",
              " 'Pluto']"
            ]
          },
          "execution_count": 55,
          "metadata": {},
          "output_type": "execute_result"
        }
      ],
      "source": [
        "planets"
      ]
    },
    {
      "cell_type": "code",
      "execution_count": null,
      "metadata": {
        "colab": {
          "base_uri": "https://localhost:8080/",
          "height": 35
        },
        "id": "nPKCGdPEj14R",
        "outputId": "f516de72-f29f-4716-ffd8-5920973e3337"
      },
      "outputs": [
        {
          "data": {
            "application/vnd.google.colaboratory.intrinsic+json": {
              "type": "string"
            },
            "text/plain": [
              "'Pluto'"
            ]
          },
          "execution_count": 56,
          "metadata": {},
          "output_type": "execute_result"
        }
      ],
      "source": [
        "planets.pop() #mengeluarkan isi terakhir list"
      ]
    },
    {
      "cell_type": "code",
      "execution_count": null,
      "metadata": {
        "colab": {
          "base_uri": "https://localhost:8080/"
        },
        "id": "-TOn58cpj12m",
        "outputId": "28881b0b-2cbd-4f20-e6a7-ad6f0fe3c176"
      },
      "outputs": [
        {
          "data": {
            "text/plain": [
              "['Mercury', 'Venus', 'Earth', 'Mars', 'Jupiter', 'Saturn', 'Uranus', 'Neptune']"
            ]
          },
          "execution_count": 57,
          "metadata": {},
          "output_type": "execute_result"
        }
      ],
      "source": [
        "planets"
      ]
    },
    {
      "cell_type": "code",
      "execution_count": null,
      "metadata": {
        "colab": {
          "base_uri": "https://localhost:8080/"
        },
        "id": "rrDusJHnj10b",
        "outputId": "a8b86298-852b-4366-ff95-ef496b9431ac"
      },
      "outputs": [
        {
          "data": {
            "text/plain": [
              "2"
            ]
          },
          "execution_count": 58,
          "metadata": {},
          "output_type": "execute_result"
        }
      ],
      "source": [
        "planets.index('Earth') #mencari indeks yg sesuai dengan isi dari yg ada di dalam kurung"
      ]
    },
    {
      "cell_type": "code",
      "execution_count": null,
      "metadata": {
        "colab": {
          "base_uri": "https://localhost:8080/",
          "height": 141
        },
        "id": "4T83ke4KkDWg",
        "outputId": "f0200e37-5926-41a8-866b-91155dea0cea"
      },
      "outputs": [
        {
          "ename": "ValueError",
          "evalue": "'Pluto' is not in list",
          "output_type": "error",
          "traceback": [
            "\u001b[0;31m---------------------------------------------------------------------------\u001b[0m",
            "\u001b[0;31mValueError\u001b[0m                                Traceback (most recent call last)",
            "\u001b[0;32m<ipython-input-59-3a8584cba91a>\u001b[0m in \u001b[0;36m<cell line: 0>\u001b[0;34m()\u001b[0m\n\u001b[0;32m----> 1\u001b[0;31m \u001b[0mplanets\u001b[0m\u001b[0;34m.\u001b[0m\u001b[0mindex\u001b[0m\u001b[0;34m(\u001b[0m\u001b[0;34m'Pluto'\u001b[0m\u001b[0;34m)\u001b[0m\u001b[0;34m\u001b[0m\u001b[0;34m\u001b[0m\u001b[0m\n\u001b[0m",
            "\u001b[0;31mValueError\u001b[0m: 'Pluto' is not in list"
          ]
        }
      ],
      "source": [
        "planets.index('Pluto')"
      ]
    },
    {
      "cell_type": "code",
      "execution_count": null,
      "metadata": {
        "colab": {
          "base_uri": "https://localhost:8080/"
        },
        "id": "NEaCHsIOkDS8",
        "outputId": "a50315ec-77bd-418d-c56d-c2f7f32ac5b7"
      },
      "outputs": [
        {
          "data": {
            "text/plain": [
              "True"
            ]
          },
          "execution_count": 60,
          "metadata": {},
          "output_type": "execute_result"
        }
      ],
      "source": [
        "# Is Earth a planet?\n",
        "\"Earth\" in planets"
      ]
    },
    {
      "cell_type": "code",
      "execution_count": null,
      "metadata": {
        "colab": {
          "base_uri": "https://localhost:8080/"
        },
        "id": "cMAy6zPwkDQ2",
        "outputId": "7aebc691-1b1d-4b00-9cb9-9eb2bcb9fa82"
      },
      "outputs": [
        {
          "data": {
            "text/plain": [
              "False"
            ]
          },
          "execution_count": 61,
          "metadata": {},
          "output_type": "execute_result"
        }
      ],
      "source": [
        "# Is Calbefraques a planet?\n",
        "\"Calbefraques\" in planets"
      ]
    },
    {
      "cell_type": "code",
      "execution_count": null,
      "metadata": {
        "colab": {
          "base_uri": "https://localhost:8080/"
        },
        "id": "zt8Ng81skDOX",
        "outputId": "e6e07d5f-7f31-4dc2-f829-c6d2cdc2d005"
      },
      "outputs": [
        {
          "name": "stdout",
          "output_type": "stream",
          "text": [
            "Help on list object:\n",
            "\n",
            "class list(object)\n",
            " |  list(iterable=(), /)\n",
            " |  \n",
            " |  Built-in mutable sequence.\n",
            " |  \n",
            " |  If no argument is given, the constructor creates a new empty list.\n",
            " |  The argument must be an iterable if specified.\n",
            " |  \n",
            " |  Methods defined here:\n",
            " |  \n",
            " |  __add__(self, value, /)\n",
            " |      Return self+value.\n",
            " |  \n",
            " |  __contains__(self, key, /)\n",
            " |      Return key in self.\n",
            " |  \n",
            " |  __delitem__(self, key, /)\n",
            " |      Delete self[key].\n",
            " |  \n",
            " |  __eq__(self, value, /)\n",
            " |      Return self==value.\n",
            " |  \n",
            " |  __ge__(self, value, /)\n",
            " |      Return self>=value.\n",
            " |  \n",
            " |  __getattribute__(self, name, /)\n",
            " |      Return getattr(self, name).\n",
            " |  \n",
            " |  __getitem__(...)\n",
            " |      x.__getitem__(y) <==> x[y]\n",
            " |  \n",
            " |  __gt__(self, value, /)\n",
            " |      Return self>value.\n",
            " |  \n",
            " |  __iadd__(self, value, /)\n",
            " |      Implement self+=value.\n",
            " |  \n",
            " |  __imul__(self, value, /)\n",
            " |      Implement self*=value.\n",
            " |  \n",
            " |  __init__(self, /, *args, **kwargs)\n",
            " |      Initialize self.  See help(type(self)) for accurate signature.\n",
            " |  \n",
            " |  __iter__(self, /)\n",
            " |      Implement iter(self).\n",
            " |  \n",
            " |  __le__(self, value, /)\n",
            " |      Return self<=value.\n",
            " |  \n",
            " |  __len__(self, /)\n",
            " |      Return len(self).\n",
            " |  \n",
            " |  __lt__(self, value, /)\n",
            " |      Return self<value.\n",
            " |  \n",
            " |  __mul__(self, value, /)\n",
            " |      Return self*value.\n",
            " |  \n",
            " |  __ne__(self, value, /)\n",
            " |      Return self!=value.\n",
            " |  \n",
            " |  __repr__(self, /)\n",
            " |      Return repr(self).\n",
            " |  \n",
            " |  __reversed__(self, /)\n",
            " |      Return a reverse iterator over the list.\n",
            " |  \n",
            " |  __rmul__(self, value, /)\n",
            " |      Return value*self.\n",
            " |  \n",
            " |  __setitem__(self, key, value, /)\n",
            " |      Set self[key] to value.\n",
            " |  \n",
            " |  __sizeof__(self, /)\n",
            " |      Return the size of the list in memory, in bytes.\n",
            " |  \n",
            " |  append(self, object, /)\n",
            " |      Append object to the end of the list.\n",
            " |  \n",
            " |  clear(self, /)\n",
            " |      Remove all items from list.\n",
            " |  \n",
            " |  copy(self, /)\n",
            " |      Return a shallow copy of the list.\n",
            " |  \n",
            " |  count(self, value, /)\n",
            " |      Return number of occurrences of value.\n",
            " |  \n",
            " |  extend(self, iterable, /)\n",
            " |      Extend list by appending elements from the iterable.\n",
            " |  \n",
            " |  index(self, value, start=0, stop=9223372036854775807, /)\n",
            " |      Return first index of value.\n",
            " |      \n",
            " |      Raises ValueError if the value is not present.\n",
            " |  \n",
            " |  insert(self, index, object, /)\n",
            " |      Insert object before index.\n",
            " |  \n",
            " |  pop(self, index=-1, /)\n",
            " |      Remove and return item at index (default last).\n",
            " |      \n",
            " |      Raises IndexError if list is empty or index is out of range.\n",
            " |  \n",
            " |  remove(self, value, /)\n",
            " |      Remove first occurrence of value.\n",
            " |      \n",
            " |      Raises ValueError if the value is not present.\n",
            " |  \n",
            " |  reverse(self, /)\n",
            " |      Reverse *IN PLACE*.\n",
            " |  \n",
            " |  sort(self, /, *, key=None, reverse=False)\n",
            " |      Sort the list in ascending order and return None.\n",
            " |      \n",
            " |      The sort is in-place (i.e. the list itself is modified) and stable (i.e. the\n",
            " |      order of two equal elements is maintained).\n",
            " |      \n",
            " |      If a key function is given, apply it once to each list item and sort them,\n",
            " |      ascending or descending, according to their function values.\n",
            " |      \n",
            " |      The reverse flag can be set to sort in descending order.\n",
            " |  \n",
            " |  ----------------------------------------------------------------------\n",
            " |  Class methods defined here:\n",
            " |  \n",
            " |  __class_getitem__(...)\n",
            " |      See PEP 585\n",
            " |  \n",
            " |  ----------------------------------------------------------------------\n",
            " |  Static methods defined here:\n",
            " |  \n",
            " |  __new__(*args, **kwargs)\n",
            " |      Create and return a new object.  See help(type) for accurate signature.\n",
            " |  \n",
            " |  ----------------------------------------------------------------------\n",
            " |  Data and other attributes defined here:\n",
            " |  \n",
            " |  __hash__ = None\n",
            "\n"
          ]
        }
      ],
      "source": [
        "help(planets)"
      ]
    },
    {
      "cell_type": "code",
      "execution_count": null,
      "metadata": {
        "id": "VlUR3adBkDMh"
      },
      "outputs": [],
      "source": [
        "t = (1, 2, 3)"
      ]
    },
    {
      "cell_type": "code",
      "execution_count": 10,
      "metadata": {
        "colab": {
          "base_uri": "https://localhost:8080/"
        },
        "id": "-nUeEt4XkDKF",
        "outputId": "ef348486-2fde-4e32-b228-8f1c8e4c3dce"
      },
      "outputs": [
        {
          "output_type": "execute_result",
          "data": {
            "text/plain": [
              "(1, 2, 3)"
            ]
          },
          "metadata": {},
          "execution_count": 10
        }
      ],
      "source": [
        "t = 1, 2, 3 # equivalent to above\n",
        "t"
      ]
    },
    {
      "cell_type": "code",
      "execution_count": null,
      "metadata": {
        "colab": {
          "base_uri": "https://localhost:8080/",
          "height": 141
        },
        "id": "9fSL4jgLkDHF",
        "outputId": "f15b1990-f380-47c5-d905-35ac754f09b5"
      },
      "outputs": [
        {
          "ename": "TypeError",
          "evalue": "'tuple' object does not support item assignment",
          "output_type": "error",
          "traceback": [
            "\u001b[0;31m---------------------------------------------------------------------------\u001b[0m",
            "\u001b[0;31mTypeError\u001b[0m                                 Traceback (most recent call last)",
            "\u001b[0;32m<ipython-input-65-e6cf7836e708>\u001b[0m in \u001b[0;36m<cell line: 0>\u001b[0;34m()\u001b[0m\n\u001b[0;32m----> 1\u001b[0;31m \u001b[0mt\u001b[0m\u001b[0;34m[\u001b[0m\u001b[0;36m0\u001b[0m\u001b[0;34m]\u001b[0m \u001b[0;34m=\u001b[0m \u001b[0;36m100\u001b[0m\u001b[0;34m\u001b[0m\u001b[0;34m\u001b[0m\u001b[0m\n\u001b[0m",
            "\u001b[0;31mTypeError\u001b[0m: 'tuple' object does not support item assignment"
          ]
        }
      ],
      "source": [
        "t[0] = 100"
      ]
    },
    {
      "cell_type": "code",
      "execution_count": 13,
      "metadata": {
        "colab": {
          "base_uri": "https://localhost:8080/"
        },
        "id": "9PxQlsjPkTce",
        "outputId": "31bf12ca-640b-4f23-92a8-eff8c3aac785"
      },
      "outputs": [
        {
          "output_type": "execute_result",
          "data": {
            "text/plain": [
              "(1, 8)"
            ]
          },
          "metadata": {},
          "execution_count": 13
        }
      ],
      "source": [
        "x = 0.125\n",
        "x.as_integer_ratio()"
      ]
    },
    {
      "cell_type": "code",
      "execution_count": null,
      "metadata": {
        "colab": {
          "base_uri": "https://localhost:8080/"
        },
        "id": "6RimAlEjkTY6",
        "outputId": "4698e60e-c7ed-4c4c-947c-9804c88d578d"
      },
      "outputs": [
        {
          "name": "stdout",
          "output_type": "stream",
          "text": [
            "0.125\n"
          ]
        }
      ],
      "source": [
        "numerator, denominator = x.as_integer_ratio() #deklarasi nilai sesuai input\n",
        "print(numerator / denominator)"
      ]
    },
    {
      "cell_type": "code",
      "execution_count": null,
      "metadata": {
        "colab": {
          "base_uri": "https://localhost:8080/"
        },
        "id": "Urwk_apykTWY",
        "outputId": "4fb790f2-81c5-4b18-8c38-0062debbec39"
      },
      "outputs": [
        {
          "name": "stdout",
          "output_type": "stream",
          "text": [
            "0 1\n"
          ]
        }
      ],
      "source": [
        "a = 1\n",
        "b = 0\n",
        "a, b = b, a #menukar nilai\n",
        "print(a, b)"
      ]
    },
    {
      "cell_type": "code",
      "execution_count": 15,
      "metadata": {
        "id": "FGSY7uQokTTq",
        "colab": {
          "base_uri": "https://localhost:8080/"
        },
        "outputId": "3e6e7e54-aaea-412c-bd6b-5c0934903cbd"
      },
      "outputs": [
        {
          "output_type": "stream",
          "name": "stdout",
          "text": [
            "Mercury Venus Earth Mars Jupiter Saturn Uranus Neptune "
          ]
        }
      ],
      "source": [
        "planets = ['Mercury', 'Venus', 'Earth', 'Mars', 'Jupiter', 'Saturn', 'Uranus', 'Neptune']\n",
        "for planet in planets:\n",
        "    print(planet, end=' ') # print all on same line"
      ]
    },
    {
      "cell_type": "code",
      "source": [
        "multiplicands = (2, 2, 2, 3, 3, 5)\n",
        "product = 1\n",
        "for mult in multiplicands:\n",
        "    product = product * mult\n",
        "product"
      ],
      "metadata": {
        "colab": {
          "base_uri": "https://localhost:8080/"
        },
        "id": "p_-F_7BxWXYF",
        "outputId": "975796db-1158-42c4-b25f-39f088309697"
      },
      "execution_count": null,
      "outputs": [
        {
          "output_type": "execute_result",
          "data": {
            "text/plain": [
              "360"
            ]
          },
          "metadata": {},
          "execution_count": 32
        }
      ]
    },
    {
      "cell_type": "code",
      "source": [
        "s = 'steganograpHy is the practicE of conceaLing a file, message, image, or video within another fiLe, message, image, Or video.'\n",
        "msg = ''\n",
        "# print all the uppercase letters in s, one at a time\n",
        "for char in s:\n",
        "    if char.isupper():\n",
        "        print(char, end='')"
      ],
      "metadata": {
        "colab": {
          "base_uri": "https://localhost:8080/"
        },
        "id": "VM6whTppWXUQ",
        "outputId": "ecba0d76-e0dc-415e-fe07-d4f0d870f43b"
      },
      "execution_count": null,
      "outputs": [
        {
          "output_type": "stream",
          "name": "stdout",
          "text": [
            "HELLO"
          ]
        }
      ]
    },
    {
      "cell_type": "code",
      "source": [
        "for i in range(5):\n",
        "    print(\"Doing important work. i =\", i)"
      ],
      "metadata": {
        "colab": {
          "base_uri": "https://localhost:8080/"
        },
        "id": "udOwh_B_WXRr",
        "outputId": "6b5fde1b-aeaf-4ba5-819f-308e12777780"
      },
      "execution_count": null,
      "outputs": [
        {
          "output_type": "stream",
          "name": "stdout",
          "text": [
            "Doing important work. i = 0\n",
            "Doing important work. i = 1\n",
            "Doing important work. i = 2\n",
            "Doing important work. i = 3\n",
            "Doing important work. i = 4\n"
          ]
        }
      ]
    },
    {
      "cell_type": "code",
      "source": [
        "i = 0\n",
        "while i < 10:\n",
        "    print(i, end=' ')\n",
        "    i += 1 # increase the value of i by 1"
      ],
      "metadata": {
        "colab": {
          "base_uri": "https://localhost:8080/"
        },
        "id": "IzfAfqi_WXPm",
        "outputId": "bc064729-aab3-4ffc-e4b0-e5516c5c4d34"
      },
      "execution_count": null,
      "outputs": [
        {
          "output_type": "stream",
          "name": "stdout",
          "text": [
            "0 1 2 3 4 5 6 7 8 9 "
          ]
        }
      ]
    },
    {
      "cell_type": "code",
      "source": [
        "squares = [n**2 for n in range(10)]\n",
        "squares"
      ],
      "metadata": {
        "colab": {
          "base_uri": "https://localhost:8080/"
        },
        "id": "MhVqbcctWXM4",
        "outputId": "38177121-2b46-4877-e848-6addfc4047a7"
      },
      "execution_count": null,
      "outputs": [
        {
          "output_type": "execute_result",
          "data": {
            "text/plain": [
              "[0, 1, 4, 9, 16, 25, 36, 49, 64, 81]"
            ]
          },
          "metadata": {},
          "execution_count": 36
        }
      ]
    },
    {
      "cell_type": "code",
      "source": [
        "squares = []\n",
        "for n in range(10):\n",
        "    squares.append(n**2)\n",
        "squares"
      ],
      "metadata": {
        "colab": {
          "base_uri": "https://localhost:8080/"
        },
        "id": "0O-sflEqWXKN",
        "outputId": "c28e968c-49b2-4910-aa06-4842af321084"
      },
      "execution_count": null,
      "outputs": [
        {
          "output_type": "execute_result",
          "data": {
            "text/plain": [
              "[0, 1, 4, 9, 16, 25, 36, 49, 64, 81]"
            ]
          },
          "metadata": {},
          "execution_count": 37
        }
      ]
    },
    {
      "cell_type": "code",
      "source": [
        "short_planets = [planet for planet in planets if len(planet) < 6]\n",
        "short_planets"
      ],
      "metadata": {
        "colab": {
          "base_uri": "https://localhost:8080/"
        },
        "id": "ISGVqHDDWXHi",
        "outputId": "7092e0fe-14a7-4198-e4e5-3b79d94eb2c2"
      },
      "execution_count": null,
      "outputs": [
        {
          "output_type": "execute_result",
          "data": {
            "text/plain": [
              "['Venus', 'Earth', 'Mars']"
            ]
          },
          "metadata": {},
          "execution_count": 38
        }
      ]
    },
    {
      "cell_type": "code",
      "source": [
        "# str.upper() returns an all-caps version of a string\n",
        "loud_short_planets = [planet.upper() + '!' for planet in planets if len(planet) < 6]\n",
        "loud_short_planets"
      ],
      "metadata": {
        "colab": {
          "base_uri": "https://localhost:8080/"
        },
        "id": "afKKL8d2Wkem",
        "outputId": "ec94fe94-ff78-4cae-cae7-ea55661940c4"
      },
      "execution_count": null,
      "outputs": [
        {
          "output_type": "execute_result",
          "data": {
            "text/plain": [
              "['VENUS!', 'EARTH!', 'MARS!']"
            ]
          },
          "metadata": {},
          "execution_count": 39
        }
      ]
    },
    {
      "cell_type": "code",
      "source": [
        "[\n",
        "    planet.upper() + '!'\n",
        "    for planet in planets\n",
        "    if len(planet) < 6\n",
        "]"
      ],
      "metadata": {
        "colab": {
          "base_uri": "https://localhost:8080/"
        },
        "id": "DLJh-VKiWkcd",
        "outputId": "c8d18205-9fda-4d84-d1d1-96ed570747aa"
      },
      "execution_count": null,
      "outputs": [
        {
          "output_type": "execute_result",
          "data": {
            "text/plain": [
              "['VENUS!', 'EARTH!', 'MARS!']"
            ]
          },
          "metadata": {},
          "execution_count": 40
        }
      ]
    },
    {
      "cell_type": "code",
      "source": [
        "[32 for planet in planets]"
      ],
      "metadata": {
        "colab": {
          "base_uri": "https://localhost:8080/"
        },
        "id": "jr-yyK9dWkap",
        "outputId": "fff5c85c-9143-439b-a87b-662899888825"
      },
      "execution_count": 21,
      "outputs": [
        {
          "output_type": "execute_result",
          "data": {
            "text/plain": [
              "[32, 32, 32, 32, 32, 32, 32, 32]"
            ]
          },
          "metadata": {},
          "execution_count": 21
        }
      ]
    },
    {
      "cell_type": "code",
      "source": [
        "def count_negatives(nums):\n",
        "    \"\"\"Return the number of negative numbers in the given list.\n",
        "\n",
        "    >>> count_negatives([5, -1, -2, 0, 3])\n",
        "    2\n",
        "    \"\"\"\n",
        "    n_negative = 0\n",
        "    for num in nums:\n",
        "        if num < 0:\n",
        "            n_negative = n_negative + 1\n",
        "    return n_negative"
      ],
      "metadata": {
        "id": "rvt4HTASWkXM"
      },
      "execution_count": 20,
      "outputs": []
    },
    {
      "cell_type": "code",
      "source": [
        "def count_negatives(nums):\n",
        "    return len([num for num in nums if num < 0])"
      ],
      "metadata": {
        "id": "6BynCxUhWkUU"
      },
      "execution_count": 19,
      "outputs": []
    },
    {
      "cell_type": "code",
      "source": [
        "def count_negatives(nums):\n",
        "    # Reminder: in the \"booleans and conditionals\" exercises, we learned about a quirk of\n",
        "    # Python where it calculates something like True + True + False + True to be equal to 3.\n",
        "    return sum([num < 0 for num in nums])"
      ],
      "metadata": {
        "id": "e6WaCA0QWtlj"
      },
      "execution_count": 18,
      "outputs": []
    },
    {
      "cell_type": "code",
      "execution_count": 16,
      "metadata": {
        "id": "u_iPztOUkTRy",
        "colab": {
          "base_uri": "https://localhost:8080/"
        },
        "outputId": "ab0c3bbb-7732-42be-e72a-f6685d55639d"
      },
      "outputs": [
        {
          "output_type": "execute_result",
          "data": {
            "text/plain": [
              "True"
            ]
          },
          "metadata": {},
          "execution_count": 16
        }
      ],
      "source": [
        "x = 'Pluto is a planet'\n",
        "y = \"Pluto is a planet\"\n",
        "x == y"
      ]
    },
    {
      "cell_type": "code",
      "execution_count": 17,
      "metadata": {
        "id": "fc82ZTzUkTPK",
        "colab": {
          "base_uri": "https://localhost:8080/"
        },
        "outputId": "3b8e099b-a5d3-4cf2-e1a0-95680677993a"
      },
      "outputs": [
        {
          "output_type": "stream",
          "name": "stdout",
          "text": [
            "Pluto's a planet!\n",
            "My dog is named \"Pluto\"\n"
          ]
        }
      ],
      "source": [
        "print(\"Pluto's a planet!\")\n",
        "print('My dog is named \"Pluto\"')"
      ]
    },
    {
      "cell_type": "code",
      "execution_count": null,
      "metadata": {
        "colab": {
          "base_uri": "https://localhost:8080/",
          "height": 106
        },
        "id": "ebdQ698MC7mN",
        "outputId": "6bfe1823-7f95-4379-991f-8935461c36d9"
      },
      "outputs": [
        {
          "ename": "SyntaxError",
          "evalue": "unterminated string literal (detected at line 1) (<ipython-input-1-a43631749f52>, line 1)",
          "output_type": "error",
          "traceback": [
            "\u001b[0;36m  File \u001b[0;32m\"<ipython-input-1-a43631749f52>\"\u001b[0;36m, line \u001b[0;32m1\u001b[0m\n\u001b[0;31m    'Pluto's a planet!'\u001b[0m\n\u001b[0m                      ^\u001b[0m\n\u001b[0;31mSyntaxError\u001b[0m\u001b[0;31m:\u001b[0m unterminated string literal (detected at line 1)\n"
          ]
        }
      ],
      "source": [
        "'Pluto's a planet!' //ini akan error"
      ]
    },
    {
      "cell_type": "code",
      "execution_count": null,
      "metadata": {
        "colab": {
          "base_uri": "https://localhost:8080/",
          "height": 35
        },
        "id": "ITIF7KvfC7kD",
        "outputId": "6b002345-3abb-488d-96a8-31672782fe8c"
      },
      "outputs": [
        {
          "data": {
            "application/vnd.google.colaboratory.intrinsic+json": {
              "type": "string"
            },
            "text/plain": [
              "\"Pluto's a planet!\""
            ]
          },
          "execution_count": 2,
          "metadata": {},
          "output_type": "execute_result"
        }
      ],
      "source": [
        "'Pluto\\'s a planet!'//ini tidak akan error"
      ]
    },
    {
      "cell_type": "code",
      "execution_count": null,
      "metadata": {
        "colab": {
          "base_uri": "https://localhost:8080/"
        },
        "id": "hphYMam-C7hj",
        "outputId": "79a106ab-dfe7-42d8-e6b6-180249436fe3"
      },
      "outputs": [
        {
          "name": "stdout",
          "output_type": "stream",
          "text": [
            "hello\n",
            "world\n"
          ]
        }
      ],
      "source": [
        "hello = \"hello\\nworld\"\n",
        "print(hello)"
      ]
    },
    {
      "cell_type": "code",
      "execution_count": null,
      "metadata": {
        "colab": {
          "base_uri": "https://localhost:8080/"
        },
        "id": "tMjSJkYPC7fP",
        "outputId": "14a1ddec-e974-44a2-9786-2da6e465a3aa"
      },
      "outputs": [
        {
          "name": "stdout",
          "output_type": "stream",
          "text": [
            "hello\n",
            "world\n"
          ]
        },
        {
          "data": {
            "text/plain": [
              "True"
            ]
          },
          "execution_count": 4,
          "metadata": {},
          "output_type": "execute_result"
        }
      ],
      "source": [
        "triplequoted_hello = \"\"\"hello\n",
        "world\"\"\"\n",
        "print(triplequoted_hello)\n",
        "triplequoted_hello == hello"
      ]
    },
    {
      "cell_type": "code",
      "execution_count": null,
      "metadata": {
        "colab": {
          "base_uri": "https://localhost:8080/"
        },
        "id": "2jE5_6irC7cV",
        "outputId": "43f83cfa-b657-4c10-94e2-651d48efedb5"
      },
      "outputs": [
        {
          "name": "stdout",
          "output_type": "stream",
          "text": [
            "hello\n",
            "world\n",
            "hellopluto"
          ]
        }
      ],
      "source": [
        "print(\"hello\")\n",
        "print(\"world\")\n",
        "print(\"hello\", end='')\n",
        "print(\"pluto\", end='')"
      ]
    },
    {
      "cell_type": "code",
      "execution_count": 23,
      "metadata": {
        "colab": {
          "base_uri": "https://localhost:8080/",
          "height": 35
        },
        "id": "OBDvzoP8C7ab",
        "outputId": "1aa71438-ff91-4f64-d663-d56f126e9204"
      },
      "outputs": [
        {
          "output_type": "execute_result",
          "data": {
            "text/plain": [
              "'l'"
            ],
            "application/vnd.google.colaboratory.intrinsic+json": {
              "type": "string"
            }
          },
          "metadata": {},
          "execution_count": 23
        }
      ],
      "source": [
        "# Indexing\n",
        "planet = 'Pluto'\n",
        "planet[1] #menampilkan isi indeks sesuai indeks yg diberikan"
      ]
    },
    {
      "cell_type": "code",
      "execution_count": null,
      "metadata": {
        "colab": {
          "base_uri": "https://localhost:8080/",
          "height": 35
        },
        "id": "Uxhbs-0TC7W8",
        "outputId": "f37071ca-b8d9-4807-de6d-8568bbf0e563"
      },
      "outputs": [
        {
          "data": {
            "application/vnd.google.colaboratory.intrinsic+json": {
              "type": "string"
            },
            "text/plain": [
              "'uto'"
            ]
          },
          "execution_count": 7,
          "metadata": {},
          "output_type": "execute_result"
        }
      ],
      "source": [
        "# Slicing\n",
        "planet[-3:]"
      ]
    },
    {
      "cell_type": "code",
      "execution_count": null,
      "metadata": {
        "colab": {
          "base_uri": "https://localhost:8080/"
        },
        "id": "JIxgOdvbC7Qc",
        "outputId": "5aefa9b4-5ac9-438c-d9ef-7cf01c48c531"
      },
      "outputs": [
        {
          "data": {
            "text/plain": [
              "5"
            ]
          },
          "execution_count": 8,
          "metadata": {},
          "output_type": "execute_result"
        }
      ],
      "source": [
        "# How long is this string?\n",
        "len(planet)"
      ]
    },
    {
      "cell_type": "code",
      "execution_count": null,
      "metadata": {
        "colab": {
          "base_uri": "https://localhost:8080/"
        },
        "id": "c2rpTrkoC7Ni",
        "outputId": "27afc4c8-8649-432f-d4d3-8b40de2c5652"
      },
      "outputs": [
        {
          "data": {
            "text/plain": [
              "['P! ', 'l! ', 'u! ', 't! ', 'o! ']"
            ]
          },
          "execution_count": 9,
          "metadata": {},
          "output_type": "execute_result"
        }
      ],
      "source": [
        "# Yes, we can even loop over them\n",
        "[char+'! ' for char in planet] #menambahkan tanda ! setelah setiap character ditampilkan"
      ]
    },
    {
      "cell_type": "code",
      "execution_count": null,
      "metadata": {
        "colab": {
          "base_uri": "https://localhost:8080/",
          "height": 159
        },
        "id": "f3zTVh9YC7Fj",
        "outputId": "a3584e25-c317-4f49-fd84-be9cfcff43b3"
      },
      "outputs": [
        {
          "ename": "TypeError",
          "evalue": "'str' object does not support item assignment",
          "output_type": "error",
          "traceback": [
            "\u001b[0;31m---------------------------------------------------------------------------\u001b[0m",
            "\u001b[0;31mTypeError\u001b[0m                                 Traceback (most recent call last)",
            "\u001b[0;32m<ipython-input-10-6ca42463b9f9>\u001b[0m in \u001b[0;36m<cell line: 0>\u001b[0;34m()\u001b[0m\n\u001b[0;32m----> 1\u001b[0;31m \u001b[0mplanet\u001b[0m\u001b[0;34m[\u001b[0m\u001b[0;36m0\u001b[0m\u001b[0;34m]\u001b[0m \u001b[0;34m=\u001b[0m \u001b[0;34m'B'\u001b[0m\u001b[0;34m\u001b[0m\u001b[0;34m\u001b[0m\u001b[0m\n\u001b[0m\u001b[1;32m      2\u001b[0m \u001b[0;31m# planet.append doesn't work either\u001b[0m\u001b[0;34m\u001b[0m\u001b[0;34m\u001b[0m\u001b[0m\n",
            "\u001b[0;31mTypeError\u001b[0m: 'str' object does not support item assignment"
          ]
        }
      ],
      "source": [
        "planet[0] = 'B'\n",
        "# planet.append doesn't work either"
      ]
    },
    {
      "cell_type": "code",
      "execution_count": null,
      "metadata": {
        "colab": {
          "base_uri": "https://localhost:8080/",
          "height": 35
        },
        "id": "MKyWl_qoDoc9",
        "outputId": "5e5af425-cd12-466e-e76e-c5a183e1ac78"
      },
      "outputs": [
        {
          "data": {
            "application/vnd.google.colaboratory.intrinsic+json": {
              "type": "string"
            },
            "text/plain": [
              "'PLUTO IS A PLANET!'"
            ]
          },
          "execution_count": 11,
          "metadata": {},
          "output_type": "execute_result"
        }
      ],
      "source": [
        "# ALL CAPS\n",
        "claim = \"Pluto is a planet!\"\n",
        "claim.upper()"
      ]
    },
    {
      "cell_type": "code",
      "execution_count": null,
      "metadata": {
        "colab": {
          "base_uri": "https://localhost:8080/",
          "height": 35
        },
        "id": "sqv7ErXbDoYD",
        "outputId": "0a24b8d8-971c-4b20-e4c7-cff3ef32032e"
      },
      "outputs": [
        {
          "data": {
            "application/vnd.google.colaboratory.intrinsic+json": {
              "type": "string"
            },
            "text/plain": [
              "'pluto is a planet!'"
            ]
          },
          "execution_count": 12,
          "metadata": {},
          "output_type": "execute_result"
        }
      ],
      "source": [
        "# all lowercase\n",
        "claim.lower()\n"
      ]
    },
    {
      "cell_type": "code",
      "execution_count": null,
      "metadata": {
        "colab": {
          "background_save": true
        },
        "id": "2fZ5a-dZDoTx",
        "outputId": "fa476774-fd7a-408c-f07c-6ee5214e12e3"
      },
      "outputs": [
        {
          "data": {
            "text/plain": [
              "11"
            ]
          },
          "execution_count": 13,
          "metadata": {},
          "output_type": "execute_result"
        }
      ],
      "source": [
        "# Searching for the first index of a substring\n",
        "claim.index('plan')"
      ]
    },
    {
      "cell_type": "code",
      "source": [
        "import math\n",
        "\n",
        "print(\"It's math! It has type {}\".format(type(math)))"
      ],
      "metadata": {
        "colab": {
          "base_uri": "https://localhost:8080/"
        },
        "id": "OqbDoCIsS7AK",
        "outputId": "57513c53-edaf-4a86-fbbb-a81c6781faf7"
      },
      "execution_count": null,
      "outputs": [
        {
          "output_type": "stream",
          "name": "stdout",
          "text": [
            "It's math! It has type <class 'module'>\n"
          ]
        }
      ]
    },
    {
      "cell_type": "code",
      "execution_count": null,
      "metadata": {
        "colab": {
          "base_uri": "https://localhost:8080/"
        },
        "id": "-phDc3odDoQ5",
        "outputId": "7ab1f20f-9542-4e85-a0f8-73e8a1af9abe"
      },
      "outputs": [
        {
          "output_type": "stream",
          "name": "stdout",
          "text": [
            "['__doc__', '__loader__', '__name__', '__package__', '__spec__', 'acos', 'acosh', 'asin', 'asinh', 'atan', 'atan2', 'atanh', 'cbrt', 'ceil', 'comb', 'copysign', 'cos', 'cosh', 'degrees', 'dist', 'e', 'erf', 'erfc', 'exp', 'exp2', 'expm1', 'fabs', 'factorial', 'floor', 'fmod', 'frexp', 'fsum', 'gamma', 'gcd', 'hypot', 'inf', 'isclose', 'isfinite', 'isinf', 'isnan', 'isqrt', 'lcm', 'ldexp', 'lgamma', 'log', 'log10', 'log1p', 'log2', 'modf', 'nan', 'nextafter', 'perm', 'pi', 'pow', 'prod', 'radians', 'remainder', 'sin', 'sinh', 'sqrt', 'tan', 'tanh', 'tau', 'trunc', 'ulp']\n"
          ]
        }
      ],
      "source": [
        "print(dir(math))"
      ]
    },
    {
      "cell_type": "code",
      "execution_count": null,
      "metadata": {
        "id": "tViW4_IbDoN-",
        "colab": {
          "base_uri": "https://localhost:8080/"
        },
        "outputId": "ecff1873-a964-4be2-cd8a-8cf1f5e1d292"
      },
      "outputs": [
        {
          "output_type": "stream",
          "name": "stdout",
          "text": [
            "pi to 4 significant digits = 3.142\n"
          ]
        }
      ],
      "source": [
        "print(\"pi to 4 significant digits = {:.4}\".format(math.pi))\n"
      ]
    },
    {
      "cell_type": "code",
      "source": [
        "math.log(32, 2)"
      ],
      "metadata": {
        "colab": {
          "base_uri": "https://localhost:8080/"
        },
        "id": "GS6_5jKlS94J",
        "outputId": "44f97472-4c5f-4300-dd09-e517e5fefaa8"
      },
      "execution_count": null,
      "outputs": [
        {
          "output_type": "execute_result",
          "data": {
            "text/plain": [
              "5.0"
            ]
          },
          "metadata": {},
          "execution_count": 6
        }
      ]
    },
    {
      "cell_type": "code",
      "source": [
        "help(math.log)"
      ],
      "metadata": {
        "colab": {
          "base_uri": "https://localhost:8080/"
        },
        "id": "HzPLQq3qS9xI",
        "outputId": "7ceb54f5-1b99-45be-b07a-e9d80e22be18"
      },
      "execution_count": null,
      "outputs": [
        {
          "output_type": "stream",
          "name": "stdout",
          "text": [
            "Help on built-in function log in module math:\n",
            "\n",
            "log(...)\n",
            "    log(x, [base=math.e])\n",
            "    Return the logarithm of x to the given base.\n",
            "    \n",
            "    If the base not specified, returns the natural logarithm (base e) of x.\n",
            "\n"
          ]
        }
      ]
    },
    {
      "cell_type": "code",
      "source": [
        "help(math)"
      ],
      "metadata": {
        "colab": {
          "base_uri": "https://localhost:8080/"
        },
        "id": "Ba7zJRTDS9ul",
        "outputId": "73b05c26-9def-4818-de24-72782cae7a1d"
      },
      "execution_count": null,
      "outputs": [
        {
          "output_type": "stream",
          "name": "stdout",
          "text": [
            "Help on built-in module math:\n",
            "\n",
            "NAME\n",
            "    math\n",
            "\n",
            "DESCRIPTION\n",
            "    This module provides access to the mathematical functions\n",
            "    defined by the C standard.\n",
            "\n",
            "FUNCTIONS\n",
            "    acos(x, /)\n",
            "        Return the arc cosine (measured in radians) of x.\n",
            "        \n",
            "        The result is between 0 and pi.\n",
            "    \n",
            "    acosh(x, /)\n",
            "        Return the inverse hyperbolic cosine of x.\n",
            "    \n",
            "    asin(x, /)\n",
            "        Return the arc sine (measured in radians) of x.\n",
            "        \n",
            "        The result is between -pi/2 and pi/2.\n",
            "    \n",
            "    asinh(x, /)\n",
            "        Return the inverse hyperbolic sine of x.\n",
            "    \n",
            "    atan(x, /)\n",
            "        Return the arc tangent (measured in radians) of x.\n",
            "        \n",
            "        The result is between -pi/2 and pi/2.\n",
            "    \n",
            "    atan2(y, x, /)\n",
            "        Return the arc tangent (measured in radians) of y/x.\n",
            "        \n",
            "        Unlike atan(y/x), the signs of both x and y are considered.\n",
            "    \n",
            "    atanh(x, /)\n",
            "        Return the inverse hyperbolic tangent of x.\n",
            "    \n",
            "    cbrt(x, /)\n",
            "        Return the cube root of x.\n",
            "    \n",
            "    ceil(x, /)\n",
            "        Return the ceiling of x as an Integral.\n",
            "        \n",
            "        This is the smallest integer >= x.\n",
            "    \n",
            "    comb(n, k, /)\n",
            "        Number of ways to choose k items from n items without repetition and without order.\n",
            "        \n",
            "        Evaluates to n! / (k! * (n - k)!) when k <= n and evaluates\n",
            "        to zero when k > n.\n",
            "        \n",
            "        Also called the binomial coefficient because it is equivalent\n",
            "        to the coefficient of k-th term in polynomial expansion of the\n",
            "        expression (1 + x)**n.\n",
            "        \n",
            "        Raises TypeError if either of the arguments are not integers.\n",
            "        Raises ValueError if either of the arguments are negative.\n",
            "    \n",
            "    copysign(x, y, /)\n",
            "        Return a float with the magnitude (absolute value) of x but the sign of y.\n",
            "        \n",
            "        On platforms that support signed zeros, copysign(1.0, -0.0)\n",
            "        returns -1.0.\n",
            "    \n",
            "    cos(x, /)\n",
            "        Return the cosine of x (measured in radians).\n",
            "    \n",
            "    cosh(x, /)\n",
            "        Return the hyperbolic cosine of x.\n",
            "    \n",
            "    degrees(x, /)\n",
            "        Convert angle x from radians to degrees.\n",
            "    \n",
            "    dist(p, q, /)\n",
            "        Return the Euclidean distance between two points p and q.\n",
            "        \n",
            "        The points should be specified as sequences (or iterables) of\n",
            "        coordinates.  Both inputs must have the same dimension.\n",
            "        \n",
            "        Roughly equivalent to:\n",
            "            sqrt(sum((px - qx) ** 2.0 for px, qx in zip(p, q)))\n",
            "    \n",
            "    erf(x, /)\n",
            "        Error function at x.\n",
            "    \n",
            "    erfc(x, /)\n",
            "        Complementary error function at x.\n",
            "    \n",
            "    exp(x, /)\n",
            "        Return e raised to the power of x.\n",
            "    \n",
            "    exp2(x, /)\n",
            "        Return 2 raised to the power of x.\n",
            "    \n",
            "    expm1(x, /)\n",
            "        Return exp(x)-1.\n",
            "        \n",
            "        This function avoids the loss of precision involved in the direct evaluation of exp(x)-1 for small x.\n",
            "    \n",
            "    fabs(x, /)\n",
            "        Return the absolute value of the float x.\n",
            "    \n",
            "    factorial(n, /)\n",
            "        Find n!.\n",
            "        \n",
            "        Raise a ValueError if x is negative or non-integral.\n",
            "    \n",
            "    floor(x, /)\n",
            "        Return the floor of x as an Integral.\n",
            "        \n",
            "        This is the largest integer <= x.\n",
            "    \n",
            "    fmod(x, y, /)\n",
            "        Return fmod(x, y), according to platform C.\n",
            "        \n",
            "        x % y may differ.\n",
            "    \n",
            "    frexp(x, /)\n",
            "        Return the mantissa and exponent of x, as pair (m, e).\n",
            "        \n",
            "        m is a float and e is an int, such that x = m * 2.**e.\n",
            "        If x is 0, m and e are both 0.  Else 0.5 <= abs(m) < 1.0.\n",
            "    \n",
            "    fsum(seq, /)\n",
            "        Return an accurate floating point sum of values in the iterable seq.\n",
            "        \n",
            "        Assumes IEEE-754 floating point arithmetic.\n",
            "    \n",
            "    gamma(x, /)\n",
            "        Gamma function at x.\n",
            "    \n",
            "    gcd(*integers)\n",
            "        Greatest Common Divisor.\n",
            "    \n",
            "    hypot(...)\n",
            "        hypot(*coordinates) -> value\n",
            "        \n",
            "        Multidimensional Euclidean distance from the origin to a point.\n",
            "        \n",
            "        Roughly equivalent to:\n",
            "            sqrt(sum(x**2 for x in coordinates))\n",
            "        \n",
            "        For a two dimensional point (x, y), gives the hypotenuse\n",
            "        using the Pythagorean theorem:  sqrt(x*x + y*y).\n",
            "        \n",
            "        For example, the hypotenuse of a 3/4/5 right triangle is:\n",
            "        \n",
            "            >>> hypot(3.0, 4.0)\n",
            "            5.0\n",
            "    \n",
            "    isclose(a, b, *, rel_tol=1e-09, abs_tol=0.0)\n",
            "        Determine whether two floating point numbers are close in value.\n",
            "        \n",
            "          rel_tol\n",
            "            maximum difference for being considered \"close\", relative to the\n",
            "            magnitude of the input values\n",
            "          abs_tol\n",
            "            maximum difference for being considered \"close\", regardless of the\n",
            "            magnitude of the input values\n",
            "        \n",
            "        Return True if a is close in value to b, and False otherwise.\n",
            "        \n",
            "        For the values to be considered close, the difference between them\n",
            "        must be smaller than at least one of the tolerances.\n",
            "        \n",
            "        -inf, inf and NaN behave similarly to the IEEE 754 Standard.  That\n",
            "        is, NaN is not close to anything, even itself.  inf and -inf are\n",
            "        only close to themselves.\n",
            "    \n",
            "    isfinite(x, /)\n",
            "        Return True if x is neither an infinity nor a NaN, and False otherwise.\n",
            "    \n",
            "    isinf(x, /)\n",
            "        Return True if x is a positive or negative infinity, and False otherwise.\n",
            "    \n",
            "    isnan(x, /)\n",
            "        Return True if x is a NaN (not a number), and False otherwise.\n",
            "    \n",
            "    isqrt(n, /)\n",
            "        Return the integer part of the square root of the input.\n",
            "    \n",
            "    lcm(*integers)\n",
            "        Least Common Multiple.\n",
            "    \n",
            "    ldexp(x, i, /)\n",
            "        Return x * (2**i).\n",
            "        \n",
            "        This is essentially the inverse of frexp().\n",
            "    \n",
            "    lgamma(x, /)\n",
            "        Natural logarithm of absolute value of Gamma function at x.\n",
            "    \n",
            "    log(...)\n",
            "        log(x, [base=math.e])\n",
            "        Return the logarithm of x to the given base.\n",
            "        \n",
            "        If the base not specified, returns the natural logarithm (base e) of x.\n",
            "    \n",
            "    log10(x, /)\n",
            "        Return the base 10 logarithm of x.\n",
            "    \n",
            "    log1p(x, /)\n",
            "        Return the natural logarithm of 1+x (base e).\n",
            "        \n",
            "        The result is computed in a way which is accurate for x near zero.\n",
            "    \n",
            "    log2(x, /)\n",
            "        Return the base 2 logarithm of x.\n",
            "    \n",
            "    modf(x, /)\n",
            "        Return the fractional and integer parts of x.\n",
            "        \n",
            "        Both results carry the sign of x and are floats.\n",
            "    \n",
            "    nextafter(x, y, /)\n",
            "        Return the next floating-point value after x towards y.\n",
            "    \n",
            "    perm(n, k=None, /)\n",
            "        Number of ways to choose k items from n items without repetition and with order.\n",
            "        \n",
            "        Evaluates to n! / (n - k)! when k <= n and evaluates\n",
            "        to zero when k > n.\n",
            "        \n",
            "        If k is not specified or is None, then k defaults to n\n",
            "        and the function returns n!.\n",
            "        \n",
            "        Raises TypeError if either of the arguments are not integers.\n",
            "        Raises ValueError if either of the arguments are negative.\n",
            "    \n",
            "    pow(x, y, /)\n",
            "        Return x**y (x to the power of y).\n",
            "    \n",
            "    prod(iterable, /, *, start=1)\n",
            "        Calculate the product of all the elements in the input iterable.\n",
            "        \n",
            "        The default start value for the product is 1.\n",
            "        \n",
            "        When the iterable is empty, return the start value.  This function is\n",
            "        intended specifically for use with numeric values and may reject\n",
            "        non-numeric types.\n",
            "    \n",
            "    radians(x, /)\n",
            "        Convert angle x from degrees to radians.\n",
            "    \n",
            "    remainder(x, y, /)\n",
            "        Difference between x and the closest integer multiple of y.\n",
            "        \n",
            "        Return x - n*y where n*y is the closest integer multiple of y.\n",
            "        In the case where x is exactly halfway between two multiples of\n",
            "        y, the nearest even value of n is used. The result is always exact.\n",
            "    \n",
            "    sin(x, /)\n",
            "        Return the sine of x (measured in radians).\n",
            "    \n",
            "    sinh(x, /)\n",
            "        Return the hyperbolic sine of x.\n",
            "    \n",
            "    sqrt(x, /)\n",
            "        Return the square root of x.\n",
            "    \n",
            "    tan(x, /)\n",
            "        Return the tangent of x (measured in radians).\n",
            "    \n",
            "    tanh(x, /)\n",
            "        Return the hyperbolic tangent of x.\n",
            "    \n",
            "    trunc(x, /)\n",
            "        Truncates the Real x to the nearest Integral toward 0.\n",
            "        \n",
            "        Uses the __trunc__ magic method.\n",
            "    \n",
            "    ulp(x, /)\n",
            "        Return the value of the least significant bit of the float x.\n",
            "\n",
            "DATA\n",
            "    e = 2.718281828459045\n",
            "    inf = inf\n",
            "    nan = nan\n",
            "    pi = 3.141592653589793\n",
            "    tau = 6.283185307179586\n",
            "\n",
            "FILE\n",
            "    (built-in)\n",
            "\n",
            "\n"
          ]
        }
      ]
    },
    {
      "cell_type": "code",
      "source": [
        "import math as mt #import library math\n",
        "mt.pi #menampilkan isi pi dari library math"
      ],
      "metadata": {
        "colab": {
          "base_uri": "https://localhost:8080/"
        },
        "id": "OgIomm6PS9rX",
        "outputId": "63f6df09-5d2c-45f3-b6b4-29f368a65704"
      },
      "execution_count": null,
      "outputs": [
        {
          "output_type": "execute_result",
          "data": {
            "text/plain": [
              "3.141592653589793"
            ]
          },
          "metadata": {},
          "execution_count": 9
        }
      ]
    },
    {
      "cell_type": "code",
      "source": [
        "import math\n",
        "mt = math"
      ],
      "metadata": {
        "id": "wEUxCFRrS9nC"
      },
      "execution_count": 24,
      "outputs": []
    },
    {
      "cell_type": "code",
      "source": [
        "from math import * #mengimport semua isi yg ada dari library math\n",
        "print(pi, log(32, 2))"
      ],
      "metadata": {
        "colab": {
          "base_uri": "https://localhost:8080/"
        },
        "id": "X6CLL9HmS9kV",
        "outputId": "14aac8f9-65c9-4091-8a0d-140afd2120a4"
      },
      "execution_count": 25,
      "outputs": [
        {
          "output_type": "stream",
          "name": "stdout",
          "text": [
            "3.141592653589793 5.0\n"
          ]
        }
      ]
    },
    {
      "cell_type": "code",
      "source": [
        "from math import *\n",
        "from numpy import *\n",
        "print(pi, log(32, 2))"
      ],
      "metadata": {
        "colab": {
          "base_uri": "https://localhost:8080/",
          "height": 176
        },
        "id": "OyDqy6QzS9hk",
        "outputId": "c22cd7fe-2c5a-4a0c-d6c5-852cb671e33a"
      },
      "execution_count": null,
      "outputs": [
        {
          "output_type": "error",
          "ename": "TypeError",
          "evalue": "return arrays must be of ArrayType",
          "traceback": [
            "\u001b[0;31m---------------------------------------------------------------------------\u001b[0m",
            "\u001b[0;31mTypeError\u001b[0m                                 Traceback (most recent call last)",
            "\u001b[0;32m<ipython-input-12-5045b296ad83>\u001b[0m in \u001b[0;36m<cell line: 0>\u001b[0;34m()\u001b[0m\n\u001b[1;32m      1\u001b[0m \u001b[0;32mfrom\u001b[0m \u001b[0mmath\u001b[0m \u001b[0;32mimport\u001b[0m \u001b[0;34m*\u001b[0m\u001b[0;34m\u001b[0m\u001b[0;34m\u001b[0m\u001b[0m\n\u001b[1;32m      2\u001b[0m \u001b[0;32mfrom\u001b[0m \u001b[0mnumpy\u001b[0m \u001b[0;32mimport\u001b[0m \u001b[0;34m*\u001b[0m\u001b[0;34m\u001b[0m\u001b[0;34m\u001b[0m\u001b[0m\n\u001b[0;32m----> 3\u001b[0;31m \u001b[0mprint\u001b[0m\u001b[0;34m(\u001b[0m\u001b[0mpi\u001b[0m\u001b[0;34m,\u001b[0m \u001b[0mlog\u001b[0m\u001b[0;34m(\u001b[0m\u001b[0;36m32\u001b[0m\u001b[0;34m,\u001b[0m \u001b[0;36m2\u001b[0m\u001b[0;34m)\u001b[0m\u001b[0;34m)\u001b[0m\u001b[0;34m\u001b[0m\u001b[0;34m\u001b[0m\u001b[0m\n\u001b[0m",
            "\u001b[0;31mTypeError\u001b[0m: return arrays must be of ArrayType"
          ]
        }
      ]
    },
    {
      "cell_type": "code",
      "source": [
        "from math import log, pi\n",
        "from numpy import asarray"
      ],
      "metadata": {
        "id": "TYjNbuDXTQvY"
      },
      "execution_count": 26,
      "outputs": []
    },
    {
      "cell_type": "code",
      "source": [
        "import numpy\n",
        "print(\"numpy.random is a\", type(numpy.random))\n",
        "print(\"it contains names such as...\",\n",
        "      dir(numpy.random)[-15:]\n",
        "     )"
      ],
      "metadata": {
        "colab": {
          "base_uri": "https://localhost:8080/"
        },
        "id": "1apWcOGmTQsr",
        "outputId": "22f40d0c-dbc3-4628-dd33-d9acf7a642cf"
      },
      "execution_count": 27,
      "outputs": [
        {
          "output_type": "stream",
          "name": "stdout",
          "text": [
            "numpy.random is a <class 'module'>\n",
            "it contains names such as... ['set_bit_generator', 'set_state', 'shuffle', 'standard_cauchy', 'standard_exponential', 'standard_gamma', 'standard_normal', 'standard_t', 'test', 'triangular', 'uniform', 'vonmises', 'wald', 'weibull', 'zipf']\n"
          ]
        }
      ]
    },
    {
      "cell_type": "code",
      "source": [
        "# Roll 10 dice\n",
        "rolls = numpy.random.randint(low=1, high=6, size=10)\n",
        "rolls"
      ],
      "metadata": {
        "colab": {
          "base_uri": "https://localhost:8080/"
        },
        "id": "ZwLb7VZFTQqg",
        "outputId": "01771a83-84f3-4a8a-aa8f-ca9676518be4"
      },
      "execution_count": 29,
      "outputs": [
        {
          "output_type": "execute_result",
          "data": {
            "text/plain": [
              "array([5, 4, 2, 1, 4, 4, 3, 3, 1, 2])"
            ]
          },
          "metadata": {},
          "execution_count": 29
        }
      ]
    },
    {
      "cell_type": "code",
      "source": [
        "type(rolls)"
      ],
      "metadata": {
        "colab": {
          "base_uri": "https://localhost:8080/"
        },
        "id": "et_nHiKqTQnq",
        "outputId": "60998a28-a053-43ea-fb56-ba580e6a2de7"
      },
      "execution_count": 30,
      "outputs": [
        {
          "output_type": "execute_result",
          "data": {
            "text/plain": [
              "numpy.ndarray"
            ]
          },
          "metadata": {},
          "execution_count": 30
        }
      ]
    },
    {
      "cell_type": "code",
      "source": [
        "print(dir(rolls))"
      ],
      "metadata": {
        "colab": {
          "base_uri": "https://localhost:8080/"
        },
        "id": "e1gKKmBtTQlB",
        "outputId": "661e5d27-ad1b-4ff4-aa7e-1302bf68767b"
      },
      "execution_count": null,
      "outputs": [
        {
          "output_type": "stream",
          "name": "stdout",
          "text": [
            "['T', '__abs__', '__add__', '__and__', '__array__', '__array_finalize__', '__array_function__', '__array_interface__', '__array_prepare__', '__array_priority__', '__array_struct__', '__array_ufunc__', '__array_wrap__', '__bool__', '__class__', '__class_getitem__', '__complex__', '__contains__', '__copy__', '__deepcopy__', '__delattr__', '__delitem__', '__dir__', '__divmod__', '__dlpack__', '__dlpack_device__', '__doc__', '__eq__', '__float__', '__floordiv__', '__format__', '__ge__', '__getattribute__', '__getitem__', '__getstate__', '__gt__', '__hash__', '__iadd__', '__iand__', '__ifloordiv__', '__ilshift__', '__imatmul__', '__imod__', '__imul__', '__index__', '__init__', '__init_subclass__', '__int__', '__invert__', '__ior__', '__ipow__', '__irshift__', '__isub__', '__iter__', '__itruediv__', '__ixor__', '__le__', '__len__', '__lshift__', '__lt__', '__matmul__', '__mod__', '__mul__', '__ne__', '__neg__', '__new__', '__or__', '__pos__', '__pow__', '__radd__', '__rand__', '__rdivmod__', '__reduce__', '__reduce_ex__', '__repr__', '__rfloordiv__', '__rlshift__', '__rmatmul__', '__rmod__', '__rmul__', '__ror__', '__rpow__', '__rrshift__', '__rshift__', '__rsub__', '__rtruediv__', '__rxor__', '__setattr__', '__setitem__', '__setstate__', '__sizeof__', '__str__', '__sub__', '__subclasshook__', '__truediv__', '__xor__', 'all', 'any', 'argmax', 'argmin', 'argpartition', 'argsort', 'astype', 'base', 'byteswap', 'choose', 'clip', 'compress', 'conj', 'conjugate', 'copy', 'ctypes', 'cumprod', 'cumsum', 'data', 'diagonal', 'dot', 'dtype', 'dump', 'dumps', 'fill', 'flags', 'flat', 'flatten', 'getfield', 'imag', 'item', 'itemset', 'itemsize', 'max', 'mean', 'min', 'nbytes', 'ndim', 'newbyteorder', 'nonzero', 'partition', 'prod', 'ptp', 'put', 'ravel', 'real', 'repeat', 'reshape', 'resize', 'round', 'searchsorted', 'setfield', 'setflags', 'shape', 'size', 'sort', 'squeeze', 'std', 'strides', 'sum', 'swapaxes', 'take', 'tobytes', 'tofile', 'tolist', 'tostring', 'trace', 'transpose', 'var', 'view']\n"
          ]
        }
      ]
    },
    {
      "cell_type": "code",
      "source": [
        "# If I want the average roll, the \"mean\" method looks promising...\n",
        "rolls.mean()"
      ],
      "metadata": {
        "colab": {
          "base_uri": "https://localhost:8080/"
        },
        "id": "GZCZ3iR9TjiL",
        "outputId": "6b4481f1-4901-4ac3-a967-51e5a6240215"
      },
      "execution_count": null,
      "outputs": [
        {
          "output_type": "execute_result",
          "data": {
            "text/plain": [
              "3.3"
            ]
          },
          "metadata": {},
          "execution_count": 18
        }
      ]
    },
    {
      "cell_type": "code",
      "source": [
        "# Or maybe I just want to turn the array into a list, in which case I can use \"tolist\"\n",
        "rolls.tolist()"
      ],
      "metadata": {
        "colab": {
          "base_uri": "https://localhost:8080/"
        },
        "id": "-Poy3j4fTjgJ",
        "outputId": "6c1cff64-8bd7-430c-f302-b3d45cd9b501"
      },
      "execution_count": null,
      "outputs": [
        {
          "output_type": "execute_result",
          "data": {
            "text/plain": [
              "[2, 4, 4, 4, 4, 4, 4, 5, 1, 1]"
            ]
          },
          "metadata": {},
          "execution_count": 19
        }
      ]
    },
    {
      "cell_type": "code",
      "source": [
        "# That \"ravel\" attribute sounds interesting. I'm a big classical music fan.\n",
        "help(rolls.ravel)"
      ],
      "metadata": {
        "colab": {
          "base_uri": "https://localhost:8080/"
        },
        "id": "i-VypH-iTjdJ",
        "outputId": "87b5788b-bf19-4097-db17-0a6c12ff915d"
      },
      "execution_count": null,
      "outputs": [
        {
          "output_type": "stream",
          "name": "stdout",
          "text": [
            "Help on built-in function ravel:\n",
            "\n",
            "ravel(...) method of numpy.ndarray instance\n",
            "    a.ravel([order])\n",
            "    \n",
            "    Return a flattened array.\n",
            "    \n",
            "    Refer to `numpy.ravel` for full documentation.\n",
            "    \n",
            "    See Also\n",
            "    --------\n",
            "    numpy.ravel : equivalent function\n",
            "    \n",
            "    ndarray.flat : a flat iterator on the array.\n",
            "\n"
          ]
        }
      ]
    },
    {
      "cell_type": "code",
      "source": [
        "# Okay, just tell me everything there is to know about numpy.ndarray\n",
        "# (Click the \"output\" button to see the novel-length output)\n",
        "help(rolls)"
      ],
      "metadata": {
        "colab": {
          "base_uri": "https://localhost:8080/"
        },
        "id": "dIfFh1scTjaD",
        "outputId": "b9de50cd-0f96-4a6a-81f4-ec56970ef043"
      },
      "execution_count": null,
      "outputs": [
        {
          "output_type": "stream",
          "name": "stdout",
          "text": [
            "Help on ndarray object:\n",
            "\n",
            "class ndarray(builtins.object)\n",
            " |  ndarray(shape, dtype=float, buffer=None, offset=0,\n",
            " |          strides=None, order=None)\n",
            " |  \n",
            " |  An array object represents a multidimensional, homogeneous array\n",
            " |  of fixed-size items.  An associated data-type object describes the\n",
            " |  format of each element in the array (its byte-order, how many bytes it\n",
            " |  occupies in memory, whether it is an integer, a floating point number,\n",
            " |  or something else, etc.)\n",
            " |  \n",
            " |  Arrays should be constructed using `array`, `zeros` or `empty` (refer\n",
            " |  to the See Also section below).  The parameters given here refer to\n",
            " |  a low-level method (`ndarray(...)`) for instantiating an array.\n",
            " |  \n",
            " |  For more information, refer to the `numpy` module and examine the\n",
            " |  methods and attributes of an array.\n",
            " |  \n",
            " |  Parameters\n",
            " |  ----------\n",
            " |  (for the __new__ method; see Notes below)\n",
            " |  \n",
            " |  shape : tuple of ints\n",
            " |      Shape of created array.\n",
            " |  dtype : data-type, optional\n",
            " |      Any object that can be interpreted as a numpy data type.\n",
            " |  buffer : object exposing buffer interface, optional\n",
            " |      Used to fill the array with data.\n",
            " |  offset : int, optional\n",
            " |      Offset of array data in buffer.\n",
            " |  strides : tuple of ints, optional\n",
            " |      Strides of data in memory.\n",
            " |  order : {'C', 'F'}, optional\n",
            " |      Row-major (C-style) or column-major (Fortran-style) order.\n",
            " |  \n",
            " |  Attributes\n",
            " |  ----------\n",
            " |  T : ndarray\n",
            " |      Transpose of the array.\n",
            " |  data : buffer\n",
            " |      The array's elements, in memory.\n",
            " |  dtype : dtype object\n",
            " |      Describes the format of the elements in the array.\n",
            " |  flags : dict\n",
            " |      Dictionary containing information related to memory use, e.g.,\n",
            " |      'C_CONTIGUOUS', 'OWNDATA', 'WRITEABLE', etc.\n",
            " |  flat : numpy.flatiter object\n",
            " |      Flattened version of the array as an iterator.  The iterator\n",
            " |      allows assignments, e.g., ``x.flat = 3`` (See `ndarray.flat` for\n",
            " |      assignment examples; TODO).\n",
            " |  imag : ndarray\n",
            " |      Imaginary part of the array.\n",
            " |  real : ndarray\n",
            " |      Real part of the array.\n",
            " |  size : int\n",
            " |      Number of elements in the array.\n",
            " |  itemsize : int\n",
            " |      The memory use of each array element in bytes.\n",
            " |  nbytes : int\n",
            " |      The total number of bytes required to store the array data,\n",
            " |      i.e., ``itemsize * size``.\n",
            " |  ndim : int\n",
            " |      The array's number of dimensions.\n",
            " |  shape : tuple of ints\n",
            " |      Shape of the array.\n",
            " |  strides : tuple of ints\n",
            " |      The step-size required to move from one element to the next in\n",
            " |      memory. For example, a contiguous ``(3, 4)`` array of type\n",
            " |      ``int16`` in C-order has strides ``(8, 2)``.  This implies that\n",
            " |      to move from element to element in memory requires jumps of 2 bytes.\n",
            " |      To move from row-to-row, one needs to jump 8 bytes at a time\n",
            " |      (``2 * 4``).\n",
            " |  ctypes : ctypes object\n",
            " |      Class containing properties of the array needed for interaction\n",
            " |      with ctypes.\n",
            " |  base : ndarray\n",
            " |      If the array is a view into another array, that array is its `base`\n",
            " |      (unless that array is also a view).  The `base` array is where the\n",
            " |      array data is actually stored.\n",
            " |  \n",
            " |  See Also\n",
            " |  --------\n",
            " |  array : Construct an array.\n",
            " |  zeros : Create an array, each element of which is zero.\n",
            " |  empty : Create an array, but leave its allocated memory unchanged (i.e.,\n",
            " |          it contains \"garbage\").\n",
            " |  dtype : Create a data-type.\n",
            " |  numpy.typing.NDArray : An ndarray alias :term:`generic <generic type>`\n",
            " |                         w.r.t. its `dtype.type <numpy.dtype.type>`.\n",
            " |  \n",
            " |  Notes\n",
            " |  -----\n",
            " |  There are two modes of creating an array using ``__new__``:\n",
            " |  \n",
            " |  1. If `buffer` is None, then only `shape`, `dtype`, and `order`\n",
            " |     are used.\n",
            " |  2. If `buffer` is an object exposing the buffer interface, then\n",
            " |     all keywords are interpreted.\n",
            " |  \n",
            " |  No ``__init__`` method is needed because the array is fully initialized\n",
            " |  after the ``__new__`` method.\n",
            " |  \n",
            " |  Examples\n",
            " |  --------\n",
            " |  These examples illustrate the low-level `ndarray` constructor.  Refer\n",
            " |  to the `See Also` section above for easier ways of constructing an\n",
            " |  ndarray.\n",
            " |  \n",
            " |  First mode, `buffer` is None:\n",
            " |  \n",
            " |  >>> np.ndarray(shape=(2,2), dtype=float, order='F')\n",
            " |  array([[0.0e+000, 0.0e+000], # random\n",
            " |         [     nan, 2.5e-323]])\n",
            " |  \n",
            " |  Second mode:\n",
            " |  \n",
            " |  >>> np.ndarray((2,), buffer=np.array([1,2,3]),\n",
            " |  ...            offset=np.int_().itemsize,\n",
            " |  ...            dtype=int) # offset = 1*itemsize, i.e. skip first element\n",
            " |  array([2, 3])\n",
            " |  \n",
            " |  Methods defined here:\n",
            " |  \n",
            " |  __abs__(self, /)\n",
            " |      abs(self)\n",
            " |  \n",
            " |  __add__(self, value, /)\n",
            " |      Return self+value.\n",
            " |  \n",
            " |  __and__(self, value, /)\n",
            " |      Return self&value.\n",
            " |  \n",
            " |  __array__(...)\n",
            " |      a.__array__([dtype], /)\n",
            " |      \n",
            " |      Returns either a new reference to self if dtype is not given or a new array\n",
            " |      of provided data type if dtype is different from the current dtype of the\n",
            " |      array.\n",
            " |  \n",
            " |  __array_finalize__(...)\n",
            " |      a.__array_finalize__(obj, /)\n",
            " |      \n",
            " |      Present so subclasses can call super. Does nothing.\n",
            " |  \n",
            " |  __array_function__(...)\n",
            " |  \n",
            " |  __array_prepare__(...)\n",
            " |      a.__array_prepare__(array[, context], /)\n",
            " |      \n",
            " |      Returns a view of `array` with the same type as self.\n",
            " |  \n",
            " |  __array_ufunc__(...)\n",
            " |  \n",
            " |  __array_wrap__(...)\n",
            " |      a.__array_wrap__(array[, context], /)\n",
            " |      \n",
            " |      Returns a view of `array` with the same type as self.\n",
            " |  \n",
            " |  __bool__(self, /)\n",
            " |      True if self else False\n",
            " |  \n",
            " |  __complex__(...)\n",
            " |  \n",
            " |  __contains__(self, key, /)\n",
            " |      Return key in self.\n",
            " |  \n",
            " |  __copy__(...)\n",
            " |      a.__copy__()\n",
            " |      \n",
            " |      Used if :func:`copy.copy` is called on an array. Returns a copy of the array.\n",
            " |      \n",
            " |      Equivalent to ``a.copy(order='K')``.\n",
            " |  \n",
            " |  __deepcopy__(...)\n",
            " |      a.__deepcopy__(memo, /)\n",
            " |      \n",
            " |      Used if :func:`copy.deepcopy` is called on an array.\n",
            " |  \n",
            " |  __delitem__(self, key, /)\n",
            " |      Delete self[key].\n",
            " |  \n",
            " |  __divmod__(self, value, /)\n",
            " |      Return divmod(self, value).\n",
            " |  \n",
            " |  __dlpack__(...)\n",
            " |      a.__dlpack__(*, stream=None)\n",
            " |      \n",
            " |      DLPack Protocol: Part of the Array API.\n",
            " |  \n",
            " |  __dlpack_device__(...)\n",
            " |      a.__dlpack_device__()\n",
            " |      \n",
            " |      DLPack Protocol: Part of the Array API.\n",
            " |  \n",
            " |  __eq__(self, value, /)\n",
            " |      Return self==value.\n",
            " |  \n",
            " |  __float__(self, /)\n",
            " |      float(self)\n",
            " |  \n",
            " |  __floordiv__(self, value, /)\n",
            " |      Return self//value.\n",
            " |  \n",
            " |  __format__(...)\n",
            " |      Default object formatter.\n",
            " |  \n",
            " |  __ge__(self, value, /)\n",
            " |      Return self>=value.\n",
            " |  \n",
            " |  __getitem__(self, key, /)\n",
            " |      Return self[key].\n",
            " |  \n",
            " |  __gt__(self, value, /)\n",
            " |      Return self>value.\n",
            " |  \n",
            " |  __iadd__(self, value, /)\n",
            " |      Return self+=value.\n",
            " |  \n",
            " |  __iand__(self, value, /)\n",
            " |      Return self&=value.\n",
            " |  \n",
            " |  __ifloordiv__(self, value, /)\n",
            " |      Return self//=value.\n",
            " |  \n",
            " |  __ilshift__(self, value, /)\n",
            " |      Return self<<=value.\n",
            " |  \n",
            " |  __imatmul__(self, value, /)\n",
            " |      Return self@=value.\n",
            " |  \n",
            " |  __imod__(self, value, /)\n",
            " |      Return self%=value.\n",
            " |  \n",
            " |  __imul__(self, value, /)\n",
            " |      Return self*=value.\n",
            " |  \n",
            " |  __index__(self, /)\n",
            " |      Return self converted to an integer, if self is suitable for use as an index into a list.\n",
            " |  \n",
            " |  __int__(self, /)\n",
            " |      int(self)\n",
            " |  \n",
            " |  __invert__(self, /)\n",
            " |      ~self\n",
            " |  \n",
            " |  __ior__(self, value, /)\n",
            " |      Return self|=value.\n",
            " |  \n",
            " |  __ipow__(self, value, /)\n",
            " |      Return self**=value.\n",
            " |  \n",
            " |  __irshift__(self, value, /)\n",
            " |      Return self>>=value.\n",
            " |  \n",
            " |  __isub__(self, value, /)\n",
            " |      Return self-=value.\n",
            " |  \n",
            " |  __iter__(self, /)\n",
            " |      Implement iter(self).\n",
            " |  \n",
            " |  __itruediv__(self, value, /)\n",
            " |      Return self/=value.\n",
            " |  \n",
            " |  __ixor__(self, value, /)\n",
            " |      Return self^=value.\n",
            " |  \n",
            " |  __le__(self, value, /)\n",
            " |      Return self<=value.\n",
            " |  \n",
            " |  __len__(self, /)\n",
            " |      Return len(self).\n",
            " |  \n",
            " |  __lshift__(self, value, /)\n",
            " |      Return self<<value.\n",
            " |  \n",
            " |  __lt__(self, value, /)\n",
            " |      Return self<value.\n",
            " |  \n",
            " |  __matmul__(self, value, /)\n",
            " |      Return self@value.\n",
            " |  \n",
            " |  __mod__(self, value, /)\n",
            " |      Return self%value.\n",
            " |  \n",
            " |  __mul__(self, value, /)\n",
            " |      Return self*value.\n",
            " |  \n",
            " |  __ne__(self, value, /)\n",
            " |      Return self!=value.\n",
            " |  \n",
            " |  __neg__(self, /)\n",
            " |      -self\n",
            " |  \n",
            " |  __or__(self, value, /)\n",
            " |      Return self|value.\n",
            " |  \n",
            " |  __pos__(self, /)\n",
            " |      +self\n",
            " |  \n",
            " |  __pow__(self, value, mod=None, /)\n",
            " |      Return pow(self, value, mod).\n",
            " |  \n",
            " |  __radd__(self, value, /)\n",
            " |      Return value+self.\n",
            " |  \n",
            " |  __rand__(self, value, /)\n",
            " |      Return value&self.\n",
            " |  \n",
            " |  __rdivmod__(self, value, /)\n",
            " |      Return divmod(value, self).\n",
            " |  \n",
            " |  __reduce__(...)\n",
            " |      a.__reduce__()\n",
            " |      \n",
            " |      For pickling.\n",
            " |  \n",
            " |  __reduce_ex__(...)\n",
            " |      Helper for pickle.\n",
            " |  \n",
            " |  __repr__(self, /)\n",
            " |      Return repr(self).\n",
            " |  \n",
            " |  __rfloordiv__(self, value, /)\n",
            " |      Return value//self.\n",
            " |  \n",
            " |  __rlshift__(self, value, /)\n",
            " |      Return value<<self.\n",
            " |  \n",
            " |  __rmatmul__(self, value, /)\n",
            " |      Return value@self.\n",
            " |  \n",
            " |  __rmod__(self, value, /)\n",
            " |      Return value%self.\n",
            " |  \n",
            " |  __rmul__(self, value, /)\n",
            " |      Return value*self.\n",
            " |  \n",
            " |  __ror__(self, value, /)\n",
            " |      Return value|self.\n",
            " |  \n",
            " |  __rpow__(self, value, mod=None, /)\n",
            " |      Return pow(value, self, mod).\n",
            " |  \n",
            " |  __rrshift__(self, value, /)\n",
            " |      Return value>>self.\n",
            " |  \n",
            " |  __rshift__(self, value, /)\n",
            " |      Return self>>value.\n",
            " |  \n",
            " |  __rsub__(self, value, /)\n",
            " |      Return value-self.\n",
            " |  \n",
            " |  __rtruediv__(self, value, /)\n",
            " |      Return value/self.\n",
            " |  \n",
            " |  __rxor__(self, value, /)\n",
            " |      Return value^self.\n",
            " |  \n",
            " |  __setitem__(self, key, value, /)\n",
            " |      Set self[key] to value.\n",
            " |  \n",
            " |  __setstate__(...)\n",
            " |      a.__setstate__(state, /)\n",
            " |      \n",
            " |      For unpickling.\n",
            " |      \n",
            " |      The `state` argument must be a sequence that contains the following\n",
            " |      elements:\n",
            " |      \n",
            " |      Parameters\n",
            " |      ----------\n",
            " |      version : int\n",
            " |          optional pickle version. If omitted defaults to 0.\n",
            " |      shape : tuple\n",
            " |      dtype : data-type\n",
            " |      isFortran : bool\n",
            " |      rawdata : string or list\n",
            " |          a binary string with the data (or a list if 'a' is an object array)\n",
            " |  \n",
            " |  __sizeof__(...)\n",
            " |      Size of object in memory, in bytes.\n",
            " |  \n",
            " |  __str__(self, /)\n",
            " |      Return str(self).\n",
            " |  \n",
            " |  __sub__(self, value, /)\n",
            " |      Return self-value.\n",
            " |  \n",
            " |  __truediv__(self, value, /)\n",
            " |      Return self/value.\n",
            " |  \n",
            " |  __xor__(self, value, /)\n",
            " |      Return self^value.\n",
            " |  \n",
            " |  all(...)\n",
            " |      a.all(axis=None, out=None, keepdims=False, *, where=True)\n",
            " |      \n",
            " |      Returns True if all elements evaluate to True.\n",
            " |      \n",
            " |      Refer to `numpy.all` for full documentation.\n",
            " |      \n",
            " |      See Also\n",
            " |      --------\n",
            " |      numpy.all : equivalent function\n",
            " |  \n",
            " |  any(...)\n",
            " |      a.any(axis=None, out=None, keepdims=False, *, where=True)\n",
            " |      \n",
            " |      Returns True if any of the elements of `a` evaluate to True.\n",
            " |      \n",
            " |      Refer to `numpy.any` for full documentation.\n",
            " |      \n",
            " |      See Also\n",
            " |      --------\n",
            " |      numpy.any : equivalent function\n",
            " |  \n",
            " |  argmax(...)\n",
            " |      a.argmax(axis=None, out=None, *, keepdims=False)\n",
            " |      \n",
            " |      Return indices of the maximum values along the given axis.\n",
            " |      \n",
            " |      Refer to `numpy.argmax` for full documentation.\n",
            " |      \n",
            " |      See Also\n",
            " |      --------\n",
            " |      numpy.argmax : equivalent function\n",
            " |  \n",
            " |  argmin(...)\n",
            " |      a.argmin(axis=None, out=None, *, keepdims=False)\n",
            " |      \n",
            " |      Return indices of the minimum values along the given axis.\n",
            " |      \n",
            " |      Refer to `numpy.argmin` for detailed documentation.\n",
            " |      \n",
            " |      See Also\n",
            " |      --------\n",
            " |      numpy.argmin : equivalent function\n",
            " |  \n",
            " |  argpartition(...)\n",
            " |      a.argpartition(kth, axis=-1, kind='introselect', order=None)\n",
            " |      \n",
            " |      Returns the indices that would partition this array.\n",
            " |      \n",
            " |      Refer to `numpy.argpartition` for full documentation.\n",
            " |      \n",
            " |      .. versionadded:: 1.8.0\n",
            " |      \n",
            " |      See Also\n",
            " |      --------\n",
            " |      numpy.argpartition : equivalent function\n",
            " |  \n",
            " |  argsort(...)\n",
            " |      a.argsort(axis=-1, kind=None, order=None)\n",
            " |      \n",
            " |      Returns the indices that would sort this array.\n",
            " |      \n",
            " |      Refer to `numpy.argsort` for full documentation.\n",
            " |      \n",
            " |      See Also\n",
            " |      --------\n",
            " |      numpy.argsort : equivalent function\n",
            " |  \n",
            " |  astype(...)\n",
            " |      a.astype(dtype, order='K', casting='unsafe', subok=True, copy=True)\n",
            " |      \n",
            " |      Copy of the array, cast to a specified type.\n",
            " |      \n",
            " |      Parameters\n",
            " |      ----------\n",
            " |      dtype : str or dtype\n",
            " |          Typecode or data-type to which the array is cast.\n",
            " |      order : {'C', 'F', 'A', 'K'}, optional\n",
            " |          Controls the memory layout order of the result.\n",
            " |          'C' means C order, 'F' means Fortran order, 'A'\n",
            " |          means 'F' order if all the arrays are Fortran contiguous,\n",
            " |          'C' order otherwise, and 'K' means as close to the\n",
            " |          order the array elements appear in memory as possible.\n",
            " |          Default is 'K'.\n",
            " |      casting : {'no', 'equiv', 'safe', 'same_kind', 'unsafe'}, optional\n",
            " |          Controls what kind of data casting may occur. Defaults to 'unsafe'\n",
            " |          for backwards compatibility.\n",
            " |      \n",
            " |            * 'no' means the data types should not be cast at all.\n",
            " |            * 'equiv' means only byte-order changes are allowed.\n",
            " |            * 'safe' means only casts which can preserve values are allowed.\n",
            " |            * 'same_kind' means only safe casts or casts within a kind,\n",
            " |              like float64 to float32, are allowed.\n",
            " |            * 'unsafe' means any data conversions may be done.\n",
            " |      subok : bool, optional\n",
            " |          If True, then sub-classes will be passed-through (default), otherwise\n",
            " |          the returned array will be forced to be a base-class array.\n",
            " |      copy : bool, optional\n",
            " |          By default, astype always returns a newly allocated array. If this\n",
            " |          is set to false, and the `dtype`, `order`, and `subok`\n",
            " |          requirements are satisfied, the input array is returned instead\n",
            " |          of a copy.\n",
            " |      \n",
            " |      Returns\n",
            " |      -------\n",
            " |      arr_t : ndarray\n",
            " |          Unless `copy` is False and the other conditions for returning the input\n",
            " |          array are satisfied (see description for `copy` input parameter), `arr_t`\n",
            " |          is a new array of the same shape as the input array, with dtype, order\n",
            " |          given by `dtype`, `order`.\n",
            " |      \n",
            " |      Notes\n",
            " |      -----\n",
            " |      .. versionchanged:: 1.17.0\n",
            " |         Casting between a simple data type and a structured one is possible only\n",
            " |         for \"unsafe\" casting.  Casting to multiple fields is allowed, but\n",
            " |         casting from multiple fields is not.\n",
            " |      \n",
            " |      .. versionchanged:: 1.9.0\n",
            " |         Casting from numeric to string types in 'safe' casting mode requires\n",
            " |         that the string dtype length is long enough to store the max\n",
            " |         integer/float value converted.\n",
            " |      \n",
            " |      Raises\n",
            " |      ------\n",
            " |      ComplexWarning\n",
            " |          When casting from complex to float or int. To avoid this,\n",
            " |          one should use ``a.real.astype(t)``.\n",
            " |      \n",
            " |      Examples\n",
            " |      --------\n",
            " |      >>> x = np.array([1, 2, 2.5])\n",
            " |      >>> x\n",
            " |      array([1. ,  2. ,  2.5])\n",
            " |      \n",
            " |      >>> x.astype(int)\n",
            " |      array([1, 2, 2])\n",
            " |  \n",
            " |  byteswap(...)\n",
            " |      a.byteswap(inplace=False)\n",
            " |      \n",
            " |      Swap the bytes of the array elements\n",
            " |      \n",
            " |      Toggle between low-endian and big-endian data representation by\n",
            " |      returning a byteswapped array, optionally swapped in-place.\n",
            " |      Arrays of byte-strings are not swapped. The real and imaginary\n",
            " |      parts of a complex number are swapped individually.\n",
            " |      \n",
            " |      Parameters\n",
            " |      ----------\n",
            " |      inplace : bool, optional\n",
            " |          If ``True``, swap bytes in-place, default is ``False``.\n",
            " |      \n",
            " |      Returns\n",
            " |      -------\n",
            " |      out : ndarray\n",
            " |          The byteswapped array. If `inplace` is ``True``, this is\n",
            " |          a view to self.\n",
            " |      \n",
            " |      Examples\n",
            " |      --------\n",
            " |      >>> A = np.array([1, 256, 8755], dtype=np.int16)\n",
            " |      >>> list(map(hex, A))\n",
            " |      ['0x1', '0x100', '0x2233']\n",
            " |      >>> A.byteswap(inplace=True)\n",
            " |      array([  256,     1, 13090], dtype=int16)\n",
            " |      >>> list(map(hex, A))\n",
            " |      ['0x100', '0x1', '0x3322']\n",
            " |      \n",
            " |      Arrays of byte-strings are not swapped\n",
            " |      \n",
            " |      >>> A = np.array([b'ceg', b'fac'])\n",
            " |      >>> A.byteswap()\n",
            " |      array([b'ceg', b'fac'], dtype='|S3')\n",
            " |      \n",
            " |      ``A.newbyteorder().byteswap()`` produces an array with the same values\n",
            " |        but different representation in memory\n",
            " |      \n",
            " |      >>> A = np.array([1, 2, 3])\n",
            " |      >>> A.view(np.uint8)\n",
            " |      array([1, 0, 0, 0, 0, 0, 0, 0, 2, 0, 0, 0, 0, 0, 0, 0, 3, 0, 0, 0, 0, 0,\n",
            " |             0, 0], dtype=uint8)\n",
            " |      >>> A.newbyteorder().byteswap(inplace=True)\n",
            " |      array([1, 2, 3])\n",
            " |      >>> A.view(np.uint8)\n",
            " |      array([0, 0, 0, 0, 0, 0, 0, 1, 0, 0, 0, 0, 0, 0, 0, 2, 0, 0, 0, 0, 0, 0,\n",
            " |             0, 3], dtype=uint8)\n",
            " |  \n",
            " |  choose(...)\n",
            " |      a.choose(choices, out=None, mode='raise')\n",
            " |      \n",
            " |      Use an index array to construct a new array from a set of choices.\n",
            " |      \n",
            " |      Refer to `numpy.choose` for full documentation.\n",
            " |      \n",
            " |      See Also\n",
            " |      --------\n",
            " |      numpy.choose : equivalent function\n",
            " |  \n",
            " |  clip(...)\n",
            " |      a.clip(min=None, max=None, out=None, **kwargs)\n",
            " |      \n",
            " |      Return an array whose values are limited to ``[min, max]``.\n",
            " |      One of max or min must be given.\n",
            " |      \n",
            " |      Refer to `numpy.clip` for full documentation.\n",
            " |      \n",
            " |      See Also\n",
            " |      --------\n",
            " |      numpy.clip : equivalent function\n",
            " |  \n",
            " |  compress(...)\n",
            " |      a.compress(condition, axis=None, out=None)\n",
            " |      \n",
            " |      Return selected slices of this array along given axis.\n",
            " |      \n",
            " |      Refer to `numpy.compress` for full documentation.\n",
            " |      \n",
            " |      See Also\n",
            " |      --------\n",
            " |      numpy.compress : equivalent function\n",
            " |  \n",
            " |  conj(...)\n",
            " |      a.conj()\n",
            " |      \n",
            " |      Complex-conjugate all elements.\n",
            " |      \n",
            " |      Refer to `numpy.conjugate` for full documentation.\n",
            " |      \n",
            " |      See Also\n",
            " |      --------\n",
            " |      numpy.conjugate : equivalent function\n",
            " |  \n",
            " |  conjugate(...)\n",
            " |      a.conjugate()\n",
            " |      \n",
            " |      Return the complex conjugate, element-wise.\n",
            " |      \n",
            " |      Refer to `numpy.conjugate` for full documentation.\n",
            " |      \n",
            " |      See Also\n",
            " |      --------\n",
            " |      numpy.conjugate : equivalent function\n",
            " |  \n",
            " |  copy(...)\n",
            " |      a.copy(order='C')\n",
            " |      \n",
            " |      Return a copy of the array.\n",
            " |      \n",
            " |      Parameters\n",
            " |      ----------\n",
            " |      order : {'C', 'F', 'A', 'K'}, optional\n",
            " |          Controls the memory layout of the copy. 'C' means C-order,\n",
            " |          'F' means F-order, 'A' means 'F' if `a` is Fortran contiguous,\n",
            " |          'C' otherwise. 'K' means match the layout of `a` as closely\n",
            " |          as possible. (Note that this function and :func:`numpy.copy` are very\n",
            " |          similar but have different default values for their order=\n",
            " |          arguments, and this function always passes sub-classes through.)\n",
            " |      \n",
            " |      See also\n",
            " |      --------\n",
            " |      numpy.copy : Similar function with different default behavior\n",
            " |      numpy.copyto\n",
            " |      \n",
            " |      Notes\n",
            " |      -----\n",
            " |      This function is the preferred method for creating an array copy.  The\n",
            " |      function :func:`numpy.copy` is similar, but it defaults to using order 'K',\n",
            " |      and will not pass sub-classes through by default.\n",
            " |      \n",
            " |      Examples\n",
            " |      --------\n",
            " |      >>> x = np.array([[1,2,3],[4,5,6]], order='F')\n",
            " |      \n",
            " |      >>> y = x.copy()\n",
            " |      \n",
            " |      >>> x.fill(0)\n",
            " |      \n",
            " |      >>> x\n",
            " |      array([[0, 0, 0],\n",
            " |             [0, 0, 0]])\n",
            " |      \n",
            " |      >>> y\n",
            " |      array([[1, 2, 3],\n",
            " |             [4, 5, 6]])\n",
            " |      \n",
            " |      >>> y.flags['C_CONTIGUOUS']\n",
            " |      True\n",
            " |  \n",
            " |  cumprod(...)\n",
            " |      a.cumprod(axis=None, dtype=None, out=None)\n",
            " |      \n",
            " |      Return the cumulative product of the elements along the given axis.\n",
            " |      \n",
            " |      Refer to `numpy.cumprod` for full documentation.\n",
            " |      \n",
            " |      See Also\n",
            " |      --------\n",
            " |      numpy.cumprod : equivalent function\n",
            " |  \n",
            " |  cumsum(...)\n",
            " |      a.cumsum(axis=None, dtype=None, out=None)\n",
            " |      \n",
            " |      Return the cumulative sum of the elements along the given axis.\n",
            " |      \n",
            " |      Refer to `numpy.cumsum` for full documentation.\n",
            " |      \n",
            " |      See Also\n",
            " |      --------\n",
            " |      numpy.cumsum : equivalent function\n",
            " |  \n",
            " |  diagonal(...)\n",
            " |      a.diagonal(offset=0, axis1=0, axis2=1)\n",
            " |      \n",
            " |      Return specified diagonals. In NumPy 1.9 the returned array is a\n",
            " |      read-only view instead of a copy as in previous NumPy versions.  In\n",
            " |      a future version the read-only restriction will be removed.\n",
            " |      \n",
            " |      Refer to :func:`numpy.diagonal` for full documentation.\n",
            " |      \n",
            " |      See Also\n",
            " |      --------\n",
            " |      numpy.diagonal : equivalent function\n",
            " |  \n",
            " |  dot(...)\n",
            " |  \n",
            " |  dump(...)\n",
            " |      a.dump(file)\n",
            " |      \n",
            " |      Dump a pickle of the array to the specified file.\n",
            " |      The array can be read back with pickle.load or numpy.load.\n",
            " |      \n",
            " |      Parameters\n",
            " |      ----------\n",
            " |      file : str or Path\n",
            " |          A string naming the dump file.\n",
            " |      \n",
            " |          .. versionchanged:: 1.17.0\n",
            " |              `pathlib.Path` objects are now accepted.\n",
            " |  \n",
            " |  dumps(...)\n",
            " |      a.dumps()\n",
            " |      \n",
            " |      Returns the pickle of the array as a string.\n",
            " |      pickle.loads will convert the string back to an array.\n",
            " |      \n",
            " |      Parameters\n",
            " |      ----------\n",
            " |      None\n",
            " |  \n",
            " |  fill(...)\n",
            " |      a.fill(value)\n",
            " |      \n",
            " |      Fill the array with a scalar value.\n",
            " |      \n",
            " |      Parameters\n",
            " |      ----------\n",
            " |      value : scalar\n",
            " |          All elements of `a` will be assigned this value.\n",
            " |      \n",
            " |      Examples\n",
            " |      --------\n",
            " |      >>> a = np.array([1, 2])\n",
            " |      >>> a.fill(0)\n",
            " |      >>> a\n",
            " |      array([0, 0])\n",
            " |      >>> a = np.empty(2)\n",
            " |      >>> a.fill(1)\n",
            " |      >>> a\n",
            " |      array([1.,  1.])\n",
            " |      \n",
            " |      Fill expects a scalar value and always behaves the same as assigning\n",
            " |      to a single array element.  The following is a rare example where this\n",
            " |      distinction is important:\n",
            " |      \n",
            " |      >>> a = np.array([None, None], dtype=object)\n",
            " |      >>> a[0] = np.array(3)\n",
            " |      >>> a\n",
            " |      array([array(3), None], dtype=object)\n",
            " |      >>> a.fill(np.array(3))\n",
            " |      >>> a\n",
            " |      array([array(3), array(3)], dtype=object)\n",
            " |      \n",
            " |      Where other forms of assignments will unpack the array being assigned:\n",
            " |      \n",
            " |      >>> a[...] = np.array(3)\n",
            " |      >>> a\n",
            " |      array([3, 3], dtype=object)\n",
            " |  \n",
            " |  flatten(...)\n",
            " |      a.flatten(order='C')\n",
            " |      \n",
            " |      Return a copy of the array collapsed into one dimension.\n",
            " |      \n",
            " |      Parameters\n",
            " |      ----------\n",
            " |      order : {'C', 'F', 'A', 'K'}, optional\n",
            " |          'C' means to flatten in row-major (C-style) order.\n",
            " |          'F' means to flatten in column-major (Fortran-\n",
            " |          style) order. 'A' means to flatten in column-major\n",
            " |          order if `a` is Fortran *contiguous* in memory,\n",
            " |          row-major order otherwise. 'K' means to flatten\n",
            " |          `a` in the order the elements occur in memory.\n",
            " |          The default is 'C'.\n",
            " |      \n",
            " |      Returns\n",
            " |      -------\n",
            " |      y : ndarray\n",
            " |          A copy of the input array, flattened to one dimension.\n",
            " |      \n",
            " |      See Also\n",
            " |      --------\n",
            " |      ravel : Return a flattened array.\n",
            " |      flat : A 1-D flat iterator over the array.\n",
            " |      \n",
            " |      Examples\n",
            " |      --------\n",
            " |      >>> a = np.array([[1,2], [3,4]])\n",
            " |      >>> a.flatten()\n",
            " |      array([1, 2, 3, 4])\n",
            " |      >>> a.flatten('F')\n",
            " |      array([1, 3, 2, 4])\n",
            " |  \n",
            " |  getfield(...)\n",
            " |      a.getfield(dtype, offset=0)\n",
            " |      \n",
            " |      Returns a field of the given array as a certain type.\n",
            " |      \n",
            " |      A field is a view of the array data with a given data-type. The values in\n",
            " |      the view are determined by the given type and the offset into the current\n",
            " |      array in bytes. The offset needs to be such that the view dtype fits in the\n",
            " |      array dtype; for example an array of dtype complex128 has 16-byte elements.\n",
            " |      If taking a view with a 32-bit integer (4 bytes), the offset needs to be\n",
            " |      between 0 and 12 bytes.\n",
            " |      \n",
            " |      Parameters\n",
            " |      ----------\n",
            " |      dtype : str or dtype\n",
            " |          The data type of the view. The dtype size of the view can not be larger\n",
            " |          than that of the array itself.\n",
            " |      offset : int\n",
            " |          Number of bytes to skip before beginning the element view.\n",
            " |      \n",
            " |      Examples\n",
            " |      --------\n",
            " |      >>> x = np.diag([1.+1.j]*2)\n",
            " |      >>> x[1, 1] = 2 + 4.j\n",
            " |      >>> x\n",
            " |      array([[1.+1.j,  0.+0.j],\n",
            " |             [0.+0.j,  2.+4.j]])\n",
            " |      >>> x.getfield(np.float64)\n",
            " |      array([[1.,  0.],\n",
            " |             [0.,  2.]])\n",
            " |      \n",
            " |      By choosing an offset of 8 bytes we can select the complex part of the\n",
            " |      array for our view:\n",
            " |      \n",
            " |      >>> x.getfield(np.float64, offset=8)\n",
            " |      array([[1.,  0.],\n",
            " |             [0.,  4.]])\n",
            " |  \n",
            " |  item(...)\n",
            " |      a.item(*args)\n",
            " |      \n",
            " |      Copy an element of an array to a standard Python scalar and return it.\n",
            " |      \n",
            " |      Parameters\n",
            " |      ----------\n",
            " |      \\*args : Arguments (variable number and type)\n",
            " |      \n",
            " |          * none: in this case, the method only works for arrays\n",
            " |            with one element (`a.size == 1`), which element is\n",
            " |            copied into a standard Python scalar object and returned.\n",
            " |      \n",
            " |          * int_type: this argument is interpreted as a flat index into\n",
            " |            the array, specifying which element to copy and return.\n",
            " |      \n",
            " |          * tuple of int_types: functions as does a single int_type argument,\n",
            " |            except that the argument is interpreted as an nd-index into the\n",
            " |            array.\n",
            " |      \n",
            " |      Returns\n",
            " |      -------\n",
            " |      z : Standard Python scalar object\n",
            " |          A copy of the specified element of the array as a suitable\n",
            " |          Python scalar\n",
            " |      \n",
            " |      Notes\n",
            " |      -----\n",
            " |      When the data type of `a` is longdouble or clongdouble, item() returns\n",
            " |      a scalar array object because there is no available Python scalar that\n",
            " |      would not lose information. Void arrays return a buffer object for item(),\n",
            " |      unless fields are defined, in which case a tuple is returned.\n",
            " |      \n",
            " |      `item` is very similar to a[args], except, instead of an array scalar,\n",
            " |      a standard Python scalar is returned. This can be useful for speeding up\n",
            " |      access to elements of the array and doing arithmetic on elements of the\n",
            " |      array using Python's optimized math.\n",
            " |      \n",
            " |      Examples\n",
            " |      --------\n",
            " |      >>> np.random.seed(123)\n",
            " |      >>> x = np.random.randint(9, size=(3, 3))\n",
            " |      >>> x\n",
            " |      array([[2, 2, 6],\n",
            " |             [1, 3, 6],\n",
            " |             [1, 0, 1]])\n",
            " |      >>> x.item(3)\n",
            " |      1\n",
            " |      >>> x.item(7)\n",
            " |      0\n",
            " |      >>> x.item((0, 1))\n",
            " |      2\n",
            " |      >>> x.item((2, 2))\n",
            " |      1\n",
            " |  \n",
            " |  itemset(...)\n",
            " |      a.itemset(*args)\n",
            " |      \n",
            " |      Insert scalar into an array (scalar is cast to array's dtype, if possible)\n",
            " |      \n",
            " |      There must be at least 1 argument, and define the last argument\n",
            " |      as *item*.  Then, ``a.itemset(*args)`` is equivalent to but faster\n",
            " |      than ``a[args] = item``.  The item should be a scalar value and `args`\n",
            " |      must select a single item in the array `a`.\n",
            " |      \n",
            " |      Parameters\n",
            " |      ----------\n",
            " |      \\*args : Arguments\n",
            " |          If one argument: a scalar, only used in case `a` is of size 1.\n",
            " |          If two arguments: the last argument is the value to be set\n",
            " |          and must be a scalar, the first argument specifies a single array\n",
            " |          element location. It is either an int or a tuple.\n",
            " |      \n",
            " |      Notes\n",
            " |      -----\n",
            " |      Compared to indexing syntax, `itemset` provides some speed increase\n",
            " |      for placing a scalar into a particular location in an `ndarray`,\n",
            " |      if you must do this.  However, generally this is discouraged:\n",
            " |      among other problems, it complicates the appearance of the code.\n",
            " |      Also, when using `itemset` (and `item`) inside a loop, be sure\n",
            " |      to assign the methods to a local variable to avoid the attribute\n",
            " |      look-up at each loop iteration.\n",
            " |      \n",
            " |      Examples\n",
            " |      --------\n",
            " |      >>> np.random.seed(123)\n",
            " |      >>> x = np.random.randint(9, size=(3, 3))\n",
            " |      >>> x\n",
            " |      array([[2, 2, 6],\n",
            " |             [1, 3, 6],\n",
            " |             [1, 0, 1]])\n",
            " |      >>> x.itemset(4, 0)\n",
            " |      >>> x.itemset((2, 2), 9)\n",
            " |      >>> x\n",
            " |      array([[2, 2, 6],\n",
            " |             [1, 0, 6],\n",
            " |             [1, 0, 9]])\n",
            " |  \n",
            " |  max(...)\n",
            " |      a.max(axis=None, out=None, keepdims=False, initial=<no value>, where=True)\n",
            " |      \n",
            " |      Return the maximum along a given axis.\n",
            " |      \n",
            " |      Refer to `numpy.amax` for full documentation.\n",
            " |      \n",
            " |      See Also\n",
            " |      --------\n",
            " |      numpy.amax : equivalent function\n",
            " |  \n",
            " |  mean(...)\n",
            " |      a.mean(axis=None, dtype=None, out=None, keepdims=False, *, where=True)\n",
            " |      \n",
            " |      Returns the average of the array elements along given axis.\n",
            " |      \n",
            " |      Refer to `numpy.mean` for full documentation.\n",
            " |      \n",
            " |      See Also\n",
            " |      --------\n",
            " |      numpy.mean : equivalent function\n",
            " |  \n",
            " |  min(...)\n",
            " |      a.min(axis=None, out=None, keepdims=False, initial=<no value>, where=True)\n",
            " |      \n",
            " |      Return the minimum along a given axis.\n",
            " |      \n",
            " |      Refer to `numpy.amin` for full documentation.\n",
            " |      \n",
            " |      See Also\n",
            " |      --------\n",
            " |      numpy.amin : equivalent function\n",
            " |  \n",
            " |  newbyteorder(...)\n",
            " |      arr.newbyteorder(new_order='S', /)\n",
            " |      \n",
            " |      Return the array with the same data viewed with a different byte order.\n",
            " |      \n",
            " |      Equivalent to::\n",
            " |      \n",
            " |          arr.view(arr.dtype.newbytorder(new_order))\n",
            " |      \n",
            " |      Changes are also made in all fields and sub-arrays of the array data\n",
            " |      type.\n",
            " |      \n",
            " |      \n",
            " |      \n",
            " |      Parameters\n",
            " |      ----------\n",
            " |      new_order : string, optional\n",
            " |          Byte order to force; a value from the byte order specifications\n",
            " |          below. `new_order` codes can be any of:\n",
            " |      \n",
            " |          * 'S' - swap dtype from current to opposite endian\n",
            " |          * {'<', 'little'} - little endian\n",
            " |          * {'>', 'big'} - big endian\n",
            " |          * {'=', 'native'} - native order, equivalent to `sys.byteorder`\n",
            " |          * {'|', 'I'} - ignore (no change to byte order)\n",
            " |      \n",
            " |          The default value ('S') results in swapping the current\n",
            " |          byte order.\n",
            " |      \n",
            " |      \n",
            " |      Returns\n",
            " |      -------\n",
            " |      new_arr : array\n",
            " |          New array object with the dtype reflecting given change to the\n",
            " |          byte order.\n",
            " |  \n",
            " |  nonzero(...)\n",
            " |      a.nonzero()\n",
            " |      \n",
            " |      Return the indices of the elements that are non-zero.\n",
            " |      \n",
            " |      Refer to `numpy.nonzero` for full documentation.\n",
            " |      \n",
            " |      See Also\n",
            " |      --------\n",
            " |      numpy.nonzero : equivalent function\n",
            " |  \n",
            " |  partition(...)\n",
            " |      a.partition(kth, axis=-1, kind='introselect', order=None)\n",
            " |      \n",
            " |      Rearranges the elements in the array in such a way that the value of the\n",
            " |      element in kth position is in the position it would be in a sorted array.\n",
            " |      All elements smaller than the kth element are moved before this element and\n",
            " |      all equal or greater are moved behind it. The ordering of the elements in\n",
            " |      the two partitions is undefined.\n",
            " |      \n",
            " |      .. versionadded:: 1.8.0\n",
            " |      \n",
            " |      Parameters\n",
            " |      ----------\n",
            " |      kth : int or sequence of ints\n",
            " |          Element index to partition by. The kth element value will be in its\n",
            " |          final sorted position and all smaller elements will be moved before it\n",
            " |          and all equal or greater elements behind it.\n",
            " |          The order of all elements in the partitions is undefined.\n",
            " |          If provided with a sequence of kth it will partition all elements\n",
            " |          indexed by kth of them into their sorted position at once.\n",
            " |      \n",
            " |          .. deprecated:: 1.22.0\n",
            " |              Passing booleans as index is deprecated.\n",
            " |      axis : int, optional\n",
            " |          Axis along which to sort. Default is -1, which means sort along the\n",
            " |          last axis.\n",
            " |      kind : {'introselect'}, optional\n",
            " |          Selection algorithm. Default is 'introselect'.\n",
            " |      order : str or list of str, optional\n",
            " |          When `a` is an array with fields defined, this argument specifies\n",
            " |          which fields to compare first, second, etc. A single field can\n",
            " |          be specified as a string, and not all fields need to be specified,\n",
            " |          but unspecified fields will still be used, in the order in which\n",
            " |          they come up in the dtype, to break ties.\n",
            " |      \n",
            " |      See Also\n",
            " |      --------\n",
            " |      numpy.partition : Return a partitioned copy of an array.\n",
            " |      argpartition : Indirect partition.\n",
            " |      sort : Full sort.\n",
            " |      \n",
            " |      Notes\n",
            " |      -----\n",
            " |      See ``np.partition`` for notes on the different algorithms.\n",
            " |      \n",
            " |      Examples\n",
            " |      --------\n",
            " |      >>> a = np.array([3, 4, 2, 1])\n",
            " |      >>> a.partition(3)\n",
            " |      >>> a\n",
            " |      array([2, 1, 3, 4])\n",
            " |      \n",
            " |      >>> a.partition((1, 3))\n",
            " |      >>> a\n",
            " |      array([1, 2, 3, 4])\n",
            " |  \n",
            " |  prod(...)\n",
            " |      a.prod(axis=None, dtype=None, out=None, keepdims=False, initial=1, where=True)\n",
            " |      \n",
            " |      Return the product of the array elements over the given axis\n",
            " |      \n",
            " |      Refer to `numpy.prod` for full documentation.\n",
            " |      \n",
            " |      See Also\n",
            " |      --------\n",
            " |      numpy.prod : equivalent function\n",
            " |  \n",
            " |  ptp(...)\n",
            " |      a.ptp(axis=None, out=None, keepdims=False)\n",
            " |      \n",
            " |      Peak to peak (maximum - minimum) value along a given axis.\n",
            " |      \n",
            " |      Refer to `numpy.ptp` for full documentation.\n",
            " |      \n",
            " |      See Also\n",
            " |      --------\n",
            " |      numpy.ptp : equivalent function\n",
            " |  \n",
            " |  put(...)\n",
            " |      a.put(indices, values, mode='raise')\n",
            " |      \n",
            " |      Set ``a.flat[n] = values[n]`` for all `n` in indices.\n",
            " |      \n",
            " |      Refer to `numpy.put` for full documentation.\n",
            " |      \n",
            " |      See Also\n",
            " |      --------\n",
            " |      numpy.put : equivalent function\n",
            " |  \n",
            " |  ravel(...)\n",
            " |      a.ravel([order])\n",
            " |      \n",
            " |      Return a flattened array.\n",
            " |      \n",
            " |      Refer to `numpy.ravel` for full documentation.\n",
            " |      \n",
            " |      See Also\n",
            " |      --------\n",
            " |      numpy.ravel : equivalent function\n",
            " |      \n",
            " |      ndarray.flat : a flat iterator on the array.\n",
            " |  \n",
            " |  repeat(...)\n",
            " |      a.repeat(repeats, axis=None)\n",
            " |      \n",
            " |      Repeat elements of an array.\n",
            " |      \n",
            " |      Refer to `numpy.repeat` for full documentation.\n",
            " |      \n",
            " |      See Also\n",
            " |      --------\n",
            " |      numpy.repeat : equivalent function\n",
            " |  \n",
            " |  reshape(...)\n",
            " |      a.reshape(shape, order='C')\n",
            " |      \n",
            " |      Returns an array containing the same data with a new shape.\n",
            " |      \n",
            " |      Refer to `numpy.reshape` for full documentation.\n",
            " |      \n",
            " |      See Also\n",
            " |      --------\n",
            " |      numpy.reshape : equivalent function\n",
            " |      \n",
            " |      Notes\n",
            " |      -----\n",
            " |      Unlike the free function `numpy.reshape`, this method on `ndarray` allows\n",
            " |      the elements of the shape parameter to be passed in as separate arguments.\n",
            " |      For example, ``a.reshape(10, 11)`` is equivalent to\n",
            " |      ``a.reshape((10, 11))``.\n",
            " |  \n",
            " |  resize(...)\n",
            " |      a.resize(new_shape, refcheck=True)\n",
            " |      \n",
            " |      Change shape and size of array in-place.\n",
            " |      \n",
            " |      Parameters\n",
            " |      ----------\n",
            " |      new_shape : tuple of ints, or `n` ints\n",
            " |          Shape of resized array.\n",
            " |      refcheck : bool, optional\n",
            " |          If False, reference count will not be checked. Default is True.\n",
            " |      \n",
            " |      Returns\n",
            " |      -------\n",
            " |      None\n",
            " |      \n",
            " |      Raises\n",
            " |      ------\n",
            " |      ValueError\n",
            " |          If `a` does not own its own data or references or views to it exist,\n",
            " |          and the data memory must be changed.\n",
            " |          PyPy only: will always raise if the data memory must be changed, since\n",
            " |          there is no reliable way to determine if references or views to it\n",
            " |          exist.\n",
            " |      \n",
            " |      SystemError\n",
            " |          If the `order` keyword argument is specified. This behaviour is a\n",
            " |          bug in NumPy.\n",
            " |      \n",
            " |      See Also\n",
            " |      --------\n",
            " |      resize : Return a new array with the specified shape.\n",
            " |      \n",
            " |      Notes\n",
            " |      -----\n",
            " |      This reallocates space for the data area if necessary.\n",
            " |      \n",
            " |      Only contiguous arrays (data elements consecutive in memory) can be\n",
            " |      resized.\n",
            " |      \n",
            " |      The purpose of the reference count check is to make sure you\n",
            " |      do not use this array as a buffer for another Python object and then\n",
            " |      reallocate the memory. However, reference counts can increase in\n",
            " |      other ways so if you are sure that you have not shared the memory\n",
            " |      for this array with another Python object, then you may safely set\n",
            " |      `refcheck` to False.\n",
            " |      \n",
            " |      Examples\n",
            " |      --------\n",
            " |      Shrinking an array: array is flattened (in the order that the data are\n",
            " |      stored in memory), resized, and reshaped:\n",
            " |      \n",
            " |      >>> a = np.array([[0, 1], [2, 3]], order='C')\n",
            " |      >>> a.resize((2, 1))\n",
            " |      >>> a\n",
            " |      array([[0],\n",
            " |             [1]])\n",
            " |      \n",
            " |      >>> a = np.array([[0, 1], [2, 3]], order='F')\n",
            " |      >>> a.resize((2, 1))\n",
            " |      >>> a\n",
            " |      array([[0],\n",
            " |             [2]])\n",
            " |      \n",
            " |      Enlarging an array: as above, but missing entries are filled with zeros:\n",
            " |      \n",
            " |      >>> b = np.array([[0, 1], [2, 3]])\n",
            " |      >>> b.resize(2, 3) # new_shape parameter doesn't have to be a tuple\n",
            " |      >>> b\n",
            " |      array([[0, 1, 2],\n",
            " |             [3, 0, 0]])\n",
            " |      \n",
            " |      Referencing an array prevents resizing...\n",
            " |      \n",
            " |      >>> c = a\n",
            " |      >>> a.resize((1, 1))\n",
            " |      Traceback (most recent call last):\n",
            " |      ...\n",
            " |      ValueError: cannot resize an array that references or is referenced ...\n",
            " |      \n",
            " |      Unless `refcheck` is False:\n",
            " |      \n",
            " |      >>> a.resize((1, 1), refcheck=False)\n",
            " |      >>> a\n",
            " |      array([[0]])\n",
            " |      >>> c\n",
            " |      array([[0]])\n",
            " |  \n",
            " |  round(...)\n",
            " |      a.round(decimals=0, out=None)\n",
            " |      \n",
            " |      Return `a` with each element rounded to the given number of decimals.\n",
            " |      \n",
            " |      Refer to `numpy.around` for full documentation.\n",
            " |      \n",
            " |      See Also\n",
            " |      --------\n",
            " |      numpy.around : equivalent function\n",
            " |  \n",
            " |  searchsorted(...)\n",
            " |      a.searchsorted(v, side='left', sorter=None)\n",
            " |      \n",
            " |      Find indices where elements of v should be inserted in a to maintain order.\n",
            " |      \n",
            " |      For full documentation, see `numpy.searchsorted`\n",
            " |      \n",
            " |      See Also\n",
            " |      --------\n",
            " |      numpy.searchsorted : equivalent function\n",
            " |  \n",
            " |  setfield(...)\n",
            " |      a.setfield(val, dtype, offset=0)\n",
            " |      \n",
            " |      Put a value into a specified place in a field defined by a data-type.\n",
            " |      \n",
            " |      Place `val` into `a`'s field defined by `dtype` and beginning `offset`\n",
            " |      bytes into the field.\n",
            " |      \n",
            " |      Parameters\n",
            " |      ----------\n",
            " |      val : object\n",
            " |          Value to be placed in field.\n",
            " |      dtype : dtype object\n",
            " |          Data-type of the field in which to place `val`.\n",
            " |      offset : int, optional\n",
            " |          The number of bytes into the field at which to place `val`.\n",
            " |      \n",
            " |      Returns\n",
            " |      -------\n",
            " |      None\n",
            " |      \n",
            " |      See Also\n",
            " |      --------\n",
            " |      getfield\n",
            " |      \n",
            " |      Examples\n",
            " |      --------\n",
            " |      >>> x = np.eye(3)\n",
            " |      >>> x.getfield(np.float64)\n",
            " |      array([[1.,  0.,  0.],\n",
            " |             [0.,  1.,  0.],\n",
            " |             [0.,  0.,  1.]])\n",
            " |      >>> x.setfield(3, np.int32)\n",
            " |      >>> x.getfield(np.int32)\n",
            " |      array([[3, 3, 3],\n",
            " |             [3, 3, 3],\n",
            " |             [3, 3, 3]], dtype=int32)\n",
            " |      >>> x\n",
            " |      array([[1.0e+000, 1.5e-323, 1.5e-323],\n",
            " |             [1.5e-323, 1.0e+000, 1.5e-323],\n",
            " |             [1.5e-323, 1.5e-323, 1.0e+000]])\n",
            " |      >>> x.setfield(np.eye(3), np.int32)\n",
            " |      >>> x\n",
            " |      array([[1.,  0.,  0.],\n",
            " |             [0.,  1.,  0.],\n",
            " |             [0.,  0.,  1.]])\n",
            " |  \n",
            " |  setflags(...)\n",
            " |      a.setflags(write=None, align=None, uic=None)\n",
            " |      \n",
            " |      Set array flags WRITEABLE, ALIGNED, WRITEBACKIFCOPY,\n",
            " |      respectively.\n",
            " |      \n",
            " |      These Boolean-valued flags affect how numpy interprets the memory\n",
            " |      area used by `a` (see Notes below). The ALIGNED flag can only\n",
            " |      be set to True if the data is actually aligned according to the type.\n",
            " |      The WRITEBACKIFCOPY and flag can never be set\n",
            " |      to True. The flag WRITEABLE can only be set to True if the array owns its\n",
            " |      own memory, or the ultimate owner of the memory exposes a writeable buffer\n",
            " |      interface, or is a string. (The exception for string is made so that\n",
            " |      unpickling can be done without copying memory.)\n",
            " |      \n",
            " |      Parameters\n",
            " |      ----------\n",
            " |      write : bool, optional\n",
            " |          Describes whether or not `a` can be written to.\n",
            " |      align : bool, optional\n",
            " |          Describes whether or not `a` is aligned properly for its type.\n",
            " |      uic : bool, optional\n",
            " |          Describes whether or not `a` is a copy of another \"base\" array.\n",
            " |      \n",
            " |      Notes\n",
            " |      -----\n",
            " |      Array flags provide information about how the memory area used\n",
            " |      for the array is to be interpreted. There are 7 Boolean flags\n",
            " |      in use, only four of which can be changed by the user:\n",
            " |      WRITEBACKIFCOPY, WRITEABLE, and ALIGNED.\n",
            " |      \n",
            " |      WRITEABLE (W) the data area can be written to;\n",
            " |      \n",
            " |      ALIGNED (A) the data and strides are aligned appropriately for the hardware\n",
            " |      (as determined by the compiler);\n",
            " |      \n",
            " |      WRITEBACKIFCOPY (X) this array is a copy of some other array (referenced\n",
            " |      by .base). When the C-API function PyArray_ResolveWritebackIfCopy is\n",
            " |      called, the base array will be updated with the contents of this array.\n",
            " |      \n",
            " |      All flags can be accessed using the single (upper case) letter as well\n",
            " |      as the full name.\n",
            " |      \n",
            " |      Examples\n",
            " |      --------\n",
            " |      >>> y = np.array([[3, 1, 7],\n",
            " |      ...               [2, 0, 0],\n",
            " |      ...               [8, 5, 9]])\n",
            " |      >>> y\n",
            " |      array([[3, 1, 7],\n",
            " |             [2, 0, 0],\n",
            " |             [8, 5, 9]])\n",
            " |      >>> y.flags\n",
            " |        C_CONTIGUOUS : True\n",
            " |        F_CONTIGUOUS : False\n",
            " |        OWNDATA : True\n",
            " |        WRITEABLE : True\n",
            " |        ALIGNED : True\n",
            " |        WRITEBACKIFCOPY : False\n",
            " |      >>> y.setflags(write=0, align=0)\n",
            " |      >>> y.flags\n",
            " |        C_CONTIGUOUS : True\n",
            " |        F_CONTIGUOUS : False\n",
            " |        OWNDATA : True\n",
            " |        WRITEABLE : False\n",
            " |        ALIGNED : False\n",
            " |        WRITEBACKIFCOPY : False\n",
            " |      >>> y.setflags(uic=1)\n",
            " |      Traceback (most recent call last):\n",
            " |        File \"<stdin>\", line 1, in <module>\n",
            " |      ValueError: cannot set WRITEBACKIFCOPY flag to True\n",
            " |  \n",
            " |  sort(...)\n",
            " |      a.sort(axis=-1, kind=None, order=None)\n",
            " |      \n",
            " |      Sort an array in-place. Refer to `numpy.sort` for full documentation.\n",
            " |      \n",
            " |      Parameters\n",
            " |      ----------\n",
            " |      axis : int, optional\n",
            " |          Axis along which to sort. Default is -1, which means sort along the\n",
            " |          last axis.\n",
            " |      kind : {'quicksort', 'mergesort', 'heapsort', 'stable'}, optional\n",
            " |          Sorting algorithm. The default is 'quicksort'. Note that both 'stable'\n",
            " |          and 'mergesort' use timsort under the covers and, in general, the\n",
            " |          actual implementation will vary with datatype. The 'mergesort' option\n",
            " |          is retained for backwards compatibility.\n",
            " |      \n",
            " |          .. versionchanged:: 1.15.0\n",
            " |             The 'stable' option was added.\n",
            " |      \n",
            " |      order : str or list of str, optional\n",
            " |          When `a` is an array with fields defined, this argument specifies\n",
            " |          which fields to compare first, second, etc.  A single field can\n",
            " |          be specified as a string, and not all fields need be specified,\n",
            " |          but unspecified fields will still be used, in the order in which\n",
            " |          they come up in the dtype, to break ties.\n",
            " |      \n",
            " |      See Also\n",
            " |      --------\n",
            " |      numpy.sort : Return a sorted copy of an array.\n",
            " |      numpy.argsort : Indirect sort.\n",
            " |      numpy.lexsort : Indirect stable sort on multiple keys.\n",
            " |      numpy.searchsorted : Find elements in sorted array.\n",
            " |      numpy.partition: Partial sort.\n",
            " |      \n",
            " |      Notes\n",
            " |      -----\n",
            " |      See `numpy.sort` for notes on the different sorting algorithms.\n",
            " |      \n",
            " |      Examples\n",
            " |      --------\n",
            " |      >>> a = np.array([[1,4], [3,1]])\n",
            " |      >>> a.sort(axis=1)\n",
            " |      >>> a\n",
            " |      array([[1, 4],\n",
            " |             [1, 3]])\n",
            " |      >>> a.sort(axis=0)\n",
            " |      >>> a\n",
            " |      array([[1, 3],\n",
            " |             [1, 4]])\n",
            " |      \n",
            " |      Use the `order` keyword to specify a field to use when sorting a\n",
            " |      structured array:\n",
            " |      \n",
            " |      >>> a = np.array([('a', 2), ('c', 1)], dtype=[('x', 'S1'), ('y', int)])\n",
            " |      >>> a.sort(order='y')\n",
            " |      >>> a\n",
            " |      array([(b'c', 1), (b'a', 2)],\n",
            " |            dtype=[('x', 'S1'), ('y', '<i8')])\n",
            " |  \n",
            " |  squeeze(...)\n",
            " |      a.squeeze(axis=None)\n",
            " |      \n",
            " |      Remove axes of length one from `a`.\n",
            " |      \n",
            " |      Refer to `numpy.squeeze` for full documentation.\n",
            " |      \n",
            " |      See Also\n",
            " |      --------\n",
            " |      numpy.squeeze : equivalent function\n",
            " |  \n",
            " |  std(...)\n",
            " |      a.std(axis=None, dtype=None, out=None, ddof=0, keepdims=False, *, where=True)\n",
            " |      \n",
            " |      Returns the standard deviation of the array elements along given axis.\n",
            " |      \n",
            " |      Refer to `numpy.std` for full documentation.\n",
            " |      \n",
            " |      See Also\n",
            " |      --------\n",
            " |      numpy.std : equivalent function\n",
            " |  \n",
            " |  sum(...)\n",
            " |      a.sum(axis=None, dtype=None, out=None, keepdims=False, initial=0, where=True)\n",
            " |      \n",
            " |      Return the sum of the array elements over the given axis.\n",
            " |      \n",
            " |      Refer to `numpy.sum` for full documentation.\n",
            " |      \n",
            " |      See Also\n",
            " |      --------\n",
            " |      numpy.sum : equivalent function\n",
            " |  \n",
            " |  swapaxes(...)\n",
            " |      a.swapaxes(axis1, axis2)\n",
            " |      \n",
            " |      Return a view of the array with `axis1` and `axis2` interchanged.\n",
            " |      \n",
            " |      Refer to `numpy.swapaxes` for full documentation.\n",
            " |      \n",
            " |      See Also\n",
            " |      --------\n",
            " |      numpy.swapaxes : equivalent function\n",
            " |  \n",
            " |  take(...)\n",
            " |      a.take(indices, axis=None, out=None, mode='raise')\n",
            " |      \n",
            " |      Return an array formed from the elements of `a` at the given indices.\n",
            " |      \n",
            " |      Refer to `numpy.take` for full documentation.\n",
            " |      \n",
            " |      See Also\n",
            " |      --------\n",
            " |      numpy.take : equivalent function\n",
            " |  \n",
            " |  tobytes(...)\n",
            " |      a.tobytes(order='C')\n",
            " |      \n",
            " |      Construct Python bytes containing the raw data bytes in the array.\n",
            " |      \n",
            " |      Constructs Python bytes showing a copy of the raw contents of\n",
            " |      data memory. The bytes object is produced in C-order by default.\n",
            " |      This behavior is controlled by the ``order`` parameter.\n",
            " |      \n",
            " |      .. versionadded:: 1.9.0\n",
            " |      \n",
            " |      Parameters\n",
            " |      ----------\n",
            " |      order : {'C', 'F', 'A'}, optional\n",
            " |          Controls the memory layout of the bytes object. 'C' means C-order,\n",
            " |          'F' means F-order, 'A' (short for *Any*) means 'F' if `a` is\n",
            " |          Fortran contiguous, 'C' otherwise. Default is 'C'.\n",
            " |      \n",
            " |      Returns\n",
            " |      -------\n",
            " |      s : bytes\n",
            " |          Python bytes exhibiting a copy of `a`'s raw data.\n",
            " |      \n",
            " |      See also\n",
            " |      --------\n",
            " |      frombuffer\n",
            " |          Inverse of this operation, construct a 1-dimensional array from Python\n",
            " |          bytes.\n",
            " |      \n",
            " |      Examples\n",
            " |      --------\n",
            " |      >>> x = np.array([[0, 1], [2, 3]], dtype='<u2')\n",
            " |      >>> x.tobytes()\n",
            " |      b'\\x00\\x00\\x01\\x00\\x02\\x00\\x03\\x00'\n",
            " |      >>> x.tobytes('C') == x.tobytes()\n",
            " |      True\n",
            " |      >>> x.tobytes('F')\n",
            " |      b'\\x00\\x00\\x02\\x00\\x01\\x00\\x03\\x00'\n",
            " |  \n",
            " |  tofile(...)\n",
            " |      a.tofile(fid, sep=\"\", format=\"%s\")\n",
            " |      \n",
            " |      Write array to a file as text or binary (default).\n",
            " |      \n",
            " |      Data is always written in 'C' order, independent of the order of `a`.\n",
            " |      The data produced by this method can be recovered using the function\n",
            " |      fromfile().\n",
            " |      \n",
            " |      Parameters\n",
            " |      ----------\n",
            " |      fid : file or str or Path\n",
            " |          An open file object, or a string containing a filename.\n",
            " |      \n",
            " |          .. versionchanged:: 1.17.0\n",
            " |              `pathlib.Path` objects are now accepted.\n",
            " |      \n",
            " |      sep : str\n",
            " |          Separator between array items for text output.\n",
            " |          If \"\" (empty), a binary file is written, equivalent to\n",
            " |          ``file.write(a.tobytes())``.\n",
            " |      format : str\n",
            " |          Format string for text file output.\n",
            " |          Each entry in the array is formatted to text by first converting\n",
            " |          it to the closest Python type, and then using \"format\" % item.\n",
            " |      \n",
            " |      Notes\n",
            " |      -----\n",
            " |      This is a convenience function for quick storage of array data.\n",
            " |      Information on endianness and precision is lost, so this method is not a\n",
            " |      good choice for files intended to archive data or transport data between\n",
            " |      machines with different endianness. Some of these problems can be overcome\n",
            " |      by outputting the data as text files, at the expense of speed and file\n",
            " |      size.\n",
            " |      \n",
            " |      When fid is a file object, array contents are directly written to the\n",
            " |      file, bypassing the file object's ``write`` method. As a result, tofile\n",
            " |      cannot be used with files objects supporting compression (e.g., GzipFile)\n",
            " |      or file-like objects that do not support ``fileno()`` (e.g., BytesIO).\n",
            " |  \n",
            " |  tolist(...)\n",
            " |      a.tolist()\n",
            " |      \n",
            " |      Return the array as an ``a.ndim``-levels deep nested list of Python scalars.\n",
            " |      \n",
            " |      Return a copy of the array data as a (nested) Python list.\n",
            " |      Data items are converted to the nearest compatible builtin Python type, via\n",
            " |      the `~numpy.ndarray.item` function.\n",
            " |      \n",
            " |      If ``a.ndim`` is 0, then since the depth of the nested list is 0, it will\n",
            " |      not be a list at all, but a simple Python scalar.\n",
            " |      \n",
            " |      Parameters\n",
            " |      ----------\n",
            " |      none\n",
            " |      \n",
            " |      Returns\n",
            " |      -------\n",
            " |      y : object, or list of object, or list of list of object, or ...\n",
            " |          The possibly nested list of array elements.\n",
            " |      \n",
            " |      Notes\n",
            " |      -----\n",
            " |      The array may be recreated via ``a = np.array(a.tolist())``, although this\n",
            " |      may sometimes lose precision.\n",
            " |      \n",
            " |      Examples\n",
            " |      --------\n",
            " |      For a 1D array, ``a.tolist()`` is almost the same as ``list(a)``,\n",
            " |      except that ``tolist`` changes numpy scalars to Python scalars:\n",
            " |      \n",
            " |      >>> a = np.uint32([1, 2])\n",
            " |      >>> a_list = list(a)\n",
            " |      >>> a_list\n",
            " |      [1, 2]\n",
            " |      >>> type(a_list[0])\n",
            " |      <class 'numpy.uint32'>\n",
            " |      >>> a_tolist = a.tolist()\n",
            " |      >>> a_tolist\n",
            " |      [1, 2]\n",
            " |      >>> type(a_tolist[0])\n",
            " |      <class 'int'>\n",
            " |      \n",
            " |      Additionally, for a 2D array, ``tolist`` applies recursively:\n",
            " |      \n",
            " |      >>> a = np.array([[1, 2], [3, 4]])\n",
            " |      >>> list(a)\n",
            " |      [array([1, 2]), array([3, 4])]\n",
            " |      >>> a.tolist()\n",
            " |      [[1, 2], [3, 4]]\n",
            " |      \n",
            " |      The base case for this recursion is a 0D array:\n",
            " |      \n",
            " |      >>> a = np.array(1)\n",
            " |      >>> list(a)\n",
            " |      Traceback (most recent call last):\n",
            " |        ...\n",
            " |      TypeError: iteration over a 0-d array\n",
            " |      >>> a.tolist()\n",
            " |      1\n",
            " |  \n",
            " |  tostring(...)\n",
            " |      a.tostring(order='C')\n",
            " |      \n",
            " |      A compatibility alias for `tobytes`, with exactly the same behavior.\n",
            " |      \n",
            " |      Despite its name, it returns `bytes` not `str`\\ s.\n",
            " |      \n",
            " |      .. deprecated:: 1.19.0\n",
            " |  \n",
            " |  trace(...)\n",
            " |      a.trace(offset=0, axis1=0, axis2=1, dtype=None, out=None)\n",
            " |      \n",
            " |      Return the sum along diagonals of the array.\n",
            " |      \n",
            " |      Refer to `numpy.trace` for full documentation.\n",
            " |      \n",
            " |      See Also\n",
            " |      --------\n",
            " |      numpy.trace : equivalent function\n",
            " |  \n",
            " |  transpose(...)\n",
            " |      a.transpose(*axes)\n",
            " |      \n",
            " |      Returns a view of the array with axes transposed.\n",
            " |      \n",
            " |      Refer to `numpy.transpose` for full documentation.\n",
            " |      \n",
            " |      Parameters\n",
            " |      ----------\n",
            " |      axes : None, tuple of ints, or `n` ints\n",
            " |      \n",
            " |       * None or no argument: reverses the order of the axes.\n",
            " |      \n",
            " |       * tuple of ints: `i` in the `j`-th place in the tuple means that the\n",
            " |         array's `i`-th axis becomes the transposed array's `j`-th axis.\n",
            " |      \n",
            " |       * `n` ints: same as an n-tuple of the same ints (this form is\n",
            " |         intended simply as a \"convenience\" alternative to the tuple form).\n",
            " |      \n",
            " |      Returns\n",
            " |      -------\n",
            " |      p : ndarray\n",
            " |          View of the array with its axes suitably permuted.\n",
            " |      \n",
            " |      See Also\n",
            " |      --------\n",
            " |      transpose : Equivalent function.\n",
            " |      ndarray.T : Array property returning the array transposed.\n",
            " |      ndarray.reshape : Give a new shape to an array without changing its data.\n",
            " |      \n",
            " |      Examples\n",
            " |      --------\n",
            " |      >>> a = np.array([[1, 2], [3, 4]])\n",
            " |      >>> a\n",
            " |      array([[1, 2],\n",
            " |             [3, 4]])\n",
            " |      >>> a.transpose()\n",
            " |      array([[1, 3],\n",
            " |             [2, 4]])\n",
            " |      >>> a.transpose((1, 0))\n",
            " |      array([[1, 3],\n",
            " |             [2, 4]])\n",
            " |      >>> a.transpose(1, 0)\n",
            " |      array([[1, 3],\n",
            " |             [2, 4]])\n",
            " |      \n",
            " |      >>> a = np.array([1, 2, 3, 4])\n",
            " |      >>> a\n",
            " |      array([1, 2, 3, 4])\n",
            " |      >>> a.transpose()\n",
            " |      array([1, 2, 3, 4])\n",
            " |  \n",
            " |  var(...)\n",
            " |      a.var(axis=None, dtype=None, out=None, ddof=0, keepdims=False, *, where=True)\n",
            " |      \n",
            " |      Returns the variance of the array elements, along given axis.\n",
            " |      \n",
            " |      Refer to `numpy.var` for full documentation.\n",
            " |      \n",
            " |      See Also\n",
            " |      --------\n",
            " |      numpy.var : equivalent function\n",
            " |  \n",
            " |  view(...)\n",
            " |      a.view([dtype][, type])\n",
            " |      \n",
            " |      New view of array with the same data.\n",
            " |      \n",
            " |      .. note::\n",
            " |          Passing None for ``dtype`` is different from omitting the parameter,\n",
            " |          since the former invokes ``dtype(None)`` which is an alias for\n",
            " |          ``dtype('float_')``.\n",
            " |      \n",
            " |      Parameters\n",
            " |      ----------\n",
            " |      dtype : data-type or ndarray sub-class, optional\n",
            " |          Data-type descriptor of the returned view, e.g., float32 or int16.\n",
            " |          Omitting it results in the view having the same data-type as `a`.\n",
            " |          This argument can also be specified as an ndarray sub-class, which\n",
            " |          then specifies the type of the returned object (this is equivalent to\n",
            " |          setting the ``type`` parameter).\n",
            " |      type : Python type, optional\n",
            " |          Type of the returned view, e.g., ndarray or matrix.  Again, omission\n",
            " |          of the parameter results in type preservation.\n",
            " |      \n",
            " |      Notes\n",
            " |      -----\n",
            " |      ``a.view()`` is used two different ways:\n",
            " |      \n",
            " |      ``a.view(some_dtype)`` or ``a.view(dtype=some_dtype)`` constructs a view\n",
            " |      of the array's memory with a different data-type.  This can cause a\n",
            " |      reinterpretation of the bytes of memory.\n",
            " |      \n",
            " |      ``a.view(ndarray_subclass)`` or ``a.view(type=ndarray_subclass)`` just\n",
            " |      returns an instance of `ndarray_subclass` that looks at the same array\n",
            " |      (same shape, dtype, etc.)  This does not cause a reinterpretation of the\n",
            " |      memory.\n",
            " |      \n",
            " |      For ``a.view(some_dtype)``, if ``some_dtype`` has a different number of\n",
            " |      bytes per entry than the previous dtype (for example, converting a regular\n",
            " |      array to a structured array), then the last axis of ``a`` must be\n",
            " |      contiguous. This axis will be resized in the result.\n",
            " |      \n",
            " |      .. versionchanged:: 1.23.0\n",
            " |         Only the last axis needs to be contiguous. Previously, the entire array\n",
            " |         had to be C-contiguous.\n",
            " |      \n",
            " |      Examples\n",
            " |      --------\n",
            " |      >>> x = np.array([(1, 2)], dtype=[('a', np.int8), ('b', np.int8)])\n",
            " |      \n",
            " |      Viewing array data using a different type and dtype:\n",
            " |      \n",
            " |      >>> y = x.view(dtype=np.int16, type=np.matrix)\n",
            " |      >>> y\n",
            " |      matrix([[513]], dtype=int16)\n",
            " |      >>> print(type(y))\n",
            " |      <class 'numpy.matrix'>\n",
            " |      \n",
            " |      Creating a view on a structured array so it can be used in calculations\n",
            " |      \n",
            " |      >>> x = np.array([(1, 2),(3,4)], dtype=[('a', np.int8), ('b', np.int8)])\n",
            " |      >>> xv = x.view(dtype=np.int8).reshape(-1,2)\n",
            " |      >>> xv\n",
            " |      array([[1, 2],\n",
            " |             [3, 4]], dtype=int8)\n",
            " |      >>> xv.mean(0)\n",
            " |      array([2.,  3.])\n",
            " |      \n",
            " |      Making changes to the view changes the underlying array\n",
            " |      \n",
            " |      >>> xv[0,1] = 20\n",
            " |      >>> x\n",
            " |      array([(1, 20), (3,  4)], dtype=[('a', 'i1'), ('b', 'i1')])\n",
            " |      \n",
            " |      Using a view to convert an array to a recarray:\n",
            " |      \n",
            " |      >>> z = x.view(np.recarray)\n",
            " |      >>> z.a\n",
            " |      array([1, 3], dtype=int8)\n",
            " |      \n",
            " |      Views share data:\n",
            " |      \n",
            " |      >>> x[0] = (9, 10)\n",
            " |      >>> z[0]\n",
            " |      (9, 10)\n",
            " |      \n",
            " |      Views that change the dtype size (bytes per entry) should normally be\n",
            " |      avoided on arrays defined by slices, transposes, fortran-ordering, etc.:\n",
            " |      \n",
            " |      >>> x = np.array([[1, 2, 3], [4, 5, 6]], dtype=np.int16)\n",
            " |      >>> y = x[:, ::2]\n",
            " |      >>> y\n",
            " |      array([[1, 3],\n",
            " |             [4, 6]], dtype=int16)\n",
            " |      >>> y.view(dtype=[('width', np.int16), ('length', np.int16)])\n",
            " |      Traceback (most recent call last):\n",
            " |          ...\n",
            " |      ValueError: To change to a dtype of a different size, the last axis must be contiguous\n",
            " |      >>> z = y.copy()\n",
            " |      >>> z.view(dtype=[('width', np.int16), ('length', np.int16)])\n",
            " |      array([[(1, 3)],\n",
            " |             [(4, 6)]], dtype=[('width', '<i2'), ('length', '<i2')])\n",
            " |      \n",
            " |      However, views that change dtype are totally fine for arrays with a\n",
            " |      contiguous last axis, even if the rest of the axes are not C-contiguous:\n",
            " |      \n",
            " |      >>> x = np.arange(2 * 3 * 4, dtype=np.int8).reshape(2, 3, 4)\n",
            " |      >>> x.transpose(1, 0, 2).view(np.int16)\n",
            " |      array([[[ 256,  770],\n",
            " |              [3340, 3854]],\n",
            " |      <BLANKLINE>\n",
            " |             [[1284, 1798],\n",
            " |              [4368, 4882]],\n",
            " |      <BLANKLINE>\n",
            " |             [[2312, 2826],\n",
            " |              [5396, 5910]]], dtype=int16)\n",
            " |  \n",
            " |  ----------------------------------------------------------------------\n",
            " |  Class methods defined here:\n",
            " |  \n",
            " |  __class_getitem__(...)\n",
            " |      a.__class_getitem__(item, /)\n",
            " |      \n",
            " |      Return a parametrized wrapper around the `~numpy.ndarray` type.\n",
            " |      \n",
            " |      .. versionadded:: 1.22\n",
            " |      \n",
            " |      Returns\n",
            " |      -------\n",
            " |      alias : types.GenericAlias\n",
            " |          A parametrized `~numpy.ndarray` type.\n",
            " |      \n",
            " |      Examples\n",
            " |      --------\n",
            " |      >>> from typing import Any\n",
            " |      >>> import numpy as np\n",
            " |      \n",
            " |      >>> np.ndarray[Any, np.dtype[Any]]\n",
            " |      numpy.ndarray[typing.Any, numpy.dtype[typing.Any]]\n",
            " |      \n",
            " |      See Also\n",
            " |      --------\n",
            " |      :pep:`585` : Type hinting generics in standard collections.\n",
            " |      numpy.typing.NDArray : An ndarray alias :term:`generic <generic type>`\n",
            " |                          w.r.t. its `dtype.type <numpy.dtype.type>`.\n",
            " |  \n",
            " |  ----------------------------------------------------------------------\n",
            " |  Static methods defined here:\n",
            " |  \n",
            " |  __new__(*args, **kwargs)\n",
            " |      Create and return a new object.  See help(type) for accurate signature.\n",
            " |  \n",
            " |  ----------------------------------------------------------------------\n",
            " |  Data descriptors defined here:\n",
            " |  \n",
            " |  T\n",
            " |      View of the transposed array.\n",
            " |      \n",
            " |      Same as ``self.transpose()``.\n",
            " |      \n",
            " |      Examples\n",
            " |      --------\n",
            " |      >>> a = np.array([[1, 2], [3, 4]])\n",
            " |      >>> a\n",
            " |      array([[1, 2],\n",
            " |             [3, 4]])\n",
            " |      >>> a.T\n",
            " |      array([[1, 3],\n",
            " |             [2, 4]])\n",
            " |      \n",
            " |      >>> a = np.array([1, 2, 3, 4])\n",
            " |      >>> a\n",
            " |      array([1, 2, 3, 4])\n",
            " |      >>> a.T\n",
            " |      array([1, 2, 3, 4])\n",
            " |      \n",
            " |      See Also\n",
            " |      --------\n",
            " |      transpose\n",
            " |  \n",
            " |  __array_interface__\n",
            " |      Array protocol: Python side.\n",
            " |  \n",
            " |  __array_priority__\n",
            " |      Array priority.\n",
            " |  \n",
            " |  __array_struct__\n",
            " |      Array protocol: C-struct side.\n",
            " |  \n",
            " |  base\n",
            " |      Base object if memory is from some other object.\n",
            " |      \n",
            " |      Examples\n",
            " |      --------\n",
            " |      The base of an array that owns its memory is None:\n",
            " |      \n",
            " |      >>> x = np.array([1,2,3,4])\n",
            " |      >>> x.base is None\n",
            " |      True\n",
            " |      \n",
            " |      Slicing creates a view, whose memory is shared with x:\n",
            " |      \n",
            " |      >>> y = x[2:]\n",
            " |      >>> y.base is x\n",
            " |      True\n",
            " |  \n",
            " |  ctypes\n",
            " |      An object to simplify the interaction of the array with the ctypes\n",
            " |      module.\n",
            " |      \n",
            " |      This attribute creates an object that makes it easier to use arrays\n",
            " |      when calling shared libraries with the ctypes module. The returned\n",
            " |      object has, among others, data, shape, and strides attributes (see\n",
            " |      Notes below) which themselves return ctypes objects that can be used\n",
            " |      as arguments to a shared library.\n",
            " |      \n",
            " |      Parameters\n",
            " |      ----------\n",
            " |      None\n",
            " |      \n",
            " |      Returns\n",
            " |      -------\n",
            " |      c : Python object\n",
            " |          Possessing attributes data, shape, strides, etc.\n",
            " |      \n",
            " |      See Also\n",
            " |      --------\n",
            " |      numpy.ctypeslib\n",
            " |      \n",
            " |      Notes\n",
            " |      -----\n",
            " |      Below are the public attributes of this object which were documented\n",
            " |      in \"Guide to NumPy\" (we have omitted undocumented public attributes,\n",
            " |      as well as documented private attributes):\n",
            " |      \n",
            " |      .. autoattribute:: numpy.core._internal._ctypes.data\n",
            " |          :noindex:\n",
            " |      \n",
            " |      .. autoattribute:: numpy.core._internal._ctypes.shape\n",
            " |          :noindex:\n",
            " |      \n",
            " |      .. autoattribute:: numpy.core._internal._ctypes.strides\n",
            " |          :noindex:\n",
            " |      \n",
            " |      .. automethod:: numpy.core._internal._ctypes.data_as\n",
            " |          :noindex:\n",
            " |      \n",
            " |      .. automethod:: numpy.core._internal._ctypes.shape_as\n",
            " |          :noindex:\n",
            " |      \n",
            " |      .. automethod:: numpy.core._internal._ctypes.strides_as\n",
            " |          :noindex:\n",
            " |      \n",
            " |      If the ctypes module is not available, then the ctypes attribute\n",
            " |      of array objects still returns something useful, but ctypes objects\n",
            " |      are not returned and errors may be raised instead. In particular,\n",
            " |      the object will still have the ``as_parameter`` attribute which will\n",
            " |      return an integer equal to the data attribute.\n",
            " |      \n",
            " |      Examples\n",
            " |      --------\n",
            " |      >>> import ctypes\n",
            " |      >>> x = np.array([[0, 1], [2, 3]], dtype=np.int32)\n",
            " |      >>> x\n",
            " |      array([[0, 1],\n",
            " |             [2, 3]], dtype=int32)\n",
            " |      >>> x.ctypes.data\n",
            " |      31962608 # may vary\n",
            " |      >>> x.ctypes.data_as(ctypes.POINTER(ctypes.c_uint32))\n",
            " |      <__main__.LP_c_uint object at 0x7ff2fc1fc200> # may vary\n",
            " |      >>> x.ctypes.data_as(ctypes.POINTER(ctypes.c_uint32)).contents\n",
            " |      c_uint(0)\n",
            " |      >>> x.ctypes.data_as(ctypes.POINTER(ctypes.c_uint64)).contents\n",
            " |      c_ulong(4294967296)\n",
            " |      >>> x.ctypes.shape\n",
            " |      <numpy.core._internal.c_long_Array_2 object at 0x7ff2fc1fce60> # may vary\n",
            " |      >>> x.ctypes.strides\n",
            " |      <numpy.core._internal.c_long_Array_2 object at 0x7ff2fc1ff320> # may vary\n",
            " |  \n",
            " |  data\n",
            " |      Python buffer object pointing to the start of the array's data.\n",
            " |  \n",
            " |  dtype\n",
            " |      Data-type of the array's elements.\n",
            " |      \n",
            " |      .. warning::\n",
            " |      \n",
            " |          Setting ``arr.dtype`` is discouraged and may be deprecated in the\n",
            " |          future.  Setting will replace the ``dtype`` without modifying the\n",
            " |          memory (see also `ndarray.view` and `ndarray.astype`).\n",
            " |      \n",
            " |      Parameters\n",
            " |      ----------\n",
            " |      None\n",
            " |      \n",
            " |      Returns\n",
            " |      -------\n",
            " |      d : numpy dtype object\n",
            " |      \n",
            " |      See Also\n",
            " |      --------\n",
            " |      ndarray.astype : Cast the values contained in the array to a new data-type.\n",
            " |      ndarray.view : Create a view of the same data but a different data-type.\n",
            " |      numpy.dtype\n",
            " |      \n",
            " |      Examples\n",
            " |      --------\n",
            " |      >>> x\n",
            " |      array([[0, 1],\n",
            " |             [2, 3]])\n",
            " |      >>> x.dtype\n",
            " |      dtype('int32')\n",
            " |      >>> type(x.dtype)\n",
            " |      <type 'numpy.dtype'>\n",
            " |  \n",
            " |  flags\n",
            " |      Information about the memory layout of the array.\n",
            " |      \n",
            " |      Attributes\n",
            " |      ----------\n",
            " |      C_CONTIGUOUS (C)\n",
            " |          The data is in a single, C-style contiguous segment.\n",
            " |      F_CONTIGUOUS (F)\n",
            " |          The data is in a single, Fortran-style contiguous segment.\n",
            " |      OWNDATA (O)\n",
            " |          The array owns the memory it uses or borrows it from another object.\n",
            " |      WRITEABLE (W)\n",
            " |          The data area can be written to.  Setting this to False locks\n",
            " |          the data, making it read-only.  A view (slice, etc.) inherits WRITEABLE\n",
            " |          from its base array at creation time, but a view of a writeable\n",
            " |          array may be subsequently locked while the base array remains writeable.\n",
            " |          (The opposite is not true, in that a view of a locked array may not\n",
            " |          be made writeable.  However, currently, locking a base object does not\n",
            " |          lock any views that already reference it, so under that circumstance it\n",
            " |          is possible to alter the contents of a locked array via a previously\n",
            " |          created writeable view onto it.)  Attempting to change a non-writeable\n",
            " |          array raises a RuntimeError exception.\n",
            " |      ALIGNED (A)\n",
            " |          The data and all elements are aligned appropriately for the hardware.\n",
            " |      WRITEBACKIFCOPY (X)\n",
            " |          This array is a copy of some other array. The C-API function\n",
            " |          PyArray_ResolveWritebackIfCopy must be called before deallocating\n",
            " |          to the base array will be updated with the contents of this array.\n",
            " |      FNC\n",
            " |          F_CONTIGUOUS and not C_CONTIGUOUS.\n",
            " |      FORC\n",
            " |          F_CONTIGUOUS or C_CONTIGUOUS (one-segment test).\n",
            " |      BEHAVED (B)\n",
            " |          ALIGNED and WRITEABLE.\n",
            " |      CARRAY (CA)\n",
            " |          BEHAVED and C_CONTIGUOUS.\n",
            " |      FARRAY (FA)\n",
            " |          BEHAVED and F_CONTIGUOUS and not C_CONTIGUOUS.\n",
            " |      \n",
            " |      Notes\n",
            " |      -----\n",
            " |      The `flags` object can be accessed dictionary-like (as in ``a.flags['WRITEABLE']``),\n",
            " |      or by using lowercased attribute names (as in ``a.flags.writeable``). Short flag\n",
            " |      names are only supported in dictionary access.\n",
            " |      \n",
            " |      Only the WRITEBACKIFCOPY, WRITEABLE, and ALIGNED flags can be\n",
            " |      changed by the user, via direct assignment to the attribute or dictionary\n",
            " |      entry, or by calling `ndarray.setflags`.\n",
            " |      \n",
            " |      The array flags cannot be set arbitrarily:\n",
            " |      \n",
            " |      - WRITEBACKIFCOPY can only be set ``False``.\n",
            " |      - ALIGNED can only be set ``True`` if the data is truly aligned.\n",
            " |      - WRITEABLE can only be set ``True`` if the array owns its own memory\n",
            " |        or the ultimate owner of the memory exposes a writeable buffer\n",
            " |        interface or is a string.\n",
            " |      \n",
            " |      Arrays can be both C-style and Fortran-style contiguous simultaneously.\n",
            " |      This is clear for 1-dimensional arrays, but can also be true for higher\n",
            " |      dimensional arrays.\n",
            " |      \n",
            " |      Even for contiguous arrays a stride for a given dimension\n",
            " |      ``arr.strides[dim]`` may be *arbitrary* if ``arr.shape[dim] == 1``\n",
            " |      or the array has no elements.\n",
            " |      It does *not* generally hold that ``self.strides[-1] == self.itemsize``\n",
            " |      for C-style contiguous arrays or ``self.strides[0] == self.itemsize`` for\n",
            " |      Fortran-style contiguous arrays is true.\n",
            " |  \n",
            " |  flat\n",
            " |      A 1-D iterator over the array.\n",
            " |      \n",
            " |      This is a `numpy.flatiter` instance, which acts similarly to, but is not\n",
            " |      a subclass of, Python's built-in iterator object.\n",
            " |      \n",
            " |      See Also\n",
            " |      --------\n",
            " |      flatten : Return a copy of the array collapsed into one dimension.\n",
            " |      \n",
            " |      flatiter\n",
            " |      \n",
            " |      Examples\n",
            " |      --------\n",
            " |      >>> x = np.arange(1, 7).reshape(2, 3)\n",
            " |      >>> x\n",
            " |      array([[1, 2, 3],\n",
            " |             [4, 5, 6]])\n",
            " |      >>> x.flat[3]\n",
            " |      4\n",
            " |      >>> x.T\n",
            " |      array([[1, 4],\n",
            " |             [2, 5],\n",
            " |             [3, 6]])\n",
            " |      >>> x.T.flat[3]\n",
            " |      5\n",
            " |      >>> type(x.flat)\n",
            " |      <class 'numpy.flatiter'>\n",
            " |      \n",
            " |      An assignment example:\n",
            " |      \n",
            " |      >>> x.flat = 3; x\n",
            " |      array([[3, 3, 3],\n",
            " |             [3, 3, 3]])\n",
            " |      >>> x.flat[[1,4]] = 1; x\n",
            " |      array([[3, 1, 3],\n",
            " |             [3, 1, 3]])\n",
            " |  \n",
            " |  imag\n",
            " |      The imaginary part of the array.\n",
            " |      \n",
            " |      Examples\n",
            " |      --------\n",
            " |      >>> x = np.sqrt([1+0j, 0+1j])\n",
            " |      >>> x.imag\n",
            " |      array([ 0.        ,  0.70710678])\n",
            " |      >>> x.imag.dtype\n",
            " |      dtype('float64')\n",
            " |  \n",
            " |  itemsize\n",
            " |      Length of one array element in bytes.\n",
            " |      \n",
            " |      Examples\n",
            " |      --------\n",
            " |      >>> x = np.array([1,2,3], dtype=np.float64)\n",
            " |      >>> x.itemsize\n",
            " |      8\n",
            " |      >>> x = np.array([1,2,3], dtype=np.complex128)\n",
            " |      >>> x.itemsize\n",
            " |      16\n",
            " |  \n",
            " |  nbytes\n",
            " |      Total bytes consumed by the elements of the array.\n",
            " |      \n",
            " |      Notes\n",
            " |      -----\n",
            " |      Does not include memory consumed by non-element attributes of the\n",
            " |      array object.\n",
            " |      \n",
            " |      See Also\n",
            " |      --------\n",
            " |      sys.getsizeof\n",
            " |          Memory consumed by the object itself without parents in case view.\n",
            " |          This does include memory consumed by non-element attributes.\n",
            " |      \n",
            " |      Examples\n",
            " |      --------\n",
            " |      >>> x = np.zeros((3,5,2), dtype=np.complex128)\n",
            " |      >>> x.nbytes\n",
            " |      480\n",
            " |      >>> np.prod(x.shape) * x.itemsize\n",
            " |      480\n",
            " |  \n",
            " |  ndim\n",
            " |      Number of array dimensions.\n",
            " |      \n",
            " |      Examples\n",
            " |      --------\n",
            " |      >>> x = np.array([1, 2, 3])\n",
            " |      >>> x.ndim\n",
            " |      1\n",
            " |      >>> y = np.zeros((2, 3, 4))\n",
            " |      >>> y.ndim\n",
            " |      3\n",
            " |  \n",
            " |  real\n",
            " |      The real part of the array.\n",
            " |      \n",
            " |      Examples\n",
            " |      --------\n",
            " |      >>> x = np.sqrt([1+0j, 0+1j])\n",
            " |      >>> x.real\n",
            " |      array([ 1.        ,  0.70710678])\n",
            " |      >>> x.real.dtype\n",
            " |      dtype('float64')\n",
            " |      \n",
            " |      See Also\n",
            " |      --------\n",
            " |      numpy.real : equivalent function\n",
            " |  \n",
            " |  shape\n",
            " |      Tuple of array dimensions.\n",
            " |      \n",
            " |      The shape property is usually used to get the current shape of an array,\n",
            " |      but may also be used to reshape the array in-place by assigning a tuple of\n",
            " |      array dimensions to it.  As with `numpy.reshape`, one of the new shape\n",
            " |      dimensions can be -1, in which case its value is inferred from the size of\n",
            " |      the array and the remaining dimensions. Reshaping an array in-place will\n",
            " |      fail if a copy is required.\n",
            " |      \n",
            " |      .. warning::\n",
            " |      \n",
            " |          Setting ``arr.shape`` is discouraged and may be deprecated in the\n",
            " |          future.  Using `ndarray.reshape` is the preferred approach.\n",
            " |      \n",
            " |      Examples\n",
            " |      --------\n",
            " |      >>> x = np.array([1, 2, 3, 4])\n",
            " |      >>> x.shape\n",
            " |      (4,)\n",
            " |      >>> y = np.zeros((2, 3, 4))\n",
            " |      >>> y.shape\n",
            " |      (2, 3, 4)\n",
            " |      >>> y.shape = (3, 8)\n",
            " |      >>> y\n",
            " |      array([[ 0.,  0.,  0.,  0.,  0.,  0.,  0.,  0.],\n",
            " |             [ 0.,  0.,  0.,  0.,  0.,  0.,  0.,  0.],\n",
            " |             [ 0.,  0.,  0.,  0.,  0.,  0.,  0.,  0.]])\n",
            " |      >>> y.shape = (3, 6)\n",
            " |      Traceback (most recent call last):\n",
            " |        File \"<stdin>\", line 1, in <module>\n",
            " |      ValueError: total size of new array must be unchanged\n",
            " |      >>> np.zeros((4,2))[::2].shape = (-1,)\n",
            " |      Traceback (most recent call last):\n",
            " |        File \"<stdin>\", line 1, in <module>\n",
            " |      AttributeError: Incompatible shape for in-place modification. Use\n",
            " |      `.reshape()` to make a copy with the desired shape.\n",
            " |      \n",
            " |      See Also\n",
            " |      --------\n",
            " |      numpy.shape : Equivalent getter function.\n",
            " |      numpy.reshape : Function similar to setting ``shape``.\n",
            " |      ndarray.reshape : Method similar to setting ``shape``.\n",
            " |  \n",
            " |  size\n",
            " |      Number of elements in the array.\n",
            " |      \n",
            " |      Equal to ``np.prod(a.shape)``, i.e., the product of the array's\n",
            " |      dimensions.\n",
            " |      \n",
            " |      Notes\n",
            " |      -----\n",
            " |      `a.size` returns a standard arbitrary precision Python integer. This\n",
            " |      may not be the case with other methods of obtaining the same value\n",
            " |      (like the suggested ``np.prod(a.shape)``, which returns an instance\n",
            " |      of ``np.int_``), and may be relevant if the value is used further in\n",
            " |      calculations that may overflow a fixed size integer type.\n",
            " |      \n",
            " |      Examples\n",
            " |      --------\n",
            " |      >>> x = np.zeros((3, 5, 2), dtype=np.complex128)\n",
            " |      >>> x.size\n",
            " |      30\n",
            " |      >>> np.prod(x.shape)\n",
            " |      30\n",
            " |  \n",
            " |  strides\n",
            " |      Tuple of bytes to step in each dimension when traversing an array.\n",
            " |      \n",
            " |      The byte offset of element ``(i[0], i[1], ..., i[n])`` in an array `a`\n",
            " |      is::\n",
            " |      \n",
            " |          offset = sum(np.array(i) * a.strides)\n",
            " |      \n",
            " |      A more detailed explanation of strides can be found in the\n",
            " |      \"ndarray.rst\" file in the NumPy reference guide.\n",
            " |      \n",
            " |      .. warning::\n",
            " |      \n",
            " |          Setting ``arr.strides`` is discouraged and may be deprecated in the\n",
            " |          future.  `numpy.lib.stride_tricks.as_strided` should be preferred\n",
            " |          to create a new view of the same data in a safer way.\n",
            " |      \n",
            " |      Notes\n",
            " |      -----\n",
            " |      Imagine an array of 32-bit integers (each 4 bytes)::\n",
            " |      \n",
            " |        x = np.array([[0, 1, 2, 3, 4],\n",
            " |                      [5, 6, 7, 8, 9]], dtype=np.int32)\n",
            " |      \n",
            " |      This array is stored in memory as 40 bytes, one after the other\n",
            " |      (known as a contiguous block of memory).  The strides of an array tell\n",
            " |      us how many bytes we have to skip in memory to move to the next position\n",
            " |      along a certain axis.  For example, we have to skip 4 bytes (1 value) to\n",
            " |      move to the next column, but 20 bytes (5 values) to get to the same\n",
            " |      position in the next row.  As such, the strides for the array `x` will be\n",
            " |      ``(20, 4)``.\n",
            " |      \n",
            " |      See Also\n",
            " |      --------\n",
            " |      numpy.lib.stride_tricks.as_strided\n",
            " |      \n",
            " |      Examples\n",
            " |      --------\n",
            " |      >>> y = np.reshape(np.arange(2*3*4), (2,3,4))\n",
            " |      >>> y\n",
            " |      array([[[ 0,  1,  2,  3],\n",
            " |              [ 4,  5,  6,  7],\n",
            " |              [ 8,  9, 10, 11]],\n",
            " |             [[12, 13, 14, 15],\n",
            " |              [16, 17, 18, 19],\n",
            " |              [20, 21, 22, 23]]])\n",
            " |      >>> y.strides\n",
            " |      (48, 16, 4)\n",
            " |      >>> y[1,1,1]\n",
            " |      17\n",
            " |      >>> offset=sum(y.strides * np.array((1,1,1)))\n",
            " |      >>> offset/y.itemsize\n",
            " |      17\n",
            " |      \n",
            " |      >>> x = np.reshape(np.arange(5*6*7*8), (5,6,7,8)).transpose(2,3,1,0)\n",
            " |      >>> x.strides\n",
            " |      (32, 4, 224, 1344)\n",
            " |      >>> i = np.array([3,5,2,2])\n",
            " |      >>> offset = sum(i * x.strides)\n",
            " |      >>> x[3,5,2,2]\n",
            " |      813\n",
            " |      >>> offset / x.itemsize\n",
            " |      813\n",
            " |  \n",
            " |  ----------------------------------------------------------------------\n",
            " |  Data and other attributes defined here:\n",
            " |  \n",
            " |  __hash__ = None\n",
            "\n"
          ]
        }
      ]
    },
    {
      "cell_type": "code",
      "source": [
        "[3, 4, 1, 2, 2, 1] + 10 #tidak bisa menambahkan integer dengan array yg dibuat sendiri"
      ],
      "metadata": {
        "colab": {
          "base_uri": "https://localhost:8080/",
          "height": 141
        },
        "id": "jg5g4BI8TQid",
        "outputId": "84853cdf-6328-44b2-d620-abdaa715c10f"
      },
      "execution_count": null,
      "outputs": [
        {
          "output_type": "error",
          "ename": "TypeError",
          "evalue": "can only concatenate list (not \"int\") to list",
          "traceback": [
            "\u001b[0;31m---------------------------------------------------------------------------\u001b[0m",
            "\u001b[0;31mTypeError\u001b[0m                                 Traceback (most recent call last)",
            "\u001b[0;32m<ipython-input-22-a2508fc27c2b>\u001b[0m in \u001b[0;36m<cell line: 0>\u001b[0;34m()\u001b[0m\n\u001b[0;32m----> 1\u001b[0;31m \u001b[0;34m[\u001b[0m\u001b[0;36m3\u001b[0m\u001b[0;34m,\u001b[0m \u001b[0;36m4\u001b[0m\u001b[0;34m,\u001b[0m \u001b[0;36m1\u001b[0m\u001b[0;34m,\u001b[0m \u001b[0;36m2\u001b[0m\u001b[0;34m,\u001b[0m \u001b[0;36m2\u001b[0m\u001b[0;34m,\u001b[0m \u001b[0;36m1\u001b[0m\u001b[0;34m]\u001b[0m \u001b[0;34m+\u001b[0m \u001b[0;36m10\u001b[0m\u001b[0;34m\u001b[0m\u001b[0;34m\u001b[0m\u001b[0m\n\u001b[0m",
            "\u001b[0;31mTypeError\u001b[0m: can only concatenate list (not \"int\") to list"
          ]
        }
      ]
    },
    {
      "cell_type": "code",
      "source": [
        "rolls + 10 rolls + 10 #menambahkan 10 ke dalam list"
      ],
      "metadata": {
        "colab": {
          "base_uri": "https://localhost:8080/"
        },
        "id": "M2Azn57kTQeg",
        "outputId": "038a7de3-6898-468c-acff-b02253f78685"
      },
      "execution_count": null,
      "outputs": [
        {
          "output_type": "execute_result",
          "data": {
            "text/plain": [
              "array([12, 14, 14, 14, 14, 14, 14, 15, 11, 11])"
            ]
          },
          "metadata": {},
          "execution_count": 23
        }
      ]
    },
    {
      "cell_type": "code",
      "source": [
        "# At which indices are the dice less than or equal to 3?\n",
        "rolls <= 3"
      ],
      "metadata": {
        "colab": {
          "base_uri": "https://localhost:8080/"
        },
        "id": "plP4fok9T2bP",
        "outputId": "d0c1adec-d36b-40bc-f5b4-b1036ff80d5c"
      },
      "execution_count": null,
      "outputs": [
        {
          "output_type": "execute_result",
          "data": {
            "text/plain": [
              "array([ True, False, False, False, False, False, False, False,  True,\n",
              "        True])"
            ]
          },
          "metadata": {},
          "execution_count": 24
        }
      ]
    },
    {
      "cell_type": "code",
      "source": [
        "xlist = [[1,2,3],[2,4,6],]\n",
        "# Create a 2-dimensional array\n",
        "x = numpy.asarray(xlist)\n",
        "print(\"xlist = {}\\nx =\\n{}\".format(xlist, x))"
      ],
      "metadata": {
        "colab": {
          "base_uri": "https://localhost:8080/"
        },
        "id": "WJVWy8XIT2YG",
        "outputId": "5e3d39b8-f7d7-4ed5-ed49-a4ff96f0ac0b"
      },
      "execution_count": null,
      "outputs": [
        {
          "output_type": "stream",
          "name": "stdout",
          "text": [
            "xlist = [[1, 2, 3], [2, 4, 6]]\n",
            "x =\n",
            "[[1 2 3]\n",
            " [2 4 6]]\n"
          ]
        }
      ]
    },
    {
      "cell_type": "code",
      "source": [
        "# Get the last element of the second row of our numpy array\n",
        "x[1,-1]"
      ],
      "metadata": {
        "colab": {
          "base_uri": "https://localhost:8080/"
        },
        "id": "9FSw1uaHT2U2",
        "outputId": "61c18506-6b30-47a2-cc1a-88f28fc39112"
      },
      "execution_count": null,
      "outputs": [
        {
          "output_type": "execute_result",
          "data": {
            "text/plain": [
              "6"
            ]
          },
          "metadata": {},
          "execution_count": 26
        }
      ]
    },
    {
      "cell_type": "code",
      "source": [
        "# Get the last element of the second sublist of our nested list?\n",
        "xlist[1,-1]"
      ],
      "metadata": {
        "colab": {
          "base_uri": "https://localhost:8080/",
          "height": 159
        },
        "id": "81pd8EyxT2Su",
        "outputId": "78231eba-58c5-4e03-b454-8a0ec0978545"
      },
      "execution_count": null,
      "outputs": [
        {
          "output_type": "error",
          "ename": "TypeError",
          "evalue": "list indices must be integers or slices, not tuple",
          "traceback": [
            "\u001b[0;31m---------------------------------------------------------------------------\u001b[0m",
            "\u001b[0;31mTypeError\u001b[0m                                 Traceback (most recent call last)",
            "\u001b[0;32m<ipython-input-27-e2f4c7f35788>\u001b[0m in \u001b[0;36m<cell line: 0>\u001b[0;34m()\u001b[0m\n\u001b[1;32m      1\u001b[0m \u001b[0;31m# Get the last element of the second sublist of our nested list?\u001b[0m\u001b[0;34m\u001b[0m\u001b[0;34m\u001b[0m\u001b[0m\n\u001b[0;32m----> 2\u001b[0;31m \u001b[0mxlist\u001b[0m\u001b[0;34m[\u001b[0m\u001b[0;36m1\u001b[0m\u001b[0;34m,\u001b[0m\u001b[0;34m-\u001b[0m\u001b[0;36m1\u001b[0m\u001b[0;34m]\u001b[0m\u001b[0;34m\u001b[0m\u001b[0;34m\u001b[0m\u001b[0m\n\u001b[0m",
            "\u001b[0;31mTypeError\u001b[0m: list indices must be integers or slices, not tuple"
          ]
        }
      ]
    },
    {
      "cell_type": "code",
      "source": [
        "import tensorflow as tf\n",
        "# Create two constants, each with value 1\n",
        "a = tf.constant(1)\n",
        "b = tf.constant(1)\n",
        "# Add them together to get...\n",
        "a + b"
      ],
      "metadata": {
        "colab": {
          "base_uri": "https://localhost:8080/"
        },
        "id": "c6tL7-GqT2Py",
        "outputId": "6d4a04df-d255-418e-9294-1e45655647fc"
      },
      "execution_count": null,
      "outputs": [
        {
          "output_type": "execute_result",
          "data": {
            "text/plain": [
              "<tf.Tensor: shape=(), dtype=int32, numpy=2>"
            ]
          },
          "metadata": {},
          "execution_count": 28
        }
      ]
    },
    {
      "cell_type": "code",
      "source": [
        "# Get the rows with population over 1m in South America\n",
        "df[(df['population'] > 10**6) & (df['continent'] == 'South America')]"
      ],
      "metadata": {
        "colab": {
          "base_uri": "https://localhost:8080/",
          "height": 159
        },
        "id": "PTWuZnTJT2M8",
        "outputId": "cc3f4a7f-f769-4741-fa5e-ba7a17ef8d7c"
      },
      "execution_count": null,
      "outputs": [
        {
          "output_type": "error",
          "ename": "NameError",
          "evalue": "name 'df' is not defined",
          "traceback": [
            "\u001b[0;31m---------------------------------------------------------------------------\u001b[0m",
            "\u001b[0;31mNameError\u001b[0m                                 Traceback (most recent call last)",
            "\u001b[0;32m<ipython-input-29-7ca99661d2ff>\u001b[0m in \u001b[0;36m<cell line: 0>\u001b[0;34m()\u001b[0m\n\u001b[1;32m      1\u001b[0m \u001b[0;31m# Get the rows with population over 1m in South America\u001b[0m\u001b[0;34m\u001b[0m\u001b[0;34m\u001b[0m\u001b[0m\n\u001b[0;32m----> 2\u001b[0;31m \u001b[0mdf\u001b[0m\u001b[0;34m[\u001b[0m\u001b[0;34m(\u001b[0m\u001b[0mdf\u001b[0m\u001b[0;34m[\u001b[0m\u001b[0;34m'population'\u001b[0m\u001b[0;34m]\u001b[0m \u001b[0;34m>\u001b[0m \u001b[0;36m10\u001b[0m\u001b[0;34m**\u001b[0m\u001b[0;36m6\u001b[0m\u001b[0;34m)\u001b[0m \u001b[0;34m&\u001b[0m \u001b[0;34m(\u001b[0m\u001b[0mdf\u001b[0m\u001b[0;34m[\u001b[0m\u001b[0;34m'continent'\u001b[0m\u001b[0;34m]\u001b[0m \u001b[0;34m==\u001b[0m \u001b[0;34m'South America'\u001b[0m\u001b[0;34m)\u001b[0m\u001b[0;34m]\u001b[0m\u001b[0;34m\u001b[0m\u001b[0;34m\u001b[0m\u001b[0m\n\u001b[0m",
            "\u001b[0;31mNameError\u001b[0m: name 'df' is not defined"
          ]
        }
      ]
    },
    {
      "cell_type": "code",
      "source": [
        "print(dir(list))"
      ],
      "metadata": {
        "colab": {
          "base_uri": "https://localhost:8080/"
        },
        "id": "jDQQtVerT2KC",
        "outputId": "5e2535e9-7275-4751-f261-8b108fd927e7"
      },
      "execution_count": null,
      "outputs": [
        {
          "output_type": "stream",
          "name": "stdout",
          "text": [
            "['__add__', '__class__', '__class_getitem__', '__contains__', '__delattr__', '__delitem__', '__dir__', '__doc__', '__eq__', '__format__', '__ge__', '__getattribute__', '__getitem__', '__getstate__', '__gt__', '__hash__', '__iadd__', '__imul__', '__init__', '__init_subclass__', '__iter__', '__le__', '__len__', '__lt__', '__mul__', '__ne__', '__new__', '__reduce__', '__reduce_ex__', '__repr__', '__reversed__', '__rmul__', '__setattr__', '__setitem__', '__sizeof__', '__str__', '__subclasshook__', 'append', 'clear', 'copy', 'count', 'extend', 'index', 'insert', 'pop', 'remove', 'reverse', 'sort']\n"
          ]
        }
      ]
    }
  ],
  "metadata": {
    "colab": {
      "provenance": [],
      "authorship_tag": "ABX9TyNRKCqkLe97tXP9KKIt93E/",
      "include_colab_link": true
    },
    "kernelspec": {
      "display_name": "Python 3",
      "name": "python3"
    },
    "language_info": {
      "name": "python"
    }
  },
  "nbformat": 4,
  "nbformat_minor": 0
}