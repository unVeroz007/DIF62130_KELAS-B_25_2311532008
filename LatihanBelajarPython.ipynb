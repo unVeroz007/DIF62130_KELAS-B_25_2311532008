{
  "nbformat": 4,
  "nbformat_minor": 0,
  "metadata": {
    "colab": {
      "provenance": [],
      "authorship_tag": "ABX9TyNLaHK4XDpeyGAtr6AXN9RT",
      "include_colab_link": true
    },
    "kernelspec": {
      "name": "python3",
      "display_name": "Python 3"
    },
    "language_info": {
      "name": "python"
    }
  },
  "cells": [
    {
      "cell_type": "markdown",
      "metadata": {
        "id": "view-in-github",
        "colab_type": "text"
      },
      "source": [
        "<a href=\"https://colab.research.google.com/github/unVeroz007/DIF62130_KELAS-B_25_2311532008/blob/main/LatihanBelajarPython.ipynb\" target=\"_parent\"><img src=\"https://colab.research.google.com/assets/colab-badge.svg\" alt=\"Open In Colab\"/></a>"
      ]
    },
    {
      "cell_type": "code",
      "execution_count": 1,
      "metadata": {
        "id": "sccBKpSl1wQ-"
      },
      "outputs": [],
      "source": [
        "color = \"blue\" #membuat variabel baru"
      ]
    },
    {
      "cell_type": "code",
      "source": [
        "pi = 3.14159 # approximate\n",
        "diameter = 3\n",
        "\n",
        "# Create a variable called 'radius' equal to half the diameter\n",
        "radius = diameter / 2\n",
        "\n",
        "# Create a variable called 'area', using the formula for the area of a circle: pi times the radius squared\n",
        "area = pi * radius**2"
      ],
      "metadata": {
        "id": "gGVbetBO16AH"
      },
      "execution_count": null,
      "outputs": []
    },
    {
      "cell_type": "code",
      "source": [
        "########### Setup code - don't touch this part ######################\n",
        "# If you're curious, these are examples of lists. We'll talk about\n",
        "# them in depth a few lessons from now. For now, just know that they're\n",
        "# yet another type of Python object, like int or float.\n",
        "a = [1, 2, 3]\n",
        "b = [3, 2, 1]\n",
        "######################################################################\n",
        "\n",
        "# Your code goes here. Swap the values to which a and b refer.\n",
        "# If you get stuck, you can always uncomment one or both of the lines in\n",
        "# the next cell for a hint, or to peek at the solution.\n",
        "swap = a\n",
        "a = b\n",
        "b = swap\n",
        "#menukah nilai suatu objek"
      ],
      "metadata": {
        "id": "sT3D0Xvn158j"
      },
      "execution_count": null,
      "outputs": []
    },
    {
      "cell_type": "code",
      "source": [
        "(5 - 3) // 2 #proses aritmatika"
      ],
      "metadata": {
        "colab": {
          "base_uri": "https://localhost:8080/"
        },
        "id": "rnr8C3T1157B",
        "outputId": "a6dde974-6e7d-40cc-bbef-e3b4a0ab7d34"
      },
      "execution_count": null,
      "outputs": [
        {
          "output_type": "execute_result",
          "data": {
            "text/plain": [
              "1"
            ]
          },
          "metadata": {},
          "execution_count": 9
        }
      ]
    },
    {
      "cell_type": "code",
      "source": [
        "8 - (3 * 2) - (1 + 1) #proses aritmatika"
      ],
      "metadata": {
        "colab": {
          "base_uri": "https://localhost:8080/"
        },
        "id": "V4FoUVbS155h",
        "outputId": "6e23ada6-511c-43d1-b98e-95d0a83af4f2"
      },
      "execution_count": null,
      "outputs": [
        {
          "output_type": "execute_result",
          "data": {
            "text/plain": [
              "0"
            ]
          },
          "metadata": {},
          "execution_count": 10
        }
      ]
    },
    {
      "cell_type": "code",
      "source": [
        "# Variables representing the number of candies collected by alice, bob, and carol\n",
        "alice_candies = 121\n",
        "bob_candies = 77\n",
        "carol_candies = 109\n",
        "\n",
        "# Your code goes here! Replace the right-hand side of this assignment with an expression\n",
        "# involving alice_candies, bob_candies, and carol_candies\n",
        "(alice_candies + bob_candies + carol_candies) % 3\n",
        "to_smash = -1\n"
      ],
      "metadata": {
        "id": "NzceajYa1537"
      },
      "execution_count": null,
      "outputs": []
    },
    {
      "cell_type": "code",
      "source": [],
      "metadata": {
        "id": "XlTDuRrcrIK6"
      },
      "execution_count": null,
      "outputs": []
    },
    {
      "cell_type": "code",
      "source": [
        "# Put your test code here\n",
        "print(round(-12341, -3)) #membuat test code"
      ],
      "metadata": {
        "colab": {
          "base_uri": "https://localhost:8080/"
        },
        "id": "uxx0u_os15z4",
        "outputId": "aa30f749-65c2-49dc-8880-2502ec33a893"
      },
      "execution_count": null,
      "outputs": [
        {
          "output_type": "stream",
          "name": "stdout",
          "text": [
            "-12000\n"
          ]
        }
      ]
    },
    {
      "cell_type": "code",
      "source": [
        "def to_smash(total_candies, n_friends=3):\n",
        "    \"\"\"Return the number of leftover candies that must be smashed after distributing\n",
        "    the given number of candies evenly between 3 friends.\n",
        "\n",
        "    >>> to_smash(91)\n",
        "    1\n",
        "    \"\"\"\n",
        "    return total_candies % n_friends #untuk nilai return inputan"
      ],
      "metadata": {
        "id": "rDCOv4oJ15yV"
      },
      "execution_count": null,
      "outputs": []
    },
    {
      "cell_type": "code",
      "source": [
        "def round_to_two_places(number): //membuat fungsi\n",
        "    return round(number, 2) #membulatkan angka ke 2 desimal\n",
        "\n",
        "# Example usage:\n",
        "print(round_to_two_places(9.9999))  # Output: 10.0, membulatkan nilai\n",
        "print(round_to_two_places(3.14159)) # Output: 3.14,\n",
        "print(round_to_two_places(-2.678))  # Output: -2.68\n"
      ],
      "metadata": {
        "colab": {
          "base_uri": "https://localhost:8080/"
        },
        "id": "UqlpZsBd15xH",
        "outputId": "14491c61-3de8-404c-c8c0-b2752845b764"
      },
      "execution_count": null,
      "outputs": [
        {
          "output_type": "stream",
          "name": "stdout",
          "text": [
            "10.0\n",
            "3.14\n",
            "-2.68\n"
          ]
        }
      ]
    },
    {
      "cell_type": "code",
      "source": [
        "x = 10\n",
        "y = -5\n",
        "# Which of the two variables above has the smallest absolute value?\n",
        "smallest_abs = min(x, y, key=abs) #mencari nilai terkecil\n",
        "print(smallest_abs) #print nilai terkecil"
      ],
      "metadata": {
        "colab": {
          "base_uri": "https://localhost:8080/"
        },
        "id": "71-ySKQ815vl",
        "outputId": "b686c9ec-7d79-48dc-8559-cc62683db535"
      },
      "execution_count": null,
      "outputs": [
        {
          "output_type": "stream",
          "name": "stdout",
          "text": [
            "-5\n"
          ]
        }
      ]
    },
    {
      "cell_type": "code",
      "source": [
        "def f(x): #mendefenisikan fungsi\n",
        "    y = abs(x) #menentukan nilai absolute fungsi\n",
        "    return y #mengembalikan nilai\n",
        "\n",
        "print(f(5)) #inputan yg dicari outputnya"
      ],
      "metadata": {
        "colab": {
          "base_uri": "https://localhost:8080/"
        },
        "id": "mhSdc2Rm15sm",
        "outputId": "766b2dec-83c4-4bf7-dad0-64988ab3f102"
      },
      "execution_count": null,
      "outputs": [
        {
          "output_type": "stream",
          "name": "stdout",
          "text": [
            "5\n"
          ]
        }
      ]
    },
    {
      "cell_type": "code",
      "source": [],
      "metadata": {
        "id": "n9M1YnYQ15qJ"
      },
      "execution_count": null,
      "outputs": []
    },
    {
      "cell_type": "code",
      "source": [
        "# Your code goes here. Define a function called 'sign'\n",
        "def sign(x): #membuat fungsi kondisional\n",
        "    if x > 0:\n",
        "        return 1\n",
        "    elif x < 0:\n",
        "        return -1\n",
        "    else:\n",
        "        return 0"
      ],
      "metadata": {
        "id": "oUzU8hKU15oo"
      },
      "execution_count": null,
      "outputs": []
    },
    {
      "cell_type": "code",
      "source": [
        "import logging #import library\n",
        "\n",
        "# Configure logging settings\n",
        "logging.basicConfig(level=logging.INFO, format=\"%(levelname)s: %(message)s\")\n",
        "def to_smash(total_candies):\n",
        "    \"\"\"Return the number of leftover candies that must be smashed after distributing\n",
        "    the given number of candies evenly between 3 friends.\n",
        "\n",
        "    >>> to_smash(91)\n",
        "    1\n",
        "    \"\"\"\n",
        "    print(total_candies, \"candies\")\n",
        "    return total_candies % 3\n",
        "\n",
        "to_smash(91) #inputan"
      ],
      "metadata": {
        "colab": {
          "base_uri": "https://localhost:8080/"
        },
        "id": "6TmI6K8Q15nG",
        "outputId": "2cf6f643-ce37-436e-ea9e-178c9bbd5293"
      },
      "execution_count": null,
      "outputs": [
        {
          "output_type": "stream",
          "name": "stdout",
          "text": [
            "91 candies\n"
          ]
        },
        {
          "output_type": "execute_result",
          "data": {
            "text/plain": [
              "1"
            ]
          },
          "metadata": {},
          "execution_count": 20
        }
      ]
    },
    {
      "cell_type": "code",
      "source": [
        "to_smash(1)"
      ],
      "metadata": {
        "colab": {
          "base_uri": "https://localhost:8080/"
        },
        "id": "B5bF-y1q15ke",
        "outputId": "76867273-a4fb-48a8-956f-40b0417c9fc7"
      },
      "execution_count": null,
      "outputs": [
        {
          "output_type": "stream",
          "name": "stdout",
          "text": [
            "1 candies\n"
          ]
        },
        {
          "output_type": "execute_result",
          "data": {
            "text/plain": [
              "1"
            ]
          },
          "metadata": {},
          "execution_count": 21
        }
      ]
    },
    {
      "cell_type": "code",
      "source": [
        "def to_smash(total_candies): #defenisikan fungsi\n",
        "    \"\"\"Return the number of leftover candies that must be smashed after distributing\n",
        "    the given number of candies evenly between 3 friends.\n",
        "\n",
        "    >>> to_smash(91)\n",
        "    1\n",
        "    \"\"\"\n",
        "    print(\"Splitting\", total_candies, \"candy\" if total_candies == 1 else \"candies\")\n",
        "\n",
        "    if total_candies == 1:\n",
        "        print(\"Splitting 1 candy\")\n",
        "    else:\n",
        "        print(\"Splitting\", total_candies, \"candies\")\n",
        "    print(\"Splitting\", total_candies, \"candy\" if total_candies == 1 else \"candies\")"
      ],
      "metadata": {
        "id": "4w1HJmsy15gg"
      },
      "execution_count": 2,
      "outputs": []
    },
    {
      "cell_type": "code",
      "source": [
        "def prepared_for_weather(have_umbrella, rain_level, have_hood, is_workday):\n",
        "    # Don't change this code. Our goal is just to find the bug, not fix it!\n",
        "    return have_umbrella or rain_level < 5 and have_hood or not rain_level > 0 and is_workday\n",
        "\n",
        "# Change the values of these inputs so they represent a case where prepared_for_weather\n",
        "# returns the wrong answer.\n",
        "have_umbrella = False\n",
        "rain_level = 0.0\n",
        "have_hood = False\n",
        "is_workday = False\n",
        "\n",
        "# Check what the function returns given the current values of the variables above\n",
        "actual = prepared_for_weather(have_umbrella, rain_level, have_hood, is_workday)\n",
        "print(actual)"
      ],
      "metadata": {
        "colab": {
          "base_uri": "https://localhost:8080/"
        },
        "id": "MlA8l0kH15ds",
        "outputId": "d93cd49d-4b81-4d0d-e79e-c992609c6b98"
      },
      "execution_count": 3,
      "outputs": [
        {
          "output_type": "stream",
          "name": "stdout",
          "text": [
            "False\n"
          ]
        }
      ]
    },
    {
      "cell_type": "code",
      "source": [
        "def is_negative(number): #memdefenisikan fungsi, fungsinya kondisional sentence dengan output yg ditentukan\n",
        "    if number < 0:\n",
        "        return True\n",
        "    else:\n",
        "        return False\n",
        "\n",
        "def concise_is_negative(number): #memiliki fungsi yg sama tetapi langsung mengembalikan nilai outputnya\n",
        "    return number < 0"
      ],
      "metadata": {
        "id": "ZuUIAxRW15bK"
      },
      "execution_count": null,
      "outputs": []
    },
    {
      "cell_type": "code",
      "source": [
        "def onionless(ketchup, mustard, onion):\n",
        "    \"\"\"Return whether the customer doesn't want onions.\n",
        "    \"\"\"\n",
        "    return not onion"
      ],
      "metadata": {
        "id": "Y3xX0Owd15ZD"
      },
      "execution_count": null,
      "outputs": []
    },
    {
      "cell_type": "code",
      "source": [
        "def wants_all_toppings(ketchup, mustard, onion):\n",
        "    \"\"\"Return whether the customer wants \"the works\" (all 3 toppings)\n",
        "    \"\"\"\n",
        "    return ketchup and mustard and onion"
      ],
      "metadata": {
        "id": "70DzMjFY15WB"
      },
      "execution_count": null,
      "outputs": []
    },
    {
      "cell_type": "code",
      "source": [
        "def wants_plain_hotdog(ketchup, mustard, onion):\n",
        "    \"\"\"Return whether the customer wants a plain hot dog with no toppings.\n",
        "    \"\"\"\n",
        "    return not ketchup and not mustard and not onion"
      ],
      "metadata": {
        "id": "SX2dc8rx15UD"
      },
      "execution_count": null,
      "outputs": []
    },
    {
      "cell_type": "code",
      "source": [
        "def exactly_one_sauce(ketchup, mustard, onion):\n",
        "    \"\"\"Return whether the customer wants either ketchup or mustard, but not both.\n",
        "    (You may be familiar with this operation under the name \"exclusive or\")\n",
        "    \"\"\"\n",
        "    return (ketchup and not mustard) or (mustard and not ketchup)\n"
      ],
      "metadata": {
        "id": "94I8vi2N15Rk"
      },
      "execution_count": null,
      "outputs": []
    },
    {
      "cell_type": "code",
      "source": [
        "def exactly_one_topping(ketchup, mustard, onion):\n",
        "    \"\"\"Return whether the customer wants exactly one of the three available toppings\n",
        "    on their hot dog.\n",
        "    \"\"\"\n",
        "    return (int(ketchup) + int(mustard) + int(onion)) == 1\n",
        "\n"
      ],
      "metadata": {
        "id": "DnbEXbKs15Pq"
      },
      "execution_count": null,
      "outputs": []
    },
    {
      "cell_type": "code",
      "source": [],
      "metadata": {
        "id": "MIrbrk3O15No"
      },
      "execution_count": null,
      "outputs": []
    },
    {
      "cell_type": "code",
      "source": [
        "def select_second(L):\n",
        "    \"\"\"Return the second element of the given list. If the list has no second\n",
        "    element, return None.\n",
        "    \"\"\"\n",
        "    if len(L) < 2:\n",
        "        return None\n",
        "    return L[1]"
      ],
      "metadata": {
        "id": "6WCoUt9g15Lr"
      },
      "execution_count": null,
      "outputs": []
    },
    {
      "cell_type": "code",
      "source": [
        "def losing_team_captain(teams):\n",
        "    \"\"\"Given a list of teams, where each team is a list of names, return the 2nd player (captain)\n",
        "    from the last listed team\n",
        "    \"\"\"\n",
        "    return teams[-1][1]\n",
        "\n"
      ],
      "metadata": {
        "id": "sKO73HUP15Ju"
      },
      "execution_count": null,
      "outputs": []
    },
    {
      "cell_type": "code",
      "source": [
        "def purple_shell(racers):\n",
        "    \"\"\"Given a list of racers, set the first place racer (at the front of the list) to last\n",
        "    place and vice versa.\n",
        "\n",
        "    >>> r = [\"Mario\", \"Bowser\", \"Luigi\"]\n",
        "    >>> purple_shell(r)\n",
        "    >>> r\n",
        "    [\"Luigi\", \"Bowser\", \"Mario\"]\n",
        "    \"\"\"\n",
        "    temp = racers[0]\n",
        "    racers[0] = racers[-1]\n",
        "    racers[-1] = temp\n"
      ],
      "metadata": {
        "id": "JV4Js8HL15Hg"
      },
      "execution_count": null,
      "outputs": []
    },
    {
      "cell_type": "code",
      "source": [
        "a = [1, 2, 3]\n",
        "b = [1, [2, 3]]\n",
        "c = []\n",
        "d = [1, 2, 3][1:]\n",
        "\n",
        "# Put your predictions in the list below. Lengths should contain 4 numbers, the\n",
        "# first being the length of a, the second being the length of b and so on.\n",
        "lengths = [3, 2, 0, 2] #nilai prediksi masing masing panjang list"
      ],
      "metadata": {
        "id": "RtU4l5_W15Fo"
      },
      "execution_count": 4,
      "outputs": []
    },
    {
      "cell_type": "code",
      "source": [
        "def fashionably_late(arrivals, name): #Mencari posisi tamu dengan nama name dalam daftar kedatangan (arrivals).\n",
        "    \"\"\"Given an ordered list of arrivals to the party and a name, return whether the guest with that\n",
        "    name was fashionably late.\n",
        "    \"\"\"\n",
        "    order = arrivals.index(name)\n",
        "    return order >= len(arrivals) / 2 and order != len(arrivals) - 1 #Mengecek apakah tamu datang setelah setengah tamu pertama tiba (artinya dia datang lebih lambat dari separuh tamu) dan Memastikan tamu tersebut bukan yang terakhir datang (karena orang terakhir biasanya dianggap sangat terlambat, bukan sekadar \"fashionably late\").\n"
      ],
      "metadata": {
        "id": "5zcwe0kB15DQ"
      },
      "execution_count": null,
      "outputs": []
    },
    {
      "cell_type": "code",
      "source": [],
      "metadata": {
        "id": "P7q5cZoI15BL"
      },
      "execution_count": null,
      "outputs": []
    },
    {
      "cell_type": "code",
      "source": [
        "def has_lucky_number(nums):\n",
        "    \"\"\"Return whether the given list of numbers is lucky. A lucky list contains\n",
        "    at least one number divisible by 7.\n",
        "    \"\"\"\n",
        "    for num in nums:\n",
        "        if num % 7 == 0:\n",
        "            return True\n",
        "        else:\n",
        "            return False"
      ],
      "metadata": {
        "id": "_wl3M_PX14_C"
      },
      "execution_count": null,
      "outputs": []
    },
    {
      "cell_type": "code",
      "source": [
        "def has_lucky_number(nums):\n",
        "    \"\"\"Return whether the given list of numbers is lucky. A lucky list contains\n",
        "    at least one number divisible by 7.\n",
        "    \"\"\"\n",
        "\n",
        "    return any([num % 7 == 0 for num in nums])\n"
      ],
      "metadata": {
        "id": "bY-4DAQr149J"
      },
      "execution_count": null,
      "outputs": []
    },
    {
      "cell_type": "code",
      "source": [
        "def elementwise_greater_than(L, thresh):\n",
        "    \"\"\"Return a list with the same length as L, where the value at index i is\n",
        "    True if L[i] is greater than thresh, and False otherwise.\n",
        "\n",
        "    >>> elementwise_greater_than([1, 2, 3, 4], 2)\n",
        "    [False, False, True, True]\n",
        "    \"\"\"\n",
        "    res = []\n",
        "    for ele in L:\n",
        "        res.append(ele > thresh)\n",
        "    return res"
      ],
      "metadata": {
        "id": "X1IZyABe147F"
      },
      "execution_count": null,
      "outputs": []
    },
    {
      "cell_type": "code",
      "source": [
        "def menu_is_boring(meals):\n",
        "    \"\"\"Given a list of meals served over some period of time, return True if the\n",
        "    same meal has ever been served two days in a row, and False otherwise.\n",
        "    \"\"\"\n",
        "    for i in range(len(meals)-1):\n",
        "        if meals[i] == meals[i+1]:\n",
        "            return True\n",
        "    return False"
      ],
      "metadata": {
        "id": "G9axFWdx144-"
      },
      "execution_count": null,
      "outputs": []
    },
    {
      "cell_type": "code",
      "source": [
        "def estimate_average_slot_payout(n_runs):\n",
        "    \"\"\"Run the slot machine n_runs times and return the average net profit per run.\n",
        "    Example calls (note that return value is nondeterministic!):\n",
        "    >>> estimate_average_slot_payout(1)\n",
        "    -1\n",
        "    >>> estimate_average_slot_payout(1)\n",
        "    0.5\n",
        "    \"\"\"\n",
        "    # Play slot machine n_runs times, calculate payout of each\n",
        "    payouts = [play_slot_machine()-1 for i in range(n_runs)]\n",
        "    # Calculate the average value\n",
        "    avg_payout = sum(payouts) / n_runs\n",
        "    return avg_payout"
      ],
      "metadata": {
        "id": "mjiHteG2142y"
      },
      "execution_count": null,
      "outputs": []
    },
    {
      "cell_type": "code",
      "source": [
        "def is_valid_zip(zip_code):\n",
        "    \"\"\"Returns whether the input string is a valid (5 digit) zip code\n",
        "    \"\"\"\n",
        "    return len(zip_code) == 5 and zip_code.isdigit()\n"
      ],
      "metadata": {
        "id": "5R_TG8iO1404"
      },
      "execution_count": null,
      "outputs": []
    },
    {
      "cell_type": "code",
      "source": [
        "def word_search(doc_list, keyword):\n",
        "    \"\"\"\n",
        "    Takes a list of documents (each document is a string) and a keyword.\n",
        "    Returns list of the index values into the original list for all documents\n",
        "    containing the keyword.\n",
        "\n",
        "    Example:\n",
        "    doc_list = [\"The Learn Python Challenge Casino.\", \"They bought a car\", \"Casinoville\"]\n",
        "    >>> word_search(doc_list, 'casino')\n",
        "    >>> [0]\n",
        "    \"\"\"\n",
        "    # list to hold the indices of matching documents\n",
        "    indices = []\n",
        "    # Iterate through the indices (i) and elements (doc) of documents\n",
        "    for i, doc in enumerate(doc_list):\n",
        "    # Split the string doc into a list of words (according to whitespace)\n",
        "        tokens = doc.split()\n",
        "    # Make a transformed list where we 'normalize' each word to facilitate matching.\n",
        "    # Periods and commas are removed from the end of each word, and it's set to all lowercase.\n",
        "        normalized = [token.rstrip('.,').lower() for token in tokens]\n",
        "    # Is there a match? If so, update the list of matching indices.\n",
        "        if keyword.lower() in normalized:\n",
        "            indices.append(i)\n",
        "    return indices"
      ],
      "metadata": {
        "id": "kKKrzxa414yp"
      },
      "execution_count": null,
      "outputs": []
    },
    {
      "cell_type": "code",
      "source": [
        "def multi_word_search(documents, keywords): #Kode ini mendefinisikan fungsi multi_word_search yang mencari beberapa kata kunci sekaligus dalam daftar dokumen dan mengembalikan indeks kemunculan setiap kata kunci dalam dokumen.\n",
        "    keyword_to_indices = {}\n",
        "    for keyword in keywords:\n",
        "        keyword_to_indices[keyword] = word_search(documents, keyword)\n",
        "    return keyword_to_indices"
      ],
      "metadata": {
        "id": "ESuoDsHd14wW"
      },
      "execution_count": 5,
      "outputs": []
    },
    {
      "cell_type": "code",
      "source": [],
      "metadata": {
        "id": "x6rJ4G2w85-n"
      },
      "execution_count": null,
      "outputs": []
    },
    {
      "cell_type": "code",
      "source": [
        "def prettify_graph(graph):\n",
        "    graph.set_title(\"Results of 500 slot machine pulls\")\n",
        "    # Make the y-axis begin at 0\n",
        "    graph.set_ylim(bottom=0)\n",
        "    # Label the y-axis\n",
        "    graph.set_ylabel(\"Balance\")\n",
        "    # Bonus: format the numbers on the y-axis as dollar amounts\n",
        "    # An array of the values displayed on the y-axis (150, 175, 200, etc.)\n",
        "    ticks = graph.get_yticks()\n",
        "    # Format those values into strings beginning with dollar sign\n",
        "    new_labels = ['${}'.format(int(amt)) for amt in ticks]\n",
        "    # Set the new labels\n",
        "    graph.set_yticklabels(new_labels)"
      ],
      "metadata": {
        "id": "NllHoch3857e"
      },
      "execution_count": null,
      "outputs": []
    },
    {
      "cell_type": "code",
      "source": [
        "def best_items(racers):\n",
        "    \"\"\"Given a list of racer dictionaries, return a dictionary mapping items to the number\n",
        "    of times those items were picked up by racers who finished in first place.\n",
        "    \"\"\"\n",
        "    winner_item_counts = {}\n",
        "    for i in range(len(racers)):\n",
        "        # The i'th racer dictionary\n",
        "        racer = racers[i]\n",
        "        # We're only interested in racers who finished in first\n",
        "        if racer['finish'] == 1:\n",
        "            for i in racer['items']:\n",
        "                # Add one to the count for this item (adding it to the dict if necessary)\n",
        "                if i not in winner_item_counts:\n",
        "                    winner_item_counts[i] = 0\n",
        "                winner_item_counts[i] += 1\n",
        "\n",
        "        # Data quality issues :/ Print a warning about racers with no name set. We'll take care of it later.\n",
        "        if racer['name'] is None:\n",
        "            print(\"WARNING: Encountered racer with unknown name on iteration {}/{} (racer = {})\".format(\n",
        "                i+1, len(racers), racer['name'])\n",
        "                 )\n",
        "    return winner_item_counts"
      ],
      "metadata": {
        "id": "l4FtuP3t855_"
      },
      "execution_count": null,
      "outputs": []
    },
    {
      "cell_type": "code",
      "source": [
        "sample = [\n",
        "    {'name': 'Peach', 'items': ['green shell', 'banana', 'green shell',], 'finish': 3},\n",
        "    {'name': 'Bowser', 'items': ['green shell',], 'finish': 1},\n",
        "    {'name': None, 'items': ['mushroom',], 'finish': 2},\n",
        "    {'name': 'Toad', 'items': ['green shell', 'mushroom'], 'finish': 1},\n",
        "]\n",
        "best_items(sample)"
      ],
      "metadata": {
        "colab": {
          "base_uri": "https://localhost:8080/"
        },
        "id": "VuO1jccd854x",
        "outputId": "439bcb19-3f77-43b3-c353-fe3d0d7ef140"
      },
      "execution_count": null,
      "outputs": [
        {
          "output_type": "stream",
          "name": "stdout",
          "text": [
            "WARNING: Encountered racer with unknown name on iteration 3/4 (racer = None)\n"
          ]
        },
        {
          "output_type": "execute_result",
          "data": {
            "text/plain": [
              "{'green shell': 2, 'mushroom': 1}"
            ]
          },
          "metadata": {},
          "execution_count": 54
        }
      ]
    },
    {
      "cell_type": "code",
      "source": [
        "def hand_total(hand):\n",
        "    \"\"\"Helper function to calculate the total points of a blackjack hand.\n",
        "    \"\"\"\n",
        "    total = 0\n",
        "    # Count the number of aces and deal with how to apply them at the end.\n",
        "    aces = 0\n",
        "    for card in hand:\n",
        "        if card in ['J', 'Q', 'K']:\n",
        "            total += 10\n",
        "        elif card == 'A':\n",
        "            aces += 1\n",
        "        else:\n",
        "            # Convert number cards (e.g. '7') to ints\n",
        "            total += int(card)\n",
        "    # At this point, total is the sum of this hand's cards *not counting aces*.\n",
        "\n",
        "    # Add aces, counting them as 1 for now. This is the smallest total we can make from this hand\n",
        "    total += aces\n",
        "    # \"Upgrade\" aces from 1 to 11 as long as it helps us get closer to 21\n",
        "    # without busting\n",
        "    while total + 10 <= 21 and aces > 0:\n",
        "        # Upgrade an ace from 1 to 11\n",
        "        total += 10\n",
        "        aces -= 1\n",
        "    return total\n",
        "\n",
        "def blackjack_hand_greater_than(hand_1, hand_2):\n",
        "    total_1 = hand_total(hand_1)\n",
        "    total_2 = hand_total(hand_2)\n",
        "    return total_1 <= 21 and (total_1 > total_2 or total_2 > 21)\n",
        "\n"
      ],
      "metadata": {
        "id": "MfmVMlDv853V"
      },
      "execution_count": null,
      "outputs": []
    }
  ]
}