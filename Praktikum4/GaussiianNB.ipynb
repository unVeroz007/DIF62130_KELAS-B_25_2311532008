{
  "nbformat": 4,
  "nbformat_minor": 0,
  "metadata": {
    "colab": {
      "provenance": [],
      "authorship_tag": "ABX9TyPtnSK3PWCJmoDaVUM1jz2Z",
      "include_colab_link": true
    },
    "kernelspec": {
      "name": "python3",
      "display_name": "Python 3"
    },
    "language_info": {
      "name": "python"
    }
  },
  "cells": [
    {
      "cell_type": "markdown",
      "metadata": {
        "id": "view-in-github",
        "colab_type": "text"
      },
      "source": [
        "<a href=\"https://colab.research.google.com/github/unVeroz007/DIF62130_KELAS-B_25_2311532008/blob/main/Praktikum4/GaussiianNB.ipynb\" target=\"_parent\"><img src=\"https://colab.research.google.com/assets/colab-badge.svg\" alt=\"Open In Colab\"/></a>"
      ]
    },
    {
      "cell_type": "markdown",
      "source": [
        "#Import library yang dibutuhkan"
      ],
      "metadata": {
        "id": "aBvCA4Y3UunR"
      }
    },
    {
      "cell_type": "code",
      "execution_count": 1,
      "metadata": {
        "id": "Q5xe0RyhicCa"
      },
      "outputs": [],
      "source": [
        "from sklearn.model_selection import train_test_split #Digunakan untuk membagi dataset menjadi data latih (training set) dan data uji (testing set).\n",
        "from sklearn.metrics import accuracy_score #Digunakan untuk menghitung akurasi model.\n",
        "import pandas as pd #Digunakan untuk mengelola data dalam bentuk tabel (DataFrame).\n",
        "import numpy as np #Digunakan untuk operasi matematika dan array."
      ]
    },
    {
      "cell_type": "markdown",
      "source": [
        "##Kode ini membuat dataset cuaca dalam bentuk DataFrame pandas dengan 5 kolom:\n",
        "\n",
        "Rainfall → Curah hujan (mm)\n",
        "\n",
        "Temperature → Suhu udara (°C)\n",
        "\n",
        "Humidity → Kelembaban udara (%)\n",
        "\n",
        "WindSpeed → Kecepatan angin (m/s)\n",
        "\n",
        "Play → Keputusan bermain atau tidak (Yes/No)"
      ],
      "metadata": {
        "id": "JgN5SU57VDId"
      }
    },
    {
      "cell_type": "code",
      "source": [
        "#Membuat Data dalam Bentuk Dictionary\n",
        "dataset_dict = {\n",
        "    'Rainfall': [0.0, 2.0, 7.0, 18.0, 3.0, 3.0, 0.0, 1.0, 0.0, 25.0, 0.0, 18.0, 9.0, 5.0, 0.0, 1.0, 7.0, 0.0, 0.0, 7.0, 5.0, 3.0, 0.0, 2.0, 0.0, 8.0, 4.0, 4.0],\n",
        "    'Temperature': [29.4, 26.7, 28.3, 21.1, 20.0, 18.3, 17.8, 22.2, 20.6, 23.9, 23.9, 22.2, 27.2, 21.7, 27.2, 23.3, 24.4, 25.6, 27.8, 19.4, 29.4, 22.8, 31.1, 25.0, 26.1, 26.7, 18.9, 28.9],\n",
        "    'Humidity': [85.0, 90.0, 78.0, 96.0, 80.0, 70.0, 65.0, 95.0, 70.0, 80.0, 70.0, 90.0, 75.0, 80.0, 88.0, 92.0, 85.0, 75.0, 92.0, 90.0, 85.0, 88.0, 65.0, 70.0, 60.0, 95.0, 70.0, 78.0],\n",
        "    'WindSpeed': [2.1, 21.2, 1.5, 3.3, 2.0, 17.4, 14.9, 6.9, 2.7, 1.6, 30.3, 10.9, 3.0, 7.5, 10.3, 3.0, 3.9, 21.9, 2.6, 17.3, 9.6, 1.9, 16.0, 4.6, 3.2, 8.3, 3.2, 2.2],\n",
        "    'Play': ['No', 'No', 'Yes', 'Yes', 'Yes', 'No', 'Yes', 'No', 'Yes', 'Yes', 'Yes', 'Yes', 'Yes', 'No', 'No', 'Yes', 'Yes', 'No', 'No', 'No', 'Yes', 'Yes', 'Yes', 'Yes', 'Yes', 'Yes', 'No', 'Yes']\n",
        "}\n",
        "\n",
        "df = pd.DataFrame(dataset_dict) #Mengonversi Dictionary ke DataFrame\n",
        "df.head() #Menampilkan 5 Data Pertama"
      ],
      "metadata": {
        "colab": {
          "base_uri": "https://localhost:8080/",
          "height": 206
        },
        "id": "_hjSGLqqisE5",
        "outputId": "8085887e-b393-47f8-ad84-a65afda80ae6"
      },
      "execution_count": 2,
      "outputs": [
        {
          "output_type": "execute_result",
          "data": {
            "text/plain": [
              "   Rainfall  Temperature  Humidity  WindSpeed Play\n",
              "0       0.0         29.4      85.0        2.1   No\n",
              "1       2.0         26.7      90.0       21.2   No\n",
              "2       7.0         28.3      78.0        1.5  Yes\n",
              "3      18.0         21.1      96.0        3.3  Yes\n",
              "4       3.0         20.0      80.0        2.0  Yes"
            ],
            "text/html": [
              "\n",
              "  <div id=\"df-5da16948-29ef-4785-8712-a56bf5023671\" class=\"colab-df-container\">\n",
              "    <div>\n",
              "<style scoped>\n",
              "    .dataframe tbody tr th:only-of-type {\n",
              "        vertical-align: middle;\n",
              "    }\n",
              "\n",
              "    .dataframe tbody tr th {\n",
              "        vertical-align: top;\n",
              "    }\n",
              "\n",
              "    .dataframe thead th {\n",
              "        text-align: right;\n",
              "    }\n",
              "</style>\n",
              "<table border=\"1\" class=\"dataframe\">\n",
              "  <thead>\n",
              "    <tr style=\"text-align: right;\">\n",
              "      <th></th>\n",
              "      <th>Rainfall</th>\n",
              "      <th>Temperature</th>\n",
              "      <th>Humidity</th>\n",
              "      <th>WindSpeed</th>\n",
              "      <th>Play</th>\n",
              "    </tr>\n",
              "  </thead>\n",
              "  <tbody>\n",
              "    <tr>\n",
              "      <th>0</th>\n",
              "      <td>0.0</td>\n",
              "      <td>29.4</td>\n",
              "      <td>85.0</td>\n",
              "      <td>2.1</td>\n",
              "      <td>No</td>\n",
              "    </tr>\n",
              "    <tr>\n",
              "      <th>1</th>\n",
              "      <td>2.0</td>\n",
              "      <td>26.7</td>\n",
              "      <td>90.0</td>\n",
              "      <td>21.2</td>\n",
              "      <td>No</td>\n",
              "    </tr>\n",
              "    <tr>\n",
              "      <th>2</th>\n",
              "      <td>7.0</td>\n",
              "      <td>28.3</td>\n",
              "      <td>78.0</td>\n",
              "      <td>1.5</td>\n",
              "      <td>Yes</td>\n",
              "    </tr>\n",
              "    <tr>\n",
              "      <th>3</th>\n",
              "      <td>18.0</td>\n",
              "      <td>21.1</td>\n",
              "      <td>96.0</td>\n",
              "      <td>3.3</td>\n",
              "      <td>Yes</td>\n",
              "    </tr>\n",
              "    <tr>\n",
              "      <th>4</th>\n",
              "      <td>3.0</td>\n",
              "      <td>20.0</td>\n",
              "      <td>80.0</td>\n",
              "      <td>2.0</td>\n",
              "      <td>Yes</td>\n",
              "    </tr>\n",
              "  </tbody>\n",
              "</table>\n",
              "</div>\n",
              "    <div class=\"colab-df-buttons\">\n",
              "\n",
              "  <div class=\"colab-df-container\">\n",
              "    <button class=\"colab-df-convert\" onclick=\"convertToInteractive('df-5da16948-29ef-4785-8712-a56bf5023671')\"\n",
              "            title=\"Convert this dataframe to an interactive table.\"\n",
              "            style=\"display:none;\">\n",
              "\n",
              "  <svg xmlns=\"http://www.w3.org/2000/svg\" height=\"24px\" viewBox=\"0 -960 960 960\">\n",
              "    <path d=\"M120-120v-720h720v720H120Zm60-500h600v-160H180v160Zm220 220h160v-160H400v160Zm0 220h160v-160H400v160ZM180-400h160v-160H180v160Zm440 0h160v-160H620v160ZM180-180h160v-160H180v160Zm440 0h160v-160H620v160Z\"/>\n",
              "  </svg>\n",
              "    </button>\n",
              "\n",
              "  <style>\n",
              "    .colab-df-container {\n",
              "      display:flex;\n",
              "      gap: 12px;\n",
              "    }\n",
              "\n",
              "    .colab-df-convert {\n",
              "      background-color: #E8F0FE;\n",
              "      border: none;\n",
              "      border-radius: 50%;\n",
              "      cursor: pointer;\n",
              "      display: none;\n",
              "      fill: #1967D2;\n",
              "      height: 32px;\n",
              "      padding: 0 0 0 0;\n",
              "      width: 32px;\n",
              "    }\n",
              "\n",
              "    .colab-df-convert:hover {\n",
              "      background-color: #E2EBFA;\n",
              "      box-shadow: 0px 1px 2px rgba(60, 64, 67, 0.3), 0px 1px 3px 1px rgba(60, 64, 67, 0.15);\n",
              "      fill: #174EA6;\n",
              "    }\n",
              "\n",
              "    .colab-df-buttons div {\n",
              "      margin-bottom: 4px;\n",
              "    }\n",
              "\n",
              "    [theme=dark] .colab-df-convert {\n",
              "      background-color: #3B4455;\n",
              "      fill: #D2E3FC;\n",
              "    }\n",
              "\n",
              "    [theme=dark] .colab-df-convert:hover {\n",
              "      background-color: #434B5C;\n",
              "      box-shadow: 0px 1px 3px 1px rgba(0, 0, 0, 0.15);\n",
              "      filter: drop-shadow(0px 1px 2px rgba(0, 0, 0, 0.3));\n",
              "      fill: #FFFFFF;\n",
              "    }\n",
              "  </style>\n",
              "\n",
              "    <script>\n",
              "      const buttonEl =\n",
              "        document.querySelector('#df-5da16948-29ef-4785-8712-a56bf5023671 button.colab-df-convert');\n",
              "      buttonEl.style.display =\n",
              "        google.colab.kernel.accessAllowed ? 'block' : 'none';\n",
              "\n",
              "      async function convertToInteractive(key) {\n",
              "        const element = document.querySelector('#df-5da16948-29ef-4785-8712-a56bf5023671');\n",
              "        const dataTable =\n",
              "          await google.colab.kernel.invokeFunction('convertToInteractive',\n",
              "                                                    [key], {});\n",
              "        if (!dataTable) return;\n",
              "\n",
              "        const docLinkHtml = 'Like what you see? Visit the ' +\n",
              "          '<a target=\"_blank\" href=https://colab.research.google.com/notebooks/data_table.ipynb>data table notebook</a>'\n",
              "          + ' to learn more about interactive tables.';\n",
              "        element.innerHTML = '';\n",
              "        dataTable['output_type'] = 'display_data';\n",
              "        await google.colab.output.renderOutput(dataTable, element);\n",
              "        const docLink = document.createElement('div');\n",
              "        docLink.innerHTML = docLinkHtml;\n",
              "        element.appendChild(docLink);\n",
              "      }\n",
              "    </script>\n",
              "  </div>\n",
              "\n",
              "\n",
              "<div id=\"df-1ee8cab8-7eca-48ff-8481-104a6cc88ce0\">\n",
              "  <button class=\"colab-df-quickchart\" onclick=\"quickchart('df-1ee8cab8-7eca-48ff-8481-104a6cc88ce0')\"\n",
              "            title=\"Suggest charts\"\n",
              "            style=\"display:none;\">\n",
              "\n",
              "<svg xmlns=\"http://www.w3.org/2000/svg\" height=\"24px\"viewBox=\"0 0 24 24\"\n",
              "     width=\"24px\">\n",
              "    <g>\n",
              "        <path d=\"M19 3H5c-1.1 0-2 .9-2 2v14c0 1.1.9 2 2 2h14c1.1 0 2-.9 2-2V5c0-1.1-.9-2-2-2zM9 17H7v-7h2v7zm4 0h-2V7h2v10zm4 0h-2v-4h2v4z\"/>\n",
              "    </g>\n",
              "</svg>\n",
              "  </button>\n",
              "\n",
              "<style>\n",
              "  .colab-df-quickchart {\n",
              "      --bg-color: #E8F0FE;\n",
              "      --fill-color: #1967D2;\n",
              "      --hover-bg-color: #E2EBFA;\n",
              "      --hover-fill-color: #174EA6;\n",
              "      --disabled-fill-color: #AAA;\n",
              "      --disabled-bg-color: #DDD;\n",
              "  }\n",
              "\n",
              "  [theme=dark] .colab-df-quickchart {\n",
              "      --bg-color: #3B4455;\n",
              "      --fill-color: #D2E3FC;\n",
              "      --hover-bg-color: #434B5C;\n",
              "      --hover-fill-color: #FFFFFF;\n",
              "      --disabled-bg-color: #3B4455;\n",
              "      --disabled-fill-color: #666;\n",
              "  }\n",
              "\n",
              "  .colab-df-quickchart {\n",
              "    background-color: var(--bg-color);\n",
              "    border: none;\n",
              "    border-radius: 50%;\n",
              "    cursor: pointer;\n",
              "    display: none;\n",
              "    fill: var(--fill-color);\n",
              "    height: 32px;\n",
              "    padding: 0;\n",
              "    width: 32px;\n",
              "  }\n",
              "\n",
              "  .colab-df-quickchart:hover {\n",
              "    background-color: var(--hover-bg-color);\n",
              "    box-shadow: 0 1px 2px rgba(60, 64, 67, 0.3), 0 1px 3px 1px rgba(60, 64, 67, 0.15);\n",
              "    fill: var(--button-hover-fill-color);\n",
              "  }\n",
              "\n",
              "  .colab-df-quickchart-complete:disabled,\n",
              "  .colab-df-quickchart-complete:disabled:hover {\n",
              "    background-color: var(--disabled-bg-color);\n",
              "    fill: var(--disabled-fill-color);\n",
              "    box-shadow: none;\n",
              "  }\n",
              "\n",
              "  .colab-df-spinner {\n",
              "    border: 2px solid var(--fill-color);\n",
              "    border-color: transparent;\n",
              "    border-bottom-color: var(--fill-color);\n",
              "    animation:\n",
              "      spin 1s steps(1) infinite;\n",
              "  }\n",
              "\n",
              "  @keyframes spin {\n",
              "    0% {\n",
              "      border-color: transparent;\n",
              "      border-bottom-color: var(--fill-color);\n",
              "      border-left-color: var(--fill-color);\n",
              "    }\n",
              "    20% {\n",
              "      border-color: transparent;\n",
              "      border-left-color: var(--fill-color);\n",
              "      border-top-color: var(--fill-color);\n",
              "    }\n",
              "    30% {\n",
              "      border-color: transparent;\n",
              "      border-left-color: var(--fill-color);\n",
              "      border-top-color: var(--fill-color);\n",
              "      border-right-color: var(--fill-color);\n",
              "    }\n",
              "    40% {\n",
              "      border-color: transparent;\n",
              "      border-right-color: var(--fill-color);\n",
              "      border-top-color: var(--fill-color);\n",
              "    }\n",
              "    60% {\n",
              "      border-color: transparent;\n",
              "      border-right-color: var(--fill-color);\n",
              "    }\n",
              "    80% {\n",
              "      border-color: transparent;\n",
              "      border-right-color: var(--fill-color);\n",
              "      border-bottom-color: var(--fill-color);\n",
              "    }\n",
              "    90% {\n",
              "      border-color: transparent;\n",
              "      border-bottom-color: var(--fill-color);\n",
              "    }\n",
              "  }\n",
              "</style>\n",
              "\n",
              "  <script>\n",
              "    async function quickchart(key) {\n",
              "      const quickchartButtonEl =\n",
              "        document.querySelector('#' + key + ' button');\n",
              "      quickchartButtonEl.disabled = true;  // To prevent multiple clicks.\n",
              "      quickchartButtonEl.classList.add('colab-df-spinner');\n",
              "      try {\n",
              "        const charts = await google.colab.kernel.invokeFunction(\n",
              "            'suggestCharts', [key], {});\n",
              "      } catch (error) {\n",
              "        console.error('Error during call to suggestCharts:', error);\n",
              "      }\n",
              "      quickchartButtonEl.classList.remove('colab-df-spinner');\n",
              "      quickchartButtonEl.classList.add('colab-df-quickchart-complete');\n",
              "    }\n",
              "    (() => {\n",
              "      let quickchartButtonEl =\n",
              "        document.querySelector('#df-1ee8cab8-7eca-48ff-8481-104a6cc88ce0 button');\n",
              "      quickchartButtonEl.style.display =\n",
              "        google.colab.kernel.accessAllowed ? 'block' : 'none';\n",
              "    })();\n",
              "  </script>\n",
              "</div>\n",
              "\n",
              "    </div>\n",
              "  </div>\n"
            ],
            "application/vnd.google.colaboratory.intrinsic+json": {
              "type": "dataframe",
              "variable_name": "df",
              "summary": "{\n  \"name\": \"df\",\n  \"rows\": 28,\n  \"fields\": [\n    {\n      \"column\": \"Rainfall\",\n      \"properties\": {\n        \"dtype\": \"number\",\n        \"std\": 6.270785542717221,\n        \"min\": 0.0,\n        \"max\": 25.0,\n        \"num_unique_values\": 11,\n        \"samples\": [\n          1.0,\n          0.0,\n          8.0\n        ],\n        \"semantic_type\": \"\",\n        \"description\": \"\"\n      }\n    },\n    {\n      \"column\": \"Temperature\",\n      \"properties\": {\n        \"dtype\": \"number\",\n        \"std\": 3.723902132165544,\n        \"min\": 17.8,\n        \"max\": 31.1,\n        \"num_unique_values\": 23,\n        \"samples\": [\n          27.8,\n          23.9,\n          29.4\n        ],\n        \"semantic_type\": \"\",\n        \"description\": \"\"\n      }\n    },\n    {\n      \"column\": \"Humidity\",\n      \"properties\": {\n        \"dtype\": \"number\",\n        \"std\": 10.354241520281311,\n        \"min\": 60.0,\n        \"max\": 96.0,\n        \"num_unique_values\": 12,\n        \"samples\": [\n          92.0,\n          88.0,\n          85.0\n        ],\n        \"semantic_type\": \"\",\n        \"description\": \"\"\n      }\n    },\n    {\n      \"column\": \"WindSpeed\",\n      \"properties\": {\n        \"dtype\": \"number\",\n        \"std\": 7.684956616732342,\n        \"min\": 1.5,\n        \"max\": 30.3,\n        \"num_unique_values\": 26,\n        \"samples\": [\n          2.7,\n          21.9,\n          2.1\n        ],\n        \"semantic_type\": \"\",\n        \"description\": \"\"\n      }\n    },\n    {\n      \"column\": \"Play\",\n      \"properties\": {\n        \"dtype\": \"category\",\n        \"num_unique_values\": 2,\n        \"samples\": [\n          \"Yes\",\n          \"No\"\n        ],\n        \"semantic_type\": \"\",\n        \"description\": \"\"\n      }\n    }\n  ]\n}"
            }
          },
          "metadata": {},
          "execution_count": 2
        }
      ]
    },
    {
      "cell_type": "markdown",
      "source": [
        "#Membagi dataset menjadi data latih (training set) dan data uji (testing set), lalu mencetak hasilnya.\n",
        "\n",
        "##X, y = df.drop('Play', axis=1), df['Play']\n",
        "df.drop('Play', axis=1) → Menghapus kolom \"Play\", sehingga X berisi semua fitur kecuali label.\n",
        "\n",
        "df['Play'] → Mengambil kolom \"Play\" sebagai y (label/target yang ingin diprediksi).\n",
        "\n",
        "##X_train, X_test, y_train, y_test = train_test_split(X, y, train_size=0.7, shuffle=False)\n",
        "\n",
        "train_size=0.7 → 70% data digunakan untuk pelatihan, 30% untuk pengujian.\n",
        "\n",
        "shuffle=False → Data tidak diacak, sehingga urutan tetap sama seperti di dataset awal.\n",
        "\n",
        "##Menampilkan Hasil Pembagian Data\n",
        "pd.concat([X_train, y_train], axis=1)\n",
        "→ Menggabungkan kembali X_train dan y_train agar tampil seperti dataset awal.\n",
        "\n",
        "pd.concat([X_test, y_test], axis=1)\n",
        "→ Menggabungkan kembali X_test dan y_test untuk melihat data uji.\n"
      ],
      "metadata": {
        "id": "K-VNi620Vaud"
      }
    },
    {
      "cell_type": "code",
      "source": [
        "X, y = df.drop('Play', axis=1), df['Play'] #Memisahkan Fitur (X) dan Label (y)\n",
        "\n",
        "X_train, X_test, y_train, y_test = train_test_split(X, y, train_size=0.7, shuffle=False) #Membagi Data Menjadi Data Latih dan Data Uji\n",
        "print(pd.concat([X_train, y_train], axis=1), end='\\n\\n') #Menampilkan Hasil Pembagian Data\n",
        "print(pd.concat([X_test, y_test], axis=1))"
      ],
      "metadata": {
        "colab": {
          "base_uri": "https://localhost:8080/"
        },
        "id": "ahXv9i2OkkSj",
        "outputId": "a676ab11-a7b2-44bc-ff47-6f69e69013f9"
      },
      "execution_count": 3,
      "outputs": [
        {
          "output_type": "stream",
          "name": "stdout",
          "text": [
            "    Rainfall  Temperature  Humidity  WindSpeed Play\n",
            "0        0.0         29.4      85.0        2.1   No\n",
            "1        2.0         26.7      90.0       21.2   No\n",
            "2        7.0         28.3      78.0        1.5  Yes\n",
            "3       18.0         21.1      96.0        3.3  Yes\n",
            "4        3.0         20.0      80.0        2.0  Yes\n",
            "5        3.0         18.3      70.0       17.4   No\n",
            "6        0.0         17.8      65.0       14.9  Yes\n",
            "7        1.0         22.2      95.0        6.9   No\n",
            "8        0.0         20.6      70.0        2.7  Yes\n",
            "9       25.0         23.9      80.0        1.6  Yes\n",
            "10       0.0         23.9      70.0       30.3  Yes\n",
            "11      18.0         22.2      90.0       10.9  Yes\n",
            "12       9.0         27.2      75.0        3.0  Yes\n",
            "13       5.0         21.7      80.0        7.5   No\n",
            "14       0.0         27.2      88.0       10.3   No\n",
            "15       1.0         23.3      92.0        3.0  Yes\n",
            "16       7.0         24.4      85.0        3.9  Yes\n",
            "17       0.0         25.6      75.0       21.9   No\n",
            "18       0.0         27.8      92.0        2.6   No\n",
            "\n",
            "    Rainfall  Temperature  Humidity  WindSpeed Play\n",
            "19       7.0         19.4      90.0       17.3   No\n",
            "20       5.0         29.4      85.0        9.6  Yes\n",
            "21       3.0         22.8      88.0        1.9  Yes\n",
            "22       0.0         31.1      65.0       16.0  Yes\n",
            "23       2.0         25.0      70.0        4.6  Yes\n",
            "24       0.0         26.1      60.0        3.2  Yes\n",
            "25       8.0         26.7      95.0        8.3  Yes\n",
            "26       4.0         18.9      70.0        3.2   No\n",
            "27       4.0         28.9      78.0        2.2  Yes\n"
          ]
        }
      ]
    },
    {
      "cell_type": "markdown",
      "source": [
        "#Menggunakan Power Transformation untuk menormalkan distribusi data pada X_train dan X_test agar lebih sesuai untuk model machine learning.\n",
        "\n",
        "##Mengimpor PowerTransformer dari Scikit-learn\n",
        "PowerTransformer digunakan untuk menstabilkan varians dan membuat data lebih mendekati distribusi normal.\n",
        "\n",
        "Cocok untuk data dengan distribusi skewed (miring) atau memiliki skala yang bervariasi.\n",
        "\n",
        "##Membuat Objek Power Transformer\n",
        "pt = PowerTransformer(standardize=True)\n",
        "PowerTransformer(standardize=True) → Selain melakukan transformasi, hasilnya juga distandardisasi agar memiliki mean 0 dan varians 1.\n",
        "\n",
        "##Menerapkan Transformasi pada Data Latih\n",
        "X_train_Transformer = pt.fit_transform(X_train)\n",
        "fit_transform(X_train) digunakan untuk menyesuaikan PowerTransformer dengan data latih dan mentransformasikannya.\n",
        "\n",
        "##Menerapkan Transformasi pada Data Uji\n",
        "X_test_Transformer = pt.transform(X_test)\n",
        "transform(X_test) → Menggunakan skala yang sama dari data latih untuk mentransformasikan data uji.\n",
        "\n",
        "##Menampilkan Hasil Transformasi\n",
        "print(X_train_Transformer)\n",
        "Menampilkan hasil transformasi dalam bentuk array numpy.\n",
        "\n",
        "\n",
        "\n"
      ],
      "metadata": {
        "id": "3x0-YmOhWSGb"
      }
    },
    {
      "cell_type": "code",
      "source": [
        "from sklearn.preprocessing import PowerTransformer #Import library PowerTransformer yang digunakan untuk menstabilkan varians dan membuat data lebih mendekati distribusi normal.\n",
        "\n",
        "pt = PowerTransformer(standardize=True) ##Membuat Objek Power Transformer\n",
        "X_train_Transformer = pt.fit_transform(X_train) #Menerapkan Transformasi pada Data Latih\n",
        "X_test_Transformer = pt.transform(X_test) #Menerapkan Transformasi pada Data Uji\n",
        "print(X_train_Transformer) #Menampilkan Hasil Transformasi"
      ],
      "metadata": {
        "colab": {
          "base_uri": "https://localhost:8080/"
        },
        "id": "MWOsEcWHkkO6",
        "outputId": "000089b6-11d6-4118-880f-668a53c7850a"
      },
      "execution_count": 4,
      "outputs": [
        {
          "output_type": "stream",
          "name": "stdout",
          "text": [
            "[[-1.12664679  1.70170305  0.31329077 -1.06372102]\n",
            " [ 0.05597219  0.87952169  0.88230332  1.34533274]\n",
            " [ 0.86716996  1.36597555 -0.45277799 -1.45338193]\n",
            " [ 1.43333755 -0.80381552  1.58840659 -0.52887309]\n",
            " [ 0.31508602 -1.13057488 -0.23760221 -1.12107835]\n",
            " [ 0.31508602 -1.63274871 -1.28303046  1.18531636]\n",
            " [-1.12664679 -1.77976256 -1.77644441  1.05270656]\n",
            " [-0.3427653  -0.47570144  1.46898652  0.30465822]\n",
            " [-1.12664679 -0.9525142  -1.28303046 -0.76627067]\n",
            " [ 1.6099061   0.03391302 -0.23760221 -1.37993965]\n",
            " [-1.12664679  0.03391302 -1.28303046  1.61012798]\n",
            " [ 1.43333755 -0.47570144  0.88230332  0.76671735]\n",
            " [ 1.02527709  1.03129394 -0.76988727 -0.64142374]\n",
            " [ 0.64971568 -0.62500825 -0.23760221  0.39259042]\n",
            " [-1.12664679  1.03129394  0.6525535   0.71225976]\n",
            " [-0.3427653  -0.14629167  1.11488006 -0.64142374]\n",
            " [ 0.86716996  0.18435986  0.31329077 -0.33327305]\n",
            " [-1.12664679  0.54642886 -0.76988727  1.37070938]\n",
            " [-1.12664679  1.21371571  1.11488006 -0.81103354]]\n"
          ]
        }
      ]
    },
    {
      "cell_type": "markdown",
      "source": [
        "#Menghitung probabilitas prior (prior probabilities) untuk masing-masing kelas dalam y_train, yang diperlukan dalam Naïve Bayes Classification.\n",
        "\n",
        "##Menghitung Jumlah Sampel untuk Tiap Kelas\n",
        "y_train.value_counts() → Menghitung jumlah kemunculan 'Yes' dan 'No' dalam data latih.\n",
        "\n",
        "y_train.value_counts()['Yes'] → Mengambil jumlah sampel dengan label 'Yes'.\n",
        "\n",
        "y_train.value_counts()['No'] → Mengambil jumlah sampel dengan label 'No'.\n",
        "\n",
        "Dibagi dengan len(y_train) agar mendapatkan probabilitas prior untuk setiap kelas."
      ],
      "metadata": {
        "id": "GykvSgHOXdhm"
      }
    },
    {
      "cell_type": "code",
      "source": [
        "# Calculate prior probabilities for each class\n",
        "#Menghitung Jumlah Sampel untuk Tiap Kelas\n",
        "prior_yes = y_train.value_counts()['Yes'] / len(y_train)\n",
        "prior_no = y_train.value_counts()['No'] / len(y_train)\n",
        "\n",
        "#Menampilkan Probabilitas Prior kelas 'Yes' dan 'No' dalam dataset latih.\n",
        "print(f\"Prior probability for 'Yes': {prior_yes}\")\n",
        "print(f\"Prior probability for 'No': {prior_no}\")"
      ],
      "metadata": {
        "colab": {
          "base_uri": "https://localhost:8080/"
        },
        "id": "mMu7G6GJkkMv",
        "outputId": "eeaae761-8a26-4551-b439-c5c3d8babc2f"
      },
      "execution_count": 5,
      "outputs": [
        {
          "output_type": "stream",
          "name": "stdout",
          "text": [
            "Prior probability for 'Yes': 0.5789473684210527\n",
            "Prior probability for 'No': 0.42105263157894735\n"
          ]
        }
      ]
    },
    {
      "cell_type": "code",
      "source": [
        "def calculate_class_probabilities(X_train_transformed, y_train, feature_names):\n",
        "    classes = y_train.unique()  # Mengambil semua kelas unik dalam y_train\n",
        "    equations = pd.DataFrame(index=classes, columns=feature_names)  # Membuat DataFrame kosong\n",
        "\n",
        "    for cls in classes:\n",
        "        X_class = X_train_transformed[y_train == cls]  # Filter data latih berdasarkan kelas\n",
        "\n",
        "        mean = X_class.mean(axis=0)  # Rata-rata tiap fitur dalam kelas\n",
        "        std = X_class.std(axis=0)  # Standar deviasi tiap fitur dalam kelas\n",
        "\n",
        "        # Simpan mean dan std dalam format distribusi Gaussian\n",
        "        equations.loc[cls] = [f\"N({m:.3f}, {s:.3f})\" for m, s in zip(mean, std)]\n",
        "\n",
        "    return equations\n",
        "\n",
        "# Menghitung class probabilities\n",
        "class_probabilities = calculate_class_probabilities(X_train_Transformer, y_train, X.columns)\n",
        "print(\"\\n📊 Class Probabilities:\")\n",
        "print(class_probabilities)"
      ],
      "metadata": {
        "id": "E_T-xCvhkkEc",
        "colab": {
          "base_uri": "https://localhost:8080/"
        },
        "outputId": "879f6d4f-e3d7-4023-f5c6-5a356ee816cf"
      },
      "execution_count": 6,
      "outputs": [
        {
          "output_type": "stream",
          "name": "stdout",
          "text": [
            "\n",
            "📊 Class Probabilities:\n",
            "             Rainfall       Temperature          Humidity         WindSpeed\n",
            "No   N(-0.479, 0.697)   N(0.330, 1.056)   N(0.268, 0.896)   N(0.430, 0.878)\n",
            "Yes   N(0.348, 1.042)  N(-0.240, 0.883)  N(-0.195, 1.026)  N(-0.312, 0.967)\n"
          ]
        }
      ]
    },
    {
      "cell_type": "markdown",
      "source": [
        "#Menghitung probabilitas suatu nilai (x) dalam distribusi Gaussian, berdasarkan mean (rata-rata) dan std (standar deviasi) dari data.\n",
        "\n",
        "x → Nilai yang ingin dihitung probabilitasnya\n",
        "\n",
        "mean → Rata-rata data\n",
        "\n",
        "std → Standar deviasi data"
      ],
      "metadata": {
        "id": "ipqUo8E4bJJz"
      }
    },
    {
      "cell_type": "code",
      "source": [
        "def gaussian_probability(x, mean, std):\n",
        "    \"\"\"Menghitung probabilitas Gaussian untuk nilai x dengan mean dan std tertentu.\"\"\"\n",
        "    exponent = -((x - mean) ** 2 / (2 * (std ** 2))) #Menghitung eksponen dari rumus distribusi Gaussian\n",
        "    return (1 / (std * np.sqrt(2 * np.pi))) * np.exp(exponent)"
      ],
      "metadata": {
        "id": "1gLnn5YmaeTy"
      },
      "execution_count": 15,
      "outputs": []
    },
    {
      "cell_type": "code",
      "source": [
        "def calculate_likelihood(X_test_transformed, class_probabilities):\n",
        "    #Konversi X_test_transformed ke DataFrame (jika masih berbentuk NumPy array)\n",
        "    if isinstance(X_test_transformed, np.ndarray):\n",
        "        X_test_transformed = pd.DataFrame(X_test_transformed, columns=class_probabilities.columns, index=range(X_test_transformed.shape[0]))\n",
        "    #Membuat DataFrame Kosong untuk Menyimpan Likelihood, Setiap baris → mewakili satu data uji. Setiap kolom → mewakili kelas (misalnya \"Yes\" dan \"No\").\n",
        "    likelihoods = pd.DataFrame(index=X_test_transformed.index, columns=class_probabilities.index)\n",
        "\n",
        "    #Looping untuk Menghitung Likelihood, class_likelihood = np.ones(X_test_transformed.shape[0]), Inisialisasi likelihood awal dengan nilai 1 untuk setiap data uji. Ini karena dalam Naïve Bayes, semua probabilitas fitur dikalikan.\n",
        "    for cls in class_probabilities.index:  # Loop setiap kelas ('Yes' atau 'No')\n",
        "        class_likelihood = np.ones(X_test_transformed.shape[0])  # Inisialisasi likelihood dengan 1\n",
        "        for feature in class_probabilities.columns:  # Looping untuk Setiap Fitur dan Menghitung Probabilitas Gaussian\n",
        "            mean, std = map(float, class_probabilities.loc[cls, feature].strip(\"N()\").split(\", \"))\n",
        "            class_likelihood *= gaussian_probability(X_test_transformed[feature], mean, std)\n",
        "\n",
        "        likelihoods[cls] = class_likelihood #Menyimpan Hasil Likelihood ke DataFrame\n",
        "\n",
        "    return likelihoods #Mengembalikan DataFrame Likelihood"
      ],
      "metadata": {
        "id": "IZEm8vk4tkja"
      },
      "execution_count": 16,
      "outputs": []
    },
    {
      "cell_type": "markdown",
      "source": [
        "#Menghitung probabilitas posterior untuk setiap kelas dan membuat prediksi akhir menggunakan Naïve Bayes Gaussian.\n",
        "\n",
        "posterior_yes → Probabilitas akhir bahwa data uji termasuk dalam kelas \"Yes\".\n",
        "\n",
        "posterior_no → Probabilitas akhir bahwa data uji termasuk dalam kelas \"No\".\n",
        "\n",
        "np.where(posterior_yes > posterior_no, 'Yes', 'No')\n",
        "\n",
        "Jika posterior_yes lebih besar, prediksi = \"Yes\"\n",
        "\n",
        "Jika posterior_no lebih besar, prediksi = \"No\"\n",
        "\n"
      ],
      "metadata": {
        "id": "9xOK3OazblFQ"
      }
    },
    {
      "cell_type": "code",
      "source": [
        "def predict_class(likelihoods, prior_yes, prior_no):\n",
        "    \"\"\"Menghitung probabilitas posterior dan menentukan prediksi akhir.\"\"\"\n",
        "    #Menghitung probabilitas posterior untuk kelas \"Yes\" dan \"No\":\n",
        "    posterior_yes = likelihoods['Yes'] * prior_yes\n",
        "    posterior_no = likelihoods['No'] * prior_no\n",
        "\n",
        "    predictions = np.where(posterior_yes > posterior_no, 'Yes', 'No')  # Pilih kelas dengan probabilitas lebih tinggi\n",
        "    return predictions\n",
        "\n",
        "#Menghitung prior probabilities\n",
        "#Menghitung Probabilitas Prior\n",
        "prior_yes = y_train.value_counts()['Yes'] / len(y_train)\n",
        "prior_no = y_train.value_counts()['No'] / len(y_train)\n",
        "\n",
        "#Menghitung likelihood\n",
        "likelihoods = calculate_likelihood(X_test_Transformer, class_probabilities)\n",
        "\n",
        "#Menghitung prediksi\n",
        "predictions = predict_class(likelihoods, prior_yes, prior_no)\n",
        "\n",
        "#Menampilkan hasil prediksi beserta label aslinya\n",
        "print(\"\\n📊 Final Predictions with Actual Labels:\")\n",
        "results = pd.DataFrame({'Actual': y_test.values, 'Predicted': predictions})\n",
        "print(results.to_string(index=True))"
      ],
      "metadata": {
        "colab": {
          "base_uri": "https://localhost:8080/"
        },
        "id": "u8Z0kLtsZQpM",
        "outputId": "4805b444-bd47-4c48-bf55-b8770086d8b0"
      },
      "execution_count": 17,
      "outputs": [
        {
          "output_type": "stream",
          "name": "stdout",
          "text": [
            "\n",
            "📊 Final Predictions with Actual Labels:\n",
            "  Actual Predicted\n",
            "0     No       Yes\n",
            "1    Yes        No\n",
            "2    Yes       Yes\n",
            "3    Yes        No\n",
            "4    Yes       Yes\n",
            "5    Yes       Yes\n",
            "6    Yes       Yes\n",
            "7     No       Yes\n",
            "8    Yes       Yes\n"
          ]
        }
      ]
    }
  ]
}